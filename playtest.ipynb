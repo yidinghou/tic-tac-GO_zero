{
 "cells": [
  {
   "cell_type": "code",
   "execution_count": 75,
   "metadata": {},
   "outputs": [],
   "source": [
    "import keras\n",
    "from keras.layers import Input, Dense, Concatenate\n",
    "from keras.models import Sequential, Model\n",
    "from keras.layers import Dense, Conv1D, Flatten, Conv2D, MaxPooling1D, MaxPooling2D\n",
    "from keras.optimizers import SGD\n",
    "from keras import initializers\n",
    "from keras.regularizers import l2\n",
    "\n",
    "import player\n",
    "import game\n",
    "import neural_network\n",
    "import mcts\n",
    "import pandas as pd\n",
    "import numpy as np\n",
    "import matplotlib.pyplot as plt\n",
    "import board as b\n",
    "import keras\n",
    "import tensorflow.compat.v1 as tf\n",
    "tf.disable_v2_behavior()\n",
    "\n",
    "import pandas as pd\n",
    "import numpy as np"
   ]
  },
  {
   "cell_type": "code",
   "execution_count": 2,
   "metadata": {},
   "outputs": [
    {
     "data": {
      "text/plain": [
       "array([[0., 0., 0.],\n",
       "       [0., 0., 0.],\n",
       "       [0., 0., 0.]])"
      ]
     },
     "execution_count": 2,
     "metadata": {},
     "output_type": "execute_result"
    }
   ],
   "source": [
    "board = b.Board()\n",
    "board.board"
   ]
  },
  {
   "cell_type": "code",
   "execution_count": 88,
   "metadata": {},
   "outputs": [],
   "source": [
    "value_model = keras.models.load_model('./best_value_model.tf')\n",
    "policy_model = keras.models.load_model('./best_policy_model.tf')"
   ]
  },
  {
   "cell_type": "code",
   "execution_count": 89,
   "metadata": {},
   "outputs": [
    {
     "data": {
      "text/plain": [
       "16167"
      ]
     },
     "execution_count": 89,
     "metadata": {},
     "output_type": "execute_result"
    }
   ],
   "source": [
    "tree, edge_statistics = mcts.MCTS.get_tree_and_edges()\n",
    "board = b.Board()\n",
    "\n",
    "len(edge_statistics.keys())"
   ]
  },
  {
   "cell_type": "code",
   "execution_count": 90,
   "metadata": {},
   "outputs": [],
   "source": [
    "X = []\n",
    "Y = []\n",
    "N = []\n",
    "Y_move = []\n",
    "\n",
    "X_init_state = []\n",
    "X_final_state = []\n",
    "\n",
    "keys = list(edge_statistics.keys())\n",
    "for key in keys:\n",
    "    state = edge_statistics[key]\n",
    "    initial_state, final_state = key.split(\"2\")\n",
    "    X_init_state.append(initial_state)\n",
    "    X_final_state.append(final_state)\n",
    "\n",
    "    initial_arr = board.str2arr(initial_state)\n",
    "    final_arr = board.str2arr(final_state)\n",
    "    move = final_arr - initial_arr\n",
    "    p_type = move.sum()\n",
    "    move = move*p_type\n",
    "    move = move.reshape(-1, 9)[0]\n",
    "    move = np.where(move==1)[0][0]\n",
    "\n",
    "    Y.append(state[\"Q\"])\n",
    "    N.append(state[\"N\"])\n",
    "    Y_move.append(move)\n",
    "\n",
    "X = np.array(X)\n",
    "Y = np.array(Y)\n",
    "Y_move = np.array(Y_move)\n",
    "\n",
    "df = pd.DataFrame({\n",
    "'init_state':X_init_state,\n",
    "'final_state':X_final_state,\n",
    "'move':Y_move,\n",
    "'value':Y,\n",
    "    'N':N\n",
    "})\n",
    "\n",
    "# df = df[df[\"N\"]>0]\n",
    "values_df = df[[\"final_state\", \"value\", \"N\"]]\n",
    "moves_df = df[[\"init_state\", \"move\"]]\n",
    "master_df = values_df.merge(moves_df, left_on = \"final_state\", right_on = \"init_state\", how = \"left\")\n",
    "\n",
    "state_freq = master_df[\"final_state\"].value_counts()\n",
    "inv_state_freq = sum(state_freq)/state_freq\n",
    "inv_state_freq.name = \"inv_freq\"\n",
    "inv_state_freq\n",
    "master_df = master_df.merge(inv_state_freq, left_on=\"final_state\", right_index = True)\n",
    "\n"
   ]
  },
  {
   "cell_type": "code",
   "execution_count": 6,
   "metadata": {},
   "outputs": [
    {
     "data": {
      "text/plain": [
       "276528"
      ]
     },
     "execution_count": 6,
     "metadata": {},
     "output_type": "execute_result"
    }
   ],
   "source": [
    "master_df[\"N\"].sum()"
   ]
  },
  {
   "cell_type": "code",
   "execution_count": 7,
   "metadata": {},
   "outputs": [
    {
     "data": {
      "text/plain": [
       "46506"
      ]
     },
     "execution_count": 7,
     "metadata": {},
     "output_type": "execute_result"
    }
   ],
   "source": [
    "master_df[\"final_state\"].value_counts().sum()"
   ]
  },
  {
   "cell_type": "code",
   "execution_count": 68,
   "metadata": {},
   "outputs": [
    {
     "name": "stdout",
     "output_type": "stream",
     "text": [
      "[[0.08 0.73 0.19]]\n",
      "[[0.49 0.   0.   0.05 0.   0.46 0.   0.   0.   0.  ]]\n"
     ]
    },
    {
     "data": {
      "text/plain": [
       "0.110342056"
      ]
     },
     "execution_count": 68,
     "metadata": {},
     "output_type": "execute_result"
    }
   ],
   "source": [
    "test = np.array([[  0,  -1,  1],\n",
    "                 [  0,   -1, 0],\n",
    "                 [  -1,  1,  1]] )\n",
    "\n",
    "\n",
    "n_map = {-1:\"o\", 0: \" \", 1: \"x\"}\n",
    "\n",
    "str_state = ''.join([n_map[i] for i in test.reshape(9,)])\n",
    "str_state\n",
    "\n",
    "pred, prob = model.predict(np.stack([[test]],-1))\n",
    "print(pred.round(2))\n",
    "print(prob.round(2))\n",
    "\n",
    "pred[0][2]+-pred[0][0]"
   ]
  },
  {
   "cell_type": "code",
   "execution_count": 100,
   "metadata": {},
   "outputs": [
    {
     "name": "stdout",
     "output_type": "stream",
     "text": [
      "[[0. 0. 1.]]\n",
      "[[0.   0.   0.   0.   0.   0.   0.   0.29 0.71]]\n"
     ]
    },
    {
     "data": {
      "text/plain": [
       "0.99925643"
      ]
     },
     "execution_count": 100,
     "metadata": {},
     "output_type": "execute_result"
    }
   ],
   "source": [
    "test = np.array([[ 1,   1,  1],\n",
    "                 [ 1,   -1,  -1],\n",
    "                 [-1,   0,  1]])\n",
    "\n",
    "n_map = {-1:\"o\", 0: \" \", 1: \"x\"}\n",
    "\n",
    "str_state = ''.join([n_map[i] for i in test.reshape(9,)])\n",
    "str_state\n",
    "inp = np.stack([[test]], axis=-1)\n",
    "               \n",
    "pred, prob = value_model.predict(inp), policy_model.predict(inp)\n",
    "print(pred.round(2))\n",
    "print(prob.round(2))\n",
    "\n",
    "pred[0][2]+-pred[0][0]"
   ]
  },
  {
   "cell_type": "code",
   "execution_count": 87,
   "metadata": {},
   "outputs": [
    {
     "name": "stdout",
     "output_type": "stream",
     "text": [
      "[[0.43 0.   0.56]]\n",
      "[[0. 0. 0. 0. 0. 0. 0. 0. 0. 1.]]\n"
     ]
    },
    {
     "data": {
      "text/plain": [
       "0.12905231"
      ]
     },
     "execution_count": 87,
     "metadata": {},
     "output_type": "execute_result"
    }
   ],
   "source": [
    "test = np.array([[ 1,  -1,  -1],\n",
    "                 [ 0,  -1,  1],\n",
    "                 [1,   -1,   1]])\n",
    "\n",
    "n_map = {-1:\"o\", 0: \" \", 1: \"x\"}\n",
    "\n",
    "str_state = ''.join([n_map[i] for i in test.reshape(9,)])\n",
    "str_state\n",
    "\n",
    "pred, prob = model.predict(np.stack([[test]],-1))\n",
    "print(pred.round(2))\n",
    "print(prob.round(2))\n",
    "\n",
    "pred[0][2]+-pred[0][0]"
   ]
  },
  {
   "cell_type": "code",
   "execution_count": null,
   "metadata": {},
   "outputs": [],
   "source": []
  },
  {
   "cell_type": "code",
   "execution_count": 78,
   "metadata": {},
   "outputs": [
    {
     "data": {
      "image/png": "[encoded data removed]",
      "text/plain": [
       "<Figure size 432x288 with 6 Axes>"
      ]
     },
     "metadata": {},
     "output_type": "display_data"
    },
    {
     "data": {
      "text/plain": [
       "array([[ 0.00071542, -0.00084323,  0.00106974]], dtype=float32)"
      ]
     },
     "execution_count": 78,
     "metadata": {},
     "output_type": "execute_result"
    }
   ],
   "source": [
    "filters = model.layers[1].get_weights()[0]\n",
    "f_min, f_max = filters.min(), filters.max()\n",
    "n_filters, ix = 6 , 1\n",
    "\n",
    "for i in range(n_filters):\n",
    "    # get the filter\n",
    "    f = filters[:, :, :, i]\n",
    "    # plot each channel separately\n",
    "    for j in range(1):\n",
    "        # specify subplot and turn of axis\n",
    "        ax = plt.subplot(n_filters, 3, ix)\n",
    "        ax.set_xticks([])\n",
    "        ax.set_yticks([])\n",
    "        # plot filter channel in grayscale\n",
    "        plt.imshow(f[:, :, j], cmap='RdBu', vmin = -1, vmax = 1)\n",
    "        ix += 1\n",
    "\n",
    "# show the figure\n",
    "plt.show()\n",
    "f[:, :, j]"
   ]
  },
  {
   "cell_type": "code",
   "execution_count": 79,
   "metadata": {},
   "outputs": [
    {
     "data": {
      "image/png": "[encoded data removed]",
      "text/plain": [
       "<Figure size 432x288 with 6 Axes>"
      ]
     },
     "metadata": {},
     "output_type": "display_data"
    },
    {
     "data": {
      "text/plain": [
       "array([[-1.2320834],\n",
       "       [-1.3402404],\n",
       "       [-1.1140423]], dtype=float32)"
      ]
     },
     "execution_count": 79,
     "metadata": {},
     "output_type": "execute_result"
    }
   ],
   "source": [
    "filters = model.layers[2].get_weights()[0]\n",
    "f_min, f_max = filters.min(), filters.max()\n",
    "n_filters, ix =6 , 1\n",
    "\n",
    "for i in range(n_filters):\n",
    "    # get the filter\n",
    "    f = filters[:, :, :, i]\n",
    "    # plot each channel separately\n",
    "    for j in range(1):\n",
    "        # specify subplot and turn of axis\n",
    "        ax = plt.subplot(n_filters, 3, ix)\n",
    "        ax.set_xticks([])\n",
    "        ax.set_yticks([])\n",
    "        # plot filter channel in grayscale\n",
    "        plt.imshow(f[:, :, j], cmap='RdBu', vmin = -1, vmax = 1)\n",
    "        ix += 1\n",
    "\n",
    "# show the figure\n",
    "plt.show()\n",
    "f[:, :, j]"
   ]
  },
  {
   "cell_type": "code",
   "execution_count": 80,
   "metadata": {},
   "outputs": [
    {
     "data": {
      "image/png": "[encoded data removed]",
      "text/plain": [
       "<Figure size 432x288 with 10 Axes>"
      ]
     },
     "metadata": {},
     "output_type": "display_data"
    },
    {
     "data": {
      "text/plain": [
       "array([[ 0.13586086,  0.04786732, -1.668233  ],\n",
       "       [ 0.0312494 , -0.06971234, -0.01181914],\n",
       "       [ 0.0387936 , -0.07001686, -0.07100535]], dtype=float32)"
      ]
     },
     "execution_count": 80,
     "metadata": {},
     "output_type": "execute_result"
    }
   ],
   "source": [
    "filters = model.layers[3].get_weights()[0]\n",
    "f_min, f_max = filters.min(), filters.max()\n",
    "n_filters, ix = 10 , 1\n",
    "\n",
    "for i in range(n_filters):\n",
    "    # get the filter\n",
    "    f = filters[:, :, :, i]\n",
    "    # plot each channel separately\n",
    "    for j in range(1):\n",
    "        # specify subplot and turn of axis\n",
    "        ax = plt.subplot(n_filters, 3, ix)\n",
    "        ax.set_xticks([])\n",
    "        ax.set_yticks([])\n",
    "        # plot filter channel in grayscale\n",
    "        plt.imshow(f[:, :, j], cmap='RdBu', vmin = -1, vmax = 1)\n",
    "        ix += 1\n",
    "\n",
    "# show the figure\n",
    "plt.show()\n",
    "f[:, :, j]"
   ]
  }
 ],
 "metadata": {
  "kernelspec": {
   "display_name": "Python 3",
   "language": "python",
   "name": "python3"
  },
  "language_info": {
   "codemirror_mode": {
    "name": "ipython",
    "version": 3
   },
   "file_extension": ".py",
   "mimetype": "text/x-python",
   "name": "python",
   "nbconvert_exporter": "python",
   "pygments_lexer": "ipython3",
   "version": "3.8.3"
  }
 },
 "nbformat": 4,
 "nbformat_minor": 4
}
