{
 "cells": [
  {
   "cell_type": "code",
   "execution_count": 3,
   "metadata": {},
   "outputs": [],
   "source": [
    "__author__='Florin Bora'\n",
    "\n",
    "import player\n",
    "import game\n",
    "import neural_network\n",
    "import mcts\n",
    "import board as b\n",
    "import numpy as np\n",
    "import pandas as pd\n",
    "import keras\n",
    "import matplotlib.pyplot as plt\n"
   ]
  },
  {
   "cell_type": "code",
   "execution_count": 188,
   "metadata": {},
   "outputs": [],
   "source": [
    "tree, edge_statistics = mcts.MCTS.get_tree_and_edges()"
   ]
  },
  {
   "cell_type": "code",
   "execution_count": 189,
   "metadata": {},
   "outputs": [
    {
     "data": {
      "text/plain": [
       "(23580, 7)"
      ]
     },
     "execution_count": 189,
     "metadata": {},
     "output_type": "execute_result"
    }
   ],
   "source": [
    "master_df = neural_network.create_data_from_mcts(edge_statistics)\n",
    "\n",
    "wm = lambda x: np.average(x, weights=master_df.loc[x.index, \"N\"])\n",
    "weightd_values = master_df.groupby([\"final_state\"])[\"value\"].apply(wm).reset_index()\n",
    "weightd_values.columns = [\"final_state\", \"value_weighted\"]\n",
    "master_df = master_df.merge(weightd_values, on=\"final_state\")\n",
    "master_df.shape"
   ]
  },
  {
   "cell_type": "code",
   "execution_count": 190,
   "metadata": {},
   "outputs": [
    {
     "data": {
      "text/html": [
       "<div>\n",
       "<style scoped>\n",
       "    .dataframe tbody tr th:only-of-type {\n",
       "        vertical-align: middle;\n",
       "    }\n",
       "\n",
       "    .dataframe tbody tr th {\n",
       "        vertical-align: top;\n",
       "    }\n",
       "\n",
       "    .dataframe thead th {\n",
       "        text-align: right;\n",
       "    }\n",
       "</style>\n",
       "<table border=\"1\" class=\"dataframe\">\n",
       "  <thead>\n",
       "    <tr style=\"text-align: right;\">\n",
       "      <th></th>\n",
       "      <th>final_state</th>\n",
       "      <th>value</th>\n",
       "      <th>N</th>\n",
       "      <th>init_state</th>\n",
       "      <th>move</th>\n",
       "      <th>inv_freq</th>\n",
       "      <th>value_weighted</th>\n",
       "    </tr>\n",
       "  </thead>\n",
       "  <tbody>\n",
       "    <tr>\n",
       "      <th>0</th>\n",
       "      <td>o oxx  x</td>\n",
       "      <td>0.5</td>\n",
       "      <td>4</td>\n",
       "      <td>o oxx  x</td>\n",
       "      <td>6.0</td>\n",
       "      <td>2947.5</td>\n",
       "      <td>0.75</td>\n",
       "    </tr>\n",
       "    <tr>\n",
       "      <th>1</th>\n",
       "      <td>o oxx  x</td>\n",
       "      <td>0.5</td>\n",
       "      <td>4</td>\n",
       "      <td>o oxx  x</td>\n",
       "      <td>7.0</td>\n",
       "      <td>2947.5</td>\n",
       "      <td>0.75</td>\n",
       "    </tr>\n",
       "    <tr>\n",
       "      <th>2</th>\n",
       "      <td>o oxx  x</td>\n",
       "      <td>0.5</td>\n",
       "      <td>4</td>\n",
       "      <td>o oxx  x</td>\n",
       "      <td>2.0</td>\n",
       "      <td>2947.5</td>\n",
       "      <td>0.75</td>\n",
       "    </tr>\n",
       "    <tr>\n",
       "      <th>3</th>\n",
       "      <td>o oxx  x</td>\n",
       "      <td>0.5</td>\n",
       "      <td>4</td>\n",
       "      <td>o oxx  x</td>\n",
       "      <td>0.0</td>\n",
       "      <td>2947.5</td>\n",
       "      <td>0.75</td>\n",
       "    </tr>\n",
       "    <tr>\n",
       "      <th>4</th>\n",
       "      <td>o oxx  x</td>\n",
       "      <td>1.0</td>\n",
       "      <td>4</td>\n",
       "      <td>o oxx  x</td>\n",
       "      <td>6.0</td>\n",
       "      <td>2947.5</td>\n",
       "      <td>0.75</td>\n",
       "    </tr>\n",
       "  </tbody>\n",
       "</table>\n",
       "</div>"
      ],
      "text/plain": [
       "  final_state  value  N init_state  move  inv_freq  value_weighted\n",
       "0    o oxx  x    0.5  4   o oxx  x   6.0    2947.5            0.75\n",
       "1    o oxx  x    0.5  4   o oxx  x   7.0    2947.5            0.75\n",
       "2    o oxx  x    0.5  4   o oxx  x   2.0    2947.5            0.75\n",
       "3    o oxx  x    0.5  4   o oxx  x   0.0    2947.5            0.75\n",
       "4    o oxx  x    1.0  4   o oxx  x   6.0    2947.5            0.75"
      ]
     },
     "execution_count": 190,
     "metadata": {},
     "output_type": "execute_result"
    }
   ],
   "source": [
    "master_df.head()"
   ]
  },
  {
   "cell_type": "code",
   "execution_count": 191,
   "metadata": {},
   "outputs": [
    {
     "data": {
      "text/plain": [
       "246186"
      ]
     },
     "execution_count": 191,
     "metadata": {},
     "output_type": "execute_result"
    }
   ],
   "source": [
    "master_df[\"N\"].sum()"
   ]
  },
  {
   "cell_type": "code",
   "execution_count": 4,
   "metadata": {},
   "outputs": [],
   "source": [
    "model = keras.models.load_model('./best_keras_model.tf')"
   ]
  },
  {
   "cell_type": "code",
   "execution_count": 24,
   "metadata": {
    "scrolled": true
   },
   "outputs": [
    {
     "data": {
      "text/plain": [
       "array([[-1,  0, -1],\n",
       "       [ 0,  1,  0],\n",
       "       [ 0,  0,  1]])"
      ]
     },
     "execution_count": 24,
     "metadata": {},
     "output_type": "execute_result"
    }
   ],
   "source": [
    "board = b.Board()\n",
    "board.str2arr('o o x   x')"
   ]
  },
  {
   "cell_type": "code",
   "execution_count": null,
   "metadata": {},
   "outputs": [],
   "source": []
  },
  {
   "cell_type": "code",
   "execution_count": null,
   "metadata": {},
   "outputs": [],
   "source": []
  },
  {
   "cell_type": "code",
   "execution_count": 9,
   "metadata": {},
   "outputs": [
    {
     "name": "stdout",
     "output_type": "stream",
     "text": [
      "[[1. 0. 0.]]\n"
     ]
    },
    {
     "data": {
      "text/plain": [
       "array([[0., 0., 0., 0., 0., 0., 0., 0., 0., 1.]], dtype=float32)"
      ]
     },
     "execution_count": 9,
     "metadata": {},
     "output_type": "execute_result"
    }
   ],
   "source": [
    "test = np.array([[-1.,  1.,  1.],\n",
    "          [ 1.,  0.,  1.],\n",
    "          [-1., -1., -1.]])\n",
    "\n",
    "n_map = {-1:\"o\", 0: \" \", 1: \"x\"}\n",
    "\n",
    "str_state = ''.join([n_map[i] for i in test.reshape(9,)])\n",
    "str_state\n",
    "\n",
    "pred, prob = model.predict(np.stack([[test]],-1))\n",
    "print(pred.round(2))\n",
    "prob.round(2)"
   ]
  },
  {
   "cell_type": "code",
   "execution_count": 10,
   "metadata": {},
   "outputs": [
    {
     "data": {
      "text/plain": [
       "'oxxx xooo'"
      ]
     },
     "execution_count": 10,
     "metadata": {},
     "output_type": "execute_result"
    }
   ],
   "source": [
    "str_state"
   ]
  },
  {
   "cell_type": "code",
   "execution_count": 197,
   "metadata": {},
   "outputs": [
    {
     "data": {
      "text/html": [
       "<div>\n",
       "<style scoped>\n",
       "    .dataframe tbody tr th:only-of-type {\n",
       "        vertical-align: middle;\n",
       "    }\n",
       "\n",
       "    .dataframe tbody tr th {\n",
       "        vertical-align: top;\n",
       "    }\n",
       "\n",
       "    .dataframe thead th {\n",
       "        text-align: right;\n",
       "    }\n",
       "</style>\n",
       "<table border=\"1\" class=\"dataframe\">\n",
       "  <thead>\n",
       "    <tr style=\"text-align: right;\">\n",
       "      <th></th>\n",
       "      <th>final_state</th>\n",
       "      <th>value</th>\n",
       "      <th>N</th>\n",
       "      <th>init_state</th>\n",
       "      <th>move</th>\n",
       "      <th>inv_freq</th>\n",
       "      <th>value_weighted</th>\n",
       "    </tr>\n",
       "  </thead>\n",
       "  <tbody>\n",
       "  </tbody>\n",
       "</table>\n",
       "</div>"
      ],
      "text/plain": [
       "Empty DataFrame\n",
       "Columns: [final_state, value, N, init_state, move, inv_freq, value_weighted]\n",
       "Index: []"
      ]
     },
     "execution_count": 197,
     "metadata": {},
     "output_type": "execute_result"
    }
   ],
   "source": [
    "master_df[master_df[\"final_state\"]==str_state]"
   ]
  },
  {
   "cell_type": "code",
   "execution_count": null,
   "metadata": {},
   "outputs": [],
   "source": []
  },
  {
   "cell_type": "code",
   "execution_count": 18,
   "metadata": {
    "scrolled": true
   },
   "outputs": [
    {
     "data": {
      "text/html": [
       "<div>\n",
       "<style scoped>\n",
       "    .dataframe tbody tr th:only-of-type {\n",
       "        vertical-align: middle;\n",
       "    }\n",
       "\n",
       "    .dataframe tbody tr th {\n",
       "        vertical-align: top;\n",
       "    }\n",
       "\n",
       "    .dataframe thead th {\n",
       "        text-align: right;\n",
       "    }\n",
       "</style>\n",
       "<table border=\"1\" class=\"dataframe\">\n",
       "  <thead>\n",
       "    <tr style=\"text-align: right;\">\n",
       "      <th></th>\n",
       "      <th>final_state</th>\n",
       "      <th>value</th>\n",
       "      <th>N</th>\n",
       "      <th>init_state</th>\n",
       "      <th>move</th>\n",
       "      <th>inv_freq</th>\n",
       "      <th>value_weighted</th>\n",
       "      <th>diff</th>\n",
       "    </tr>\n",
       "  </thead>\n",
       "  <tbody>\n",
       "    <tr>\n",
       "      <th>18015</th>\n",
       "      <td>xx   oo</td>\n",
       "      <td>-1.0</td>\n",
       "      <td>1</td>\n",
       "      <td>xx   oo</td>\n",
       "      <td>0.0</td>\n",
       "      <td>3194.333333</td>\n",
       "      <td>0.8</td>\n",
       "      <td>1.8</td>\n",
       "    </tr>\n",
       "    <tr>\n",
       "      <th>6743</th>\n",
       "      <td>x   ox o</td>\n",
       "      <td>-1.0</td>\n",
       "      <td>1</td>\n",
       "      <td>x   ox o</td>\n",
       "      <td>0.0</td>\n",
       "      <td>3194.333333</td>\n",
       "      <td>0.8</td>\n",
       "      <td>1.8</td>\n",
       "    </tr>\n",
       "    <tr>\n",
       "      <th>6744</th>\n",
       "      <td>x   ox o</td>\n",
       "      <td>-1.0</td>\n",
       "      <td>1</td>\n",
       "      <td>x   ox o</td>\n",
       "      <td>2.0</td>\n",
       "      <td>3194.333333</td>\n",
       "      <td>0.8</td>\n",
       "      <td>1.8</td>\n",
       "    </tr>\n",
       "    <tr>\n",
       "      <th>6745</th>\n",
       "      <td>x   ox o</td>\n",
       "      <td>-1.0</td>\n",
       "      <td>1</td>\n",
       "      <td>x   ox o</td>\n",
       "      <td>4.0</td>\n",
       "      <td>3194.333333</td>\n",
       "      <td>0.8</td>\n",
       "      <td>1.8</td>\n",
       "    </tr>\n",
       "    <tr>\n",
       "      <th>18016</th>\n",
       "      <td>xx   oo</td>\n",
       "      <td>-1.0</td>\n",
       "      <td>1</td>\n",
       "      <td>xx   oo</td>\n",
       "      <td>4.0</td>\n",
       "      <td>3194.333333</td>\n",
       "      <td>0.8</td>\n",
       "      <td>1.8</td>\n",
       "    </tr>\n",
       "  </tbody>\n",
       "</table>\n",
       "</div>"
      ],
      "text/plain": [
       "      final_state  value  N init_state  move     inv_freq  value_weighted  \\\n",
       "18015     xx   oo   -1.0  1    xx   oo   0.0  3194.333333             0.8   \n",
       "6743     x   ox o   -1.0  1   x   ox o   0.0  3194.333333             0.8   \n",
       "6744     x   ox o   -1.0  1   x   ox o   2.0  3194.333333             0.8   \n",
       "6745     x   ox o   -1.0  1   x   ox o   4.0  3194.333333             0.8   \n",
       "18016     xx   oo   -1.0  1    xx   oo   4.0  3194.333333             0.8   \n",
       "\n",
       "       diff  \n",
       "18015   1.8  \n",
       "6743    1.8  \n",
       "6744    1.8  \n",
       "6745    1.8  \n",
       "18016   1.8  "
      ]
     },
     "execution_count": 18,
     "metadata": {},
     "output_type": "execute_result"
    }
   ],
   "source": [
    "master_df[\"diff\"] = master_df[\"value_weighted\"] - master_df[\"value\"]\n",
    "master_df.sort_values(\"diff\",inplace=True)\n",
    "master_df.tail()"
   ]
  },
  {
   "cell_type": "code",
   "execution_count": null,
   "metadata": {},
   "outputs": [],
   "source": [
    "master_df.tail(10).iloc[0]"
   ]
  },
  {
   "cell_type": "code",
   "execution_count": null,
   "metadata": {},
   "outputs": [],
   "source": [
    "master_df.groupby()"
   ]
  },
  {
   "cell_type": "code",
   "execution_count": null,
   "metadata": {},
   "outputs": [],
   "source": [
    "data_sample = master_df.sample(n=1000, weights='inv_freq', replace=True)\n",
    "board = b.Board()\n",
    "\n",
    "X = np.array(data_sample[\"final_state\"])\n",
    "X = np.array([board.str2arr(state) for state in X])\n",
    "\n",
    "Y = np.array(data_sample[\"value\"])\n",
    "# convert policy move index to one hot array\n",
    "Y_policy = np.eye(10)[np.array(data_sample[\"move\"].values).astype(int)]\n",
    "\n",
    "nb_classes = 3\n",
    "targets = (Y+1)\n",
    "one_hot_targets = np.eye(nb_classes)[targets.astype(int)]\n",
    "\n",
    "X_clean = X\n",
    "Y_value = Y"
   ]
  },
  {
   "cell_type": "code",
   "execution_count": null,
   "metadata": {},
   "outputs": [],
   "source": [
    "X_final = np.stack([X_clean], axis=-1)\n",
    "\n",
    "model.fit(X_final, [one_hot_targets, Y_policy], epochs=10, verbose=1)"
   ]
  },
  {
   "cell_type": "code",
   "execution_count": 5,
   "metadata": {},
   "outputs": [
    {
     "data": {
      "image/png": "[encoded data removed]",
      "text/plain": [
       "<Figure size 432x288 with 6 Axes>"
      ]
     },
     "metadata": {},
     "output_type": "display_data"
    },
    {
     "data": {
      "text/plain": [
       "array([[-1.2273189, -1.0924002, -1.5413569]], dtype=float32)"
      ]
     },
     "execution_count": 5,
     "metadata": {},
     "output_type": "execute_result"
    }
   ],
   "source": [
    "filters = model.layers[1].get_weights()[0]\n",
    "f_min, f_max = filters.min(), filters.max()\n",
    "n_filters, ix = 6 , 1\n",
    "\n",
    "for i in range(n_filters):\n",
    "    # get the filter\n",
    "    f = filters[:, :, :, i]\n",
    "    # plot each channel separately\n",
    "    for j in range(1):\n",
    "        # specify subplot and turn of axis\n",
    "        ax = plt.subplot(n_filters, 3, ix)\n",
    "        ax.set_xticks([])\n",
    "        ax.set_yticks([])\n",
    "        # plot filter channel in grayscale\n",
    "        plt.imshow(f[:, :, j], cmap='RdBu', vmin = -1, vmax = 1)\n",
    "        ix += 1\n",
    "\n",
    "# show the figure\n",
    "plt.show()\n",
    "f[:, :, j]"
   ]
  },
  {
   "cell_type": "code",
   "execution_count": 6,
   "metadata": {},
   "outputs": [
    {
     "data": {
      "image/png": "[encoded data removed]",
      "text/plain": [
       "<Figure size 432x288 with 6 Axes>"
      ]
     },
     "metadata": {},
     "output_type": "display_data"
    },
    {
     "data": {
      "text/plain": [
       "array([[ 0.60689455],\n",
       "       [-0.14845832],\n",
       "       [-1.763241  ]], dtype=float32)"
      ]
     },
     "execution_count": 6,
     "metadata": {},
     "output_type": "execute_result"
    }
   ],
   "source": [
    "filters = model.layers[2].get_weights()[0]\n",
    "f_min, f_max = filters.min(), filters.max()\n",
    "n_filters, ix = 6 , 1\n",
    "\n",
    "for i in range(n_filters):\n",
    "    # get the filter\n",
    "    f = filters[:, :, :, i]\n",
    "    # plot each channel separately\n",
    "    for j in range(1):\n",
    "        # specify subplot and turn of axis\n",
    "        ax = plt.subplot(n_filters, 3, ix)\n",
    "        ax.set_xticks([])\n",
    "        ax.set_yticks([])\n",
    "        # plot filter channel in grayscale\n",
    "        plt.imshow(f[:, :, j], cmap='RdBu', vmin = -1, vmax = 1)\n",
    "        ix += 1\n",
    "\n",
    "# show the figure\n",
    "plt.show()\n",
    "f[:, :, j]"
   ]
  },
  {
   "cell_type": "code",
   "execution_count": 7,
   "metadata": {},
   "outputs": [
    {
     "data": {
      "image/png": "[encoded data removed]",
      "text/plain": [
       "<Figure size 432x288 with 10 Axes>"
      ]
     },
     "metadata": {},
     "output_type": "display_data"
    },
    {
     "data": {
      "text/plain": [
       "array([[ 0.12474504,  0.10184989,  0.0177197 ],\n",
       "       [-0.39531317, -0.05994064, -0.15053509],\n",
       "       [-0.14479466, -0.24550739,  2.3482192 ]], dtype=float32)"
      ]
     },
     "execution_count": 7,
     "metadata": {},
     "output_type": "execute_result"
    }
   ],
   "source": [
    "filters = model.layers[3].get_weights()[0]\n",
    "f_min, f_max = filters.min(), filters.max()\n",
    "n_filters, ix = 10 , 1\n",
    "\n",
    "for i in range(n_filters):\n",
    "    # get the filter\n",
    "    f = filters[:, :, :, i]\n",
    "    # plot each channel separately\n",
    "    for j in range(1):\n",
    "        # specify subplot and turn of axis\n",
    "        ax = plt.subplot(n_filters, 3, ix)\n",
    "        ax.set_xticks([])\n",
    "        ax.set_yticks([])\n",
    "        # plot filter channel in grayscale\n",
    "        plt.imshow(f[:, :, j], cmap='RdBu', vmin = -1, vmax = 1)\n",
    "        ix += 1\n",
    "\n",
    "# show the figure\n",
    "plt.show()\n",
    "f[:, :, j]"
   ]
  }
 ],
 "metadata": {
  "kernelspec": {
   "display_name": "Python 3",
   "language": "python",
   "name": "python3"
  },
  "language_info": {
   "codemirror_mode": {
    "name": "ipython",
    "version": 3
   },
   "file_extension": ".py",
   "mimetype": "text/x-python",
   "name": "python",
   "nbconvert_exporter": "python",
   "pygments_lexer": "ipython3",
   "version": "3.8.3"
  }
 },
 "nbformat": 4,
 "nbformat_minor": 4
}
