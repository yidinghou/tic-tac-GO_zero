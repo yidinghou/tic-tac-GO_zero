{
 "cells": [
  {
   "cell_type": "code",
   "execution_count": 223,
   "metadata": {},
   "outputs": [],
   "source": [
    "import player\n",
    "import game\n",
    "import neural_network\n",
    "import mcts\n",
    "import pandas as pd\n",
    "import numpy as np\n",
    "import matplotlib.pyplot as plt\n",
    "import board as b\n",
    "import keras\n",
    "import tensorflow.compat.v1 as tf\n",
    "tf.disable_v2_behavior()\n",
    "\n",
    "import pandas as pd\n",
    "import numpy as np"
   ]
  },
  {
   "cell_type": "code",
   "execution_count": 224,
   "metadata": {},
   "outputs": [
    {
     "data": {
      "text/plain": [
       "16167"
      ]
     },
     "execution_count": 224,
     "metadata": {},
     "output_type": "execute_result"
    }
   ],
   "source": [
    "tree, edge_statistics = mcts.MCTS.get_tree_and_edges()\n",
    "board = b.Board()\n",
    "\n",
    "len(edge_statistics.keys())"
   ]
  },
  {
   "cell_type": "code",
   "execution_count": 225,
   "metadata": {},
   "outputs": [],
   "source": [
    "X_value = []\n",
    "X_policy = []\n",
    "\n",
    "Y_value = []\n",
    "Y_policy = []\n",
    "N = []\n",
    "\n",
    "X_init_state = []\n",
    "X_final_state = []\n",
    "\n",
    "keys = list(edge_statistics.keys())\n",
    "\n",
    "for key in keys:\n",
    "    state = edge_statistics[key]\n",
    "    initial_state, final_state = key.split(\"2\")\n",
    "    X_init_state.append(initial_state)\n",
    "    X_final_state.append(final_state)\n",
    "\n",
    "    initial_arr = board.str2arr(initial_state)\n",
    "    final_arr = board.str2arr(final_state)\n",
    "    move = final_arr - initial_arr\n",
    "    p_type = move.sum()\n",
    "    move = move*p_type\n",
    "    move = move.reshape(-1, 9)[0]\n",
    "    move = np.where(move==1)[0][0]\n",
    "\n",
    "    N.append(state[\"N\"])\n",
    "    Y_value.append(state[\"Q\"])\n",
    "    Y_policy.append(move)"
   ]
  },
  {
   "cell_type": "code",
   "execution_count": 226,
   "metadata": {},
   "outputs": [],
   "source": [
    "policy_df = pd.DataFrame({\n",
    "    'init_state':X_init_state,\n",
    "    'move':Y_policy,\n",
    "    'N':N\n",
    "})\n",
    "\n",
    "policy_master = policy_df[policy_df[\"N\"]>0]\n",
    "\n",
    "state_freq = policy_master[\"init_state\"].value_counts()\n",
    "inv_state_freq = sum(state_freq)/state_freq\n",
    "inv_state_freq.name = \"inv_freq\"\n",
    "inv_state_freq\n",
    "policy_master = policy_master.merge(inv_state_freq, left_on=\"init_state\", right_index = True)\n",
    "\n",
    "\n",
    "value_df = pd.DataFrame({\n",
    "    'state':X_final_state,\n",
    "    'value': Y_value,\n",
    "    'N': N\n",
    "})\n",
    "\n",
    "value_master = value_df[value_df[\"N\"]>0]\n",
    "\n",
    "state_freq = value_master[\"state\"].value_counts()\n",
    "inv_state_freq = sum(state_freq)/state_freq\n",
    "inv_state_freq.name = \"inv_freq\"\n",
    "inv_state_freq\n",
    "value_master = value_master.merge(inv_state_freq, left_on=\"state\", right_index = True)"
   ]
  },
  {
   "cell_type": "code",
   "execution_count": 256,
   "metadata": {},
   "outputs": [
    {
     "data": {
      "text/html": [
       "<div>\n",
       "<style scoped>\n",
       "    .dataframe tbody tr th:only-of-type {\n",
       "        vertical-align: middle;\n",
       "    }\n",
       "\n",
       "    .dataframe tbody tr th {\n",
       "        vertical-align: top;\n",
       "    }\n",
       "\n",
       "    .dataframe thead th {\n",
       "        text-align: right;\n",
       "    }\n",
       "</style>\n",
       "<table border=\"1\" class=\"dataframe\">\n",
       "  <thead>\n",
       "    <tr style=\"text-align: right;\">\n",
       "      <th></th>\n",
       "      <th>state</th>\n",
       "      <th>value</th>\n",
       "      <th>N</th>\n",
       "      <th>inv_freq</th>\n",
       "    </tr>\n",
       "  </thead>\n",
       "  <tbody>\n",
       "    <tr>\n",
       "      <th>0</th>\n",
       "      <td>x   xoo</td>\n",
       "      <td>0.714286</td>\n",
       "      <td>7</td>\n",
       "      <td>5301.5</td>\n",
       "    </tr>\n",
       "    <tr>\n",
       "      <th>1680</th>\n",
       "      <td>x   xoo</td>\n",
       "      <td>-1.000000</td>\n",
       "      <td>12</td>\n",
       "      <td>5301.5</td>\n",
       "    </tr>\n",
       "    <tr>\n",
       "      <th>1</th>\n",
       "      <td>x  ox  o</td>\n",
       "      <td>1.000000</td>\n",
       "      <td>4</td>\n",
       "      <td>5301.5</td>\n",
       "    </tr>\n",
       "    <tr>\n",
       "      <th>2368</th>\n",
       "      <td>x  ox  o</td>\n",
       "      <td>0.928571</td>\n",
       "      <td>14</td>\n",
       "      <td>5301.5</td>\n",
       "    </tr>\n",
       "    <tr>\n",
       "      <th>3</th>\n",
       "      <td>o xxxo ox</td>\n",
       "      <td>0.857143</td>\n",
       "      <td>7</td>\n",
       "      <td>5301.5</td>\n",
       "    </tr>\n",
       "  </tbody>\n",
       "</table>\n",
       "</div>"
      ],
      "text/plain": [
       "          state     value   N  inv_freq\n",
       "0      x   xoo   0.714286   7    5301.5\n",
       "1680   x   xoo  -1.000000  12    5301.5\n",
       "1     x  ox  o   1.000000   4    5301.5\n",
       "2368  x  ox  o   0.928571  14    5301.5\n",
       "3     o xxxo ox  0.857143   7    5301.5"
      ]
     },
     "execution_count": 256,
     "metadata": {},
     "output_type": "execute_result"
    }
   ],
   "source": [
    "value_master"
   ]
  },
  {
   "cell_type": "code",
   "execution_count": 227,
   "metadata": {},
   "outputs": [],
   "source": [
    "value_sample = value_master.sample(n=10000, weights='inv_freq', replace=True)\n",
    "X_value = np.array(value_sample[\"state\"]) \n",
    "X_value = np.array([board.str2arr(state) for state in X_value])\n",
    "Y_value = np.array(value_sample[\"value\"])\n",
    "nb_classes = 3\n",
    "targets = (Y_value+1).round()\n",
    "Y_value_one_hot = np.eye(3)[targets.astype(int)]\n",
    "\n",
    "policy_sample = policy_master.sample(n=10000, weights='inv_freq', replace=True)\n",
    "X_policy = np.array(policy_sample[\"init_state\"]) \n",
    "X_policy = np.array([board.str2arr(state) for state in X_policy])\n",
    "Y_policy = np.array(policy_sample[\"move\"])\n",
    "nb_classes = 9\n",
    "targets = (Y_policy)\n",
    "Y_policy_one_hot = np.eye(nb_classes)[targets.astype(int)]"
   ]
  },
  {
   "cell_type": "code",
   "execution_count": 228,
   "metadata": {},
   "outputs": [],
   "source": [
    "import keras\n",
    "from keras.layers import Input, Dense, Concatenate\n",
    "from keras.models import Sequential, Model\n",
    "from keras.layers import Dense, Conv1D, Flatten, Conv2D, MaxPooling1D, MaxPooling2D\n",
    "from keras.optimizers import SGD\n",
    "from keras import initializers\n",
    "from keras.regularizers import l2\n",
    "\n",
    "class NBatchLogger(keras.callbacks.Callback):\n",
    "    def __init__(self, n):\n",
    "        '''\n",
    "        display: Number of batches to wait before outputting loss\n",
    "        '''\n",
    "        self.n = n\n",
    "\n",
    "    def on_epoch_end(self, epoch, logs=None):\n",
    "        if ((epoch+1)%(self.n))==0:\n",
    "            keys = list(logs.keys())\n",
    "            print(\"acc: {}\".format(logs[\"acc\"]))"
   ]
  },
  {
   "cell_type": "code",
   "execution_count": 229,
   "metadata": {},
   "outputs": [],
   "source": [
    "value_inp = Input(shape=(3,3,1))\n",
    "\n",
    "x1_value = Conv2D(filters = 6, kernel_size=(1,3), activation='relu', \n",
    "            kernel_regularizer=l2(0.0005),\n",
    "            kernel_initializer=initializers.RandomNormal(stddev=0.1, mean=0),\n",
    "            input_shape=(3,3,1))(value_inp)\n",
    "\n",
    "x2_value = Conv2D(filters = 6, kernel_size=(3,1), activation='relu', \n",
    "            kernel_regularizer=l2(0.0005),\n",
    "            kernel_initializer=initializers.RandomNormal(stddev=0.1, mean=0),\n",
    "            input_shape=(3,3,1))(value_inp)\n",
    "\n",
    "x3_value = Conv2D(filters = 10, kernel_size=(3,3), activation='relu', \n",
    "            kernel_regularizer=l2(0.0005),\n",
    "            kernel_initializer=initializers.RandomNormal(stddev=0.1, mean=0),\n",
    "            input_shape=(3,3,1))(value_inp)\n",
    "\n",
    "x1_value = MaxPooling2D((3, 1))(x1_value)\n",
    "x2_value = MaxPooling2D((1, 3))(x2_value)\n",
    "x3_value = MaxPooling2D((1,1))(x3_value)\n",
    "\n",
    "\n",
    "x_value = Concatenate()([x1_value, x2_value, x3_value])\n",
    "x_value = Flatten()(x_value)\n",
    "\n",
    "value_head = Dense(10,  activation='relu')(x_value)\n",
    "value_head = Dense(3,  activation='softmax', name = \"V\")(value_head)\n",
    "\n",
    "value_model = Model(inputs=value_inp, outputs=value_head)\n",
    "\n",
    "opt = SGD(lr=0.1, momentum=0.09)\n",
    "value_model.compile(optimizer=opt, \n",
    "              loss={\"V\":'categorical_crossentropy'},\n",
    "              metrics=['acc'])"
   ]
  },
  {
   "cell_type": "code",
   "execution_count": 230,
   "metadata": {},
   "outputs": [],
   "source": [
    "policy_inp = Input(shape=(3,3,1))\n",
    "\n",
    "x1_policy = Conv2D(filters = 6, kernel_size=(1,3), activation='relu', \n",
    "            kernel_regularizer=l2(0.0005),\n",
    "            kernel_initializer=initializers.RandomNormal(stddev=0.1, mean=0),\n",
    "            input_shape=(3,3,1))(policy_inp)\n",
    "\n",
    "x2_policy = Conv2D(filters = 6, kernel_size=(3,1), activation='relu', \n",
    "            kernel_regularizer=l2(0.0005),\n",
    "            kernel_initializer=initializers.RandomNormal(stddev=0.1, mean=0),\n",
    "            input_shape=(3,3,1))(policy_inp)\n",
    "\n",
    "x3_policy = Conv2D(filters = 10, kernel_size=(3,3), activation='relu', \n",
    "            kernel_regularizer=l2(0.0005),\n",
    "            kernel_initializer=initializers.RandomNormal(stddev=0.1, mean=0),\n",
    "            input_shape=(3,3,1))(policy_inp)\n",
    "\n",
    "x1_policy = MaxPooling2D((3, 1))(x1_policy)\n",
    "x2_policy = MaxPooling2D((1, 3))(x2_policy)\n",
    "x3_policy = MaxPooling2D((1,1))(x3_policy)\n",
    "\n",
    "\n",
    "x_policy = Concatenate()([x1_policy, x2_policy, x3_policy])\n",
    "x_policy = Flatten()(x_policy)\n",
    "\n",
    "policy_head = Dense(100,  activation='relu')(x_policy)\n",
    "policy_head = Dense(9,  activation='softmax', name = \"P\")(policy_head)\n",
    "\n",
    "policy_model = Model(inputs=policy_inp, outputs=policy_head)\n",
    "\n",
    "opt = SGD(lr=0.1, momentum=0.09)\n",
    "policy_model.compile(optimizer=opt, \n",
    "              loss={\"P\":'categorical_crossentropy'},\n",
    "              metrics=['acc'])"
   ]
  },
  {
   "cell_type": "code",
   "execution_count": 254,
   "metadata": {
    "scrolled": true
   },
   "outputs": [
    {
     "name": "stdout",
     "output_type": "stream",
     "text": [
      "acc: 0.7074999809265137\n",
      "acc: 0.7069000005722046\n",
      "acc: 0.7098000049591064\n",
      "acc: 0.7148000001907349\n",
      "acc: 0.7084000110626221\n"
     ]
    },
    {
     "ename": "KeyboardInterrupt",
     "evalue": "",
     "output_type": "error",
     "traceback": [
      "\u001b[0;31m---------------------------------------------------------------------------\u001b[0m",
      "\u001b[0;31mKeyboardInterrupt\u001b[0m                         Traceback (most recent call last)",
      "\u001b[0;32m<ipython-input-254-85e796357e55>\u001b[0m in \u001b[0;36m<module>\u001b[0;34m\u001b[0m\n\u001b[1;32m      1\u001b[0m \u001b[0;32mfor\u001b[0m \u001b[0mi\u001b[0m \u001b[0;32min\u001b[0m \u001b[0mrange\u001b[0m\u001b[0;34m(\u001b[0m\u001b[0;36m10\u001b[0m\u001b[0;34m)\u001b[0m\u001b[0;34m:\u001b[0m\u001b[0;34m\u001b[0m\u001b[0;34m\u001b[0m\u001b[0m\n\u001b[1;32m      2\u001b[0m     \u001b[0mX_inp\u001b[0m \u001b[0;34m=\u001b[0m \u001b[0mnp\u001b[0m\u001b[0;34m.\u001b[0m\u001b[0mstack\u001b[0m\u001b[0;34m(\u001b[0m\u001b[0;34m[\u001b[0m\u001b[0mX_value\u001b[0m\u001b[0;34m]\u001b[0m\u001b[0;34m,\u001b[0m \u001b[0maxis\u001b[0m\u001b[0;34m=\u001b[0m\u001b[0;34m-\u001b[0m\u001b[0;36m1\u001b[0m\u001b[0;34m)\u001b[0m\u001b[0;34m\u001b[0m\u001b[0;34m\u001b[0m\u001b[0m\n\u001b[0;32m----> 3\u001b[0;31m     history = value_model.fit(X_inp, Y_value_one_hot, epochs=10, verbose = 0, \n\u001b[0m\u001b[1;32m      4\u001b[0m                         callbacks = [NBatchLogger(10)])\n\u001b[1;32m      5\u001b[0m \u001b[0;34m\u001b[0m\u001b[0m\n",
      "\u001b[0;32m~/opt/anaconda3/lib/python3.8/site-packages/tensorflow/python/keras/engine/training_v1.py\u001b[0m in \u001b[0;36mfit\u001b[0;34m(self, x, y, batch_size, epochs, verbose, callbacks, validation_split, validation_data, shuffle, class_weight, sample_weight, initial_epoch, steps_per_epoch, validation_steps, validation_freq, max_queue_size, workers, use_multiprocessing, **kwargs)\u001b[0m\n\u001b[1;32m    787\u001b[0m \u001b[0;34m\u001b[0m\u001b[0m\n\u001b[1;32m    788\u001b[0m     \u001b[0mfunc\u001b[0m \u001b[0;34m=\u001b[0m \u001b[0mself\u001b[0m\u001b[0;34m.\u001b[0m\u001b[0m_select_training_loop\u001b[0m\u001b[0;34m(\u001b[0m\u001b[0mx\u001b[0m\u001b[0;34m)\u001b[0m\u001b[0;34m\u001b[0m\u001b[0;34m\u001b[0m\u001b[0m\n\u001b[0;32m--> 789\u001b[0;31m     return func.fit(\n\u001b[0m\u001b[1;32m    790\u001b[0m         \u001b[0mself\u001b[0m\u001b[0;34m,\u001b[0m\u001b[0;34m\u001b[0m\u001b[0;34m\u001b[0m\u001b[0m\n\u001b[1;32m    791\u001b[0m         \u001b[0mx\u001b[0m\u001b[0;34m=\u001b[0m\u001b[0mx\u001b[0m\u001b[0;34m,\u001b[0m\u001b[0;34m\u001b[0m\u001b[0;34m\u001b[0m\u001b[0m\n",
      "\u001b[0;32m~/opt/anaconda3/lib/python3.8/site-packages/tensorflow/python/keras/engine/training_arrays_v1.py\u001b[0m in \u001b[0;36mfit\u001b[0;34m(self, model, x, y, batch_size, epochs, verbose, callbacks, validation_split, validation_data, shuffle, class_weight, sample_weight, initial_epoch, steps_per_epoch, validation_steps, validation_freq, **kwargs)\u001b[0m\n\u001b[1;32m    645\u001b[0m       \u001b[0mval_x\u001b[0m\u001b[0;34m,\u001b[0m \u001b[0mval_y\u001b[0m\u001b[0;34m,\u001b[0m \u001b[0mval_sample_weights\u001b[0m \u001b[0;34m=\u001b[0m \u001b[0;32mNone\u001b[0m\u001b[0;34m,\u001b[0m \u001b[0;32mNone\u001b[0m\u001b[0;34m,\u001b[0m \u001b[0;32mNone\u001b[0m\u001b[0;34m\u001b[0m\u001b[0;34m\u001b[0m\u001b[0m\n\u001b[1;32m    646\u001b[0m \u001b[0;34m\u001b[0m\u001b[0m\n\u001b[0;32m--> 647\u001b[0;31m     return fit_loop(\n\u001b[0m\u001b[1;32m    648\u001b[0m         \u001b[0mmodel\u001b[0m\u001b[0;34m,\u001b[0m\u001b[0;34m\u001b[0m\u001b[0;34m\u001b[0m\u001b[0m\n\u001b[1;32m    649\u001b[0m         \u001b[0minputs\u001b[0m\u001b[0;34m=\u001b[0m\u001b[0mx\u001b[0m\u001b[0;34m,\u001b[0m\u001b[0;34m\u001b[0m\u001b[0;34m\u001b[0m\u001b[0m\n",
      "\u001b[0;32m~/opt/anaconda3/lib/python3.8/site-packages/tensorflow/python/keras/engine/training_arrays_v1.py\u001b[0m in \u001b[0;36mmodel_iteration\u001b[0;34m(model, inputs, targets, sample_weights, batch_size, epochs, verbose, callbacks, val_inputs, val_targets, val_sample_weights, shuffle, initial_epoch, steps_per_epoch, validation_steps, validation_freq, mode, validation_in_fit, prepared_feed_values_from_dataset, steps_name, **kwargs)\u001b[0m\n\u001b[1;32m    382\u001b[0m \u001b[0;34m\u001b[0m\u001b[0m\n\u001b[1;32m    383\u001b[0m         \u001b[0;31m# Get outputs.\u001b[0m\u001b[0;34m\u001b[0m\u001b[0;34m\u001b[0m\u001b[0;34m\u001b[0m\u001b[0m\n\u001b[0;32m--> 384\u001b[0;31m         \u001b[0mbatch_outs\u001b[0m \u001b[0;34m=\u001b[0m \u001b[0mf\u001b[0m\u001b[0;34m(\u001b[0m\u001b[0mins_batch\u001b[0m\u001b[0;34m)\u001b[0m\u001b[0;34m\u001b[0m\u001b[0;34m\u001b[0m\u001b[0m\n\u001b[0m\u001b[1;32m    385\u001b[0m         \u001b[0;32mif\u001b[0m \u001b[0;32mnot\u001b[0m \u001b[0misinstance\u001b[0m\u001b[0;34m(\u001b[0m\u001b[0mbatch_outs\u001b[0m\u001b[0;34m,\u001b[0m \u001b[0mlist\u001b[0m\u001b[0;34m)\u001b[0m\u001b[0;34m:\u001b[0m\u001b[0;34m\u001b[0m\u001b[0;34m\u001b[0m\u001b[0m\n\u001b[1;32m    386\u001b[0m           \u001b[0mbatch_outs\u001b[0m \u001b[0;34m=\u001b[0m \u001b[0;34m[\u001b[0m\u001b[0mbatch_outs\u001b[0m\u001b[0;34m]\u001b[0m\u001b[0;34m\u001b[0m\u001b[0;34m\u001b[0m\u001b[0m\n",
      "\u001b[0;32m~/opt/anaconda3/lib/python3.8/site-packages/tensorflow/python/keras/backend.py\u001b[0m in \u001b[0;36m__call__\u001b[0;34m(self, inputs)\u001b[0m\n\u001b[1;32m   3954\u001b[0m       \u001b[0mself\u001b[0m\u001b[0;34m.\u001b[0m\u001b[0m_make_callable\u001b[0m\u001b[0;34m(\u001b[0m\u001b[0mfeed_arrays\u001b[0m\u001b[0;34m,\u001b[0m \u001b[0mfeed_symbols\u001b[0m\u001b[0;34m,\u001b[0m \u001b[0msymbol_vals\u001b[0m\u001b[0;34m,\u001b[0m \u001b[0msession\u001b[0m\u001b[0;34m)\u001b[0m\u001b[0;34m\u001b[0m\u001b[0;34m\u001b[0m\u001b[0m\n\u001b[1;32m   3955\u001b[0m \u001b[0;34m\u001b[0m\u001b[0m\n\u001b[0;32m-> 3956\u001b[0;31m     fetched = self._callable_fn(*array_vals,\n\u001b[0m\u001b[1;32m   3957\u001b[0m                                 run_metadata=self.run_metadata)\n\u001b[1;32m   3958\u001b[0m     \u001b[0mself\u001b[0m\u001b[0;34m.\u001b[0m\u001b[0m_call_fetch_callbacks\u001b[0m\u001b[0;34m(\u001b[0m\u001b[0mfetched\u001b[0m\u001b[0;34m[\u001b[0m\u001b[0;34m-\u001b[0m\u001b[0mlen\u001b[0m\u001b[0;34m(\u001b[0m\u001b[0mself\u001b[0m\u001b[0;34m.\u001b[0m\u001b[0m_fetches\u001b[0m\u001b[0;34m)\u001b[0m\u001b[0;34m:\u001b[0m\u001b[0;34m]\u001b[0m\u001b[0;34m)\u001b[0m\u001b[0;34m\u001b[0m\u001b[0;34m\u001b[0m\u001b[0m\n",
      "\u001b[0;32m~/opt/anaconda3/lib/python3.8/site-packages/tensorflow/python/client/session.py\u001b[0m in \u001b[0;36m__call__\u001b[0;34m(self, *args, **kwargs)\u001b[0m\n\u001b[1;32m   1478\u001b[0m       \u001b[0;32mtry\u001b[0m\u001b[0;34m:\u001b[0m\u001b[0;34m\u001b[0m\u001b[0;34m\u001b[0m\u001b[0m\n\u001b[1;32m   1479\u001b[0m         \u001b[0mrun_metadata_ptr\u001b[0m \u001b[0;34m=\u001b[0m \u001b[0mtf_session\u001b[0m\u001b[0;34m.\u001b[0m\u001b[0mTF_NewBuffer\u001b[0m\u001b[0;34m(\u001b[0m\u001b[0;34m)\u001b[0m \u001b[0;32mif\u001b[0m \u001b[0mrun_metadata\u001b[0m \u001b[0;32melse\u001b[0m \u001b[0;32mNone\u001b[0m\u001b[0;34m\u001b[0m\u001b[0;34m\u001b[0m\u001b[0m\n\u001b[0;32m-> 1480\u001b[0;31m         ret = tf_session.TF_SessionRunCallable(self._session._session,\n\u001b[0m\u001b[1;32m   1481\u001b[0m                                                \u001b[0mself\u001b[0m\u001b[0;34m.\u001b[0m\u001b[0m_handle\u001b[0m\u001b[0;34m,\u001b[0m \u001b[0margs\u001b[0m\u001b[0;34m,\u001b[0m\u001b[0;34m\u001b[0m\u001b[0;34m\u001b[0m\u001b[0m\n\u001b[1;32m   1482\u001b[0m                                                run_metadata_ptr)\n",
      "\u001b[0;31mKeyboardInterrupt\u001b[0m: "
     ]
    }
   ],
   "source": [
    "for i in range(10):\n",
    "    X_inp = np.stack([X_value], axis=-1)\n",
    "    history = value_model.fit(X_inp, Y_value_one_hot, epochs=10, verbose = 0, \n",
    "                        callbacks = [NBatchLogger(10)])\n",
    "    "
   ]
  },
  {
   "cell_type": "code",
   "execution_count": 255,
   "metadata": {},
   "outputs": [
    {
     "data": {
      "text/plain": [
       "array([[[ 0,  0,  0],\n",
       "        [ 1,  1,  0],\n",
       "        [-1,  1, -1]],\n",
       "\n",
       "       [[ 1,  1, -1],\n",
       "        [-1,  0,  0],\n",
       "        [ 1, -1,  1]],\n",
       "\n",
       "       [[ 1,  0, -1],\n",
       "        [ 0,  0,  0],\n",
       "        [ 0,  0,  1]],\n",
       "\n",
       "       ...,\n",
       "\n",
       "       [[ 0,  1,  0],\n",
       "        [ 0,  1, -1],\n",
       "        [ 1, -1, -1]],\n",
       "\n",
       "       [[-1,  0,  0],\n",
       "        [ 0,  0,  1],\n",
       "        [ 1,  0,  0]],\n",
       "\n",
       "       [[ 0,  0,  0],\n",
       "        [-1,  1, -1],\n",
       "        [ 1,  0,  0]]])"
      ]
     },
     "execution_count": 255,
     "metadata": {},
     "output_type": "execute_result"
    }
   ],
   "source": [
    "X_value"
   ]
  },
  {
   "cell_type": "code",
   "execution_count": 239,
   "metadata": {},
   "outputs": [
    {
     "name": "stdout",
     "output_type": "stream",
     "text": [
      "acc: 0.3587000072002411\n",
      "acc: 0.4117000102996826\n",
      "acc: 0.4415999948978424\n",
      "acc: 0.4569000005722046\n",
      "acc: 0.47110000252723694\n",
      "acc: 0.4887999892234802\n",
      "acc: 0.49239999055862427\n",
      "acc: 0.4968999922275543\n",
      "acc: 0.5091000199317932\n",
      "acc: 0.515999972820282\n"
     ]
    }
   ],
   "source": [
    "for i in range(10):\n",
    "    X_inp = np.stack([X_policy], axis=-1)\n",
    "    history = policy_model.fit(X_inp, Y_policy_one_hot, epochs=10, verbose = 0, \n",
    "                        callbacks = [NBatchLogger(10)])\n",
    "    "
   ]
  },
  {
   "cell_type": "code",
   "execution_count": 11,
   "metadata": {},
   "outputs": [
    {
     "ename": "NameError",
     "evalue": "name 'model' is not defined",
     "output_type": "error",
     "traceback": [
      "\u001b[0;31m---------------------------------------------------------------------------\u001b[0m",
      "\u001b[0;31mNameError\u001b[0m                                 Traceback (most recent call last)",
      "\u001b[0;32m<ipython-input-11-8361b3c8cd3a>\u001b[0m in \u001b[0;36m<module>\u001b[0;34m\u001b[0m\n\u001b[0;32m----> 1\u001b[0;31m \u001b[0mmodel\u001b[0m\u001b[0;34m.\u001b[0m\u001b[0msave\u001b[0m\u001b[0;34m(\u001b[0m\u001b[0;34m'./best_keras_model.tf'\u001b[0m\u001b[0;34m)\u001b[0m\u001b[0;34m\u001b[0m\u001b[0;34m\u001b[0m\u001b[0m\n\u001b[0m",
      "\u001b[0;31mNameError\u001b[0m: name 'model' is not defined"
     ]
    }
   ],
   "source": [
    "model.save('./best_keras_model.tf')"
   ]
  },
  {
   "cell_type": "code",
   "execution_count": 253,
   "metadata": {},
   "outputs": [
    {
     "name": "stdout",
     "output_type": "stream",
     "text": [
      "[[0.37 0.3  0.32]]\n"
     ]
    },
    {
     "data": {
      "text/plain": [
       "array([[0.  , 0.04, 0.09, 0.  , 0.  , 0.69, 0.  , 0.01, 0.18]],\n",
       "      dtype=float32)"
      ]
     },
     "execution_count": 253,
     "metadata": {},
     "output_type": "execute_result"
    }
   ],
   "source": [
    "test = np.array([[  -1,  0,  0],\n",
    "                 [  1,  -1, 0],\n",
    "                 [  1,  0,  0]] )\n",
    "\n",
    "n_map = {-1:\"o\", 0: \" \", 1: \"x\"}\n",
    "\n",
    "str_state = ''.join([n_map[i] for i in test.reshape(9,)])\n",
    "str_state\n",
    "\n",
    "pred, prob = value_model.predict(np.stack([[test]],-1)), policy_model.predict(np.stack([[test]],-1))\n",
    "print(pred.round(2))\n",
    "prob.round(2)"
   ]
  },
  {
   "cell_type": "code",
   "execution_count": 236,
   "metadata": {},
   "outputs": [
    {
     "name": "stdout",
     "output_type": "stream",
     "text": [
      "[[0.23 0.51 0.26]]\n"
     ]
    },
    {
     "data": {
      "text/plain": [
       "array([[0.12, 0.09, 0.12, 0.1 , 0.13, 0.11, 0.1 , 0.12, 0.11]],\n",
       "      dtype=float32)"
      ]
     },
     "execution_count": 236,
     "metadata": {},
     "output_type": "execute_result"
    }
   ],
   "source": [
    "test = np.array([[  1,  0,  0],\n",
    "                 [  0,   1, 0],\n",
    "                 [  -1,  1,  -1]] )\n",
    "\n",
    "n_map = {-1:\"o\", 0: \" \", 1: \"x\"}\n",
    "\n",
    "str_state = ''.join([n_map[i] for i in test.reshape(9,)])\n",
    "str_state\n",
    "\n",
    "pred, prob = value_model.predict(np.stack([[test]],-1)), policy_model.predict(np.stack([[test]],-1))\n",
    "print(pred.round(2))\n",
    "prob.round(2)"
   ]
  },
  {
   "cell_type": "code",
   "execution_count": null,
   "metadata": {},
   "outputs": [],
   "source": [
    "value_df[value_df[\"N\"]>0].iloc[2][]"
   ]
  },
  {
   "cell_type": "code",
   "execution_count": 209,
   "metadata": {},
   "outputs": [
    {
     "data": {
      "text/html": [
       "<div>\n",
       "<style scoped>\n",
       "    .dataframe tbody tr th:only-of-type {\n",
       "        vertical-align: middle;\n",
       "    }\n",
       "\n",
       "    .dataframe tbody tr th {\n",
       "        vertical-align: top;\n",
       "    }\n",
       "\n",
       "    .dataframe thead th {\n",
       "        text-align: right;\n",
       "    }\n",
       "</style>\n",
       "<table border=\"1\" class=\"dataframe\">\n",
       "  <thead>\n",
       "    <tr style=\"text-align: right;\">\n",
       "      <th></th>\n",
       "      <th>state</th>\n",
       "      <th>value</th>\n",
       "      <th>N</th>\n",
       "      <th>inv_freq</th>\n",
       "    </tr>\n",
       "  </thead>\n",
       "  <tbody>\n",
       "    <tr>\n",
       "      <th>11809</th>\n",
       "      <td>xoo o x x</td>\n",
       "      <td>-0.666667</td>\n",
       "      <td>6</td>\n",
       "      <td>5281.666667</td>\n",
       "    </tr>\n",
       "    <tr>\n",
       "      <th>13378</th>\n",
       "      <td>xoo o x x</td>\n",
       "      <td>1.000000</td>\n",
       "      <td>9</td>\n",
       "      <td>5281.666667</td>\n",
       "    </tr>\n",
       "    <tr>\n",
       "      <th>15389</th>\n",
       "      <td>xoo o x x</td>\n",
       "      <td>1.000000</td>\n",
       "      <td>1</td>\n",
       "      <td>5281.666667</td>\n",
       "    </tr>\n",
       "  </tbody>\n",
       "</table>\n",
       "</div>"
      ],
      "text/plain": [
       "           state     value  N     inv_freq\n",
       "11809  xoo o x x -0.666667  6  5281.666667\n",
       "13378  xoo o x x  1.000000  9  5281.666667\n",
       "15389  xoo o x x  1.000000  1  5281.666667"
      ]
     },
     "execution_count": 209,
     "metadata": {},
     "output_type": "execute_result"
    }
   ],
   "source": [
    "value_master[value_master[\"state\"]==str_state]"
   ]
  },
  {
   "cell_type": "code",
   "execution_count": null,
   "metadata": {},
   "outputs": [],
   "source": [
    "value_master[value_master[\"state\"]==str_state]"
   ]
  },
  {
   "cell_type": "code",
   "execution_count": null,
   "metadata": {},
   "outputs": [],
   "source": [
    "value_df[value_df[\"state\"]==str_state][\"state\"].iloc[0]"
   ]
  },
  {
   "cell_type": "code",
   "execution_count": null,
   "metadata": {},
   "outputs": [],
   "source": [
    "list(edge_statistics.keys())[i]"
   ]
  },
  {
   "cell_type": "code",
   "execution_count": null,
   "metadata": {},
   "outputs": [],
   "source": [
    "board.str2arr(\" ox    x \")"
   ]
  },
  {
   "cell_type": "code",
   "execution_count": null,
   "metadata": {},
   "outputs": [],
   "source": [
    "i=2703\n",
    "print(list(edge_statistics.keys())[i])\n",
    "edge_statistics[list(edge_statistics.keys())[i]]"
   ]
  },
  {
   "cell_type": "code",
   "execution_count": null,
   "metadata": {},
   "outputs": [],
   "source": [
    "i=49\n",
    "print(list(edge_statistics.keys())[i])\n",
    "edge_statistics[list(edge_statistics.keys())[i]]"
   ]
  },
  {
   "cell_type": "code",
   "execution_count": 221,
   "metadata": {},
   "outputs": [
    {
     "name": "stdout",
     "output_type": "stream",
     "text": [
      "[[0.79 0.21 0.  ]]\n"
     ]
    },
    {
     "data": {
      "text/plain": [
       "array([[0.65, 0.35, 0.  , 0.  , 0.  , 0.  , 0.  , 0.  , 0.  ]],\n",
       "      dtype=float32)"
      ]
     },
     "execution_count": 221,
     "metadata": {},
     "output_type": "execute_result"
    }
   ],
   "source": [
    "test = np.array([[  0,   0,  -1],\n",
    "                 [  0,   -1,  1],\n",
    "                 [  1,   -1,  1]] )\n",
    "\n",
    "n_map = {-1:\"o\", 0: \" \", 1: \"x\"}\n",
    "\n",
    "str_state = ''.join([n_map[i] for i in test.reshape(9,)])\n",
    "str_state\n",
    "\n",
    "pred, prob = value_model.predict(np.stack([[test]],-1)), policy_model.predict(np.stack([[test]],-1))\n",
    "print(pred.round(2))\n",
    "prob.round(2)"
   ]
  },
  {
   "cell_type": "code",
   "execution_count": null,
   "metadata": {},
   "outputs": [],
   "source": [
    "len(list(edge_statistics.keys()))"
   ]
  },
  {
   "cell_type": "code",
   "execution_count": null,
   "metadata": {},
   "outputs": [],
   "source": [
    "str_state"
   ]
  },
  {
   "cell_type": "code",
   "execution_count": null,
   "metadata": {},
   "outputs": [],
   "source": [
    "master_df[master_df[\"init_state\"]==str_state]"
   ]
  },
  {
   "cell_type": "code",
   "execution_count": 48,
   "metadata": {},
   "outputs": [
    {
     "ename": "NameError",
     "evalue": "name 'model' is not defined",
     "output_type": "error",
     "traceback": [
      "\u001b[0;31m---------------------------------------------------------------------------\u001b[0m",
      "\u001b[0;31mNameError\u001b[0m                                 Traceback (most recent call last)",
      "\u001b[0;32m<ipython-input-48-1208b2a2c2ff>\u001b[0m in \u001b[0;36m<module>\u001b[0;34m\u001b[0m\n\u001b[1;32m      8\u001b[0m \u001b[0mstr_state\u001b[0m\u001b[0;34m\u001b[0m\u001b[0;34m\u001b[0m\u001b[0m\n\u001b[1;32m      9\u001b[0m \u001b[0;34m\u001b[0m\u001b[0m\n\u001b[0;32m---> 10\u001b[0;31m \u001b[0mpred\u001b[0m\u001b[0;34m,\u001b[0m \u001b[0mprob\u001b[0m \u001b[0;34m=\u001b[0m \u001b[0mmodel\u001b[0m\u001b[0;34m.\u001b[0m\u001b[0mpredict\u001b[0m\u001b[0;34m(\u001b[0m\u001b[0mnp\u001b[0m\u001b[0;34m.\u001b[0m\u001b[0mstack\u001b[0m\u001b[0;34m(\u001b[0m\u001b[0;34m[\u001b[0m\u001b[0;34m[\u001b[0m\u001b[0mtest\u001b[0m\u001b[0;34m]\u001b[0m\u001b[0;34m]\u001b[0m\u001b[0;34m,\u001b[0m\u001b[0;34m-\u001b[0m\u001b[0;36m1\u001b[0m\u001b[0;34m)\u001b[0m\u001b[0;34m)\u001b[0m\u001b[0;34m\u001b[0m\u001b[0;34m\u001b[0m\u001b[0m\n\u001b[0m\u001b[1;32m     11\u001b[0m \u001b[0mprint\u001b[0m\u001b[0;34m(\u001b[0m\u001b[0mpred\u001b[0m\u001b[0;34m.\u001b[0m\u001b[0mround\u001b[0m\u001b[0;34m(\u001b[0m\u001b[0;36m2\u001b[0m\u001b[0;34m)\u001b[0m\u001b[0;34m)\u001b[0m\u001b[0;34m\u001b[0m\u001b[0;34m\u001b[0m\u001b[0m\n\u001b[1;32m     12\u001b[0m \u001b[0mprob\u001b[0m\u001b[0;34m.\u001b[0m\u001b[0mround\u001b[0m\u001b[0;34m(\u001b[0m\u001b[0;36m2\u001b[0m\u001b[0;34m)\u001b[0m\u001b[0;34m\u001b[0m\u001b[0;34m\u001b[0m\u001b[0m\n",
      "\u001b[0;31mNameError\u001b[0m: name 'model' is not defined"
     ]
    }
   ],
   "source": [
    "test = np.array([[ 1,   0,  -1],\n",
    "                 [ -1,   -1,  0],\n",
    "                 [  1,   0,  1]] )\n",
    "\n",
    "n_map = {-1:\"o\", 0: \" \", 1: \"x\"}\n",
    "\n",
    "str_state = ''.join([n_map[i] for i in test.reshape(9,)])\n",
    "str_state\n",
    "\n",
    "pred, prob = model.predict(np.stack([[test]],-1))\n",
    "print(pred.round(2))\n",
    "prob.round(2)"
   ]
  },
  {
   "cell_type": "code",
   "execution_count": 233,
   "metadata": {},
   "outputs": [
    {
     "data": {
      "image/png": "[encoded data removed]",
      "text/plain": [
       "<Figure size 432x288 with 6 Axes>"
      ]
     },
     "metadata": {},
     "output_type": "display_data"
    },
    {
     "data": {
      "text/plain": [
       "array([[1.1634438, 1.2077413, 1.2974004]], dtype=float32)"
      ]
     },
     "execution_count": 233,
     "metadata": {},
     "output_type": "execute_result"
    }
   ],
   "source": [
    "filters = value_model.layers[1].get_weights()[0]\n",
    "f_min, f_max = filters.min(), filters.max()\n",
    "n_filters, ix = 6 , 1\n",
    "\n",
    "for i in range(n_filters):\n",
    "    # get the filter\n",
    "    f = filters[:, :, :, i]\n",
    "    # plot each channel separately\n",
    "    for j in range(1):\n",
    "        # specify subplot and turn of axis\n",
    "        ax = plt.subplot(n_filters, 3, ix)\n",
    "        ax.set_xticks([])\n",
    "        ax.set_yticks([])\n",
    "        # plot filter channel in grayscale\n",
    "        plt.imshow(f[:, :, j], cmap='RdBu', vmin = -1, vmax = 1)\n",
    "        ix += 1\n",
    "\n",
    "# show the figure\n",
    "plt.show()\n",
    "f[:, :, j]"
   ]
  },
  {
   "cell_type": "code",
   "execution_count": 234,
   "metadata": {},
   "outputs": [
    {
     "data": {
      "image/png": "[encoded data removed]",
      "text/plain": [
       "<Figure size 432x288 with 6 Axes>"
      ]
     },
     "metadata": {},
     "output_type": "display_data"
    },
    {
     "data": {
      "text/plain": [
       "array([[0.80279905],\n",
       "       [0.7446627 ],\n",
       "       [0.7815539 ]], dtype=float32)"
      ]
     },
     "execution_count": 234,
     "metadata": {},
     "output_type": "execute_result"
    }
   ],
   "source": [
    "filters = value_model.layers[2].get_weights()[0]\n",
    "f_min, f_max = filters.min(), filters.max()\n",
    "n_filters, ix = 6, 1\n",
    "\n",
    "for i in range(n_filters):\n",
    "    # get the filter\n",
    "    f = filters[:, :, :, i]\n",
    "    # plot each channel separately\n",
    "    for j in range(1):\n",
    "        # specify subplot and turn of axis\n",
    "        ax = plt.subplot(n_filters, 3, ix)\n",
    "        ax.set_xticks([])\n",
    "        ax.set_yticks([])\n",
    "        # plot filter channel in grayscale\n",
    "        plt.imshow(f[:, :, j], cmap='RdBu', vmin = -1, vmax = 1)\n",
    "        ix += 1\n",
    "\n",
    "# show the figure\n",
    "plt.show()\n",
    "f[:, :, j]"
   ]
  },
  {
   "cell_type": "code",
   "execution_count": 235,
   "metadata": {},
   "outputs": [
    {
     "data": {
      "image/png": "[encoded data removed]",
      "text/plain": [
       "<Figure size 432x288 with 6 Axes>"
      ]
     },
     "metadata": {},
     "output_type": "display_data"
    },
    {
     "data": {
      "text/plain": [
       "array([[ 0.04991837, -0.31999633,  0.33097473],\n",
       "       [-0.557554  , -0.25289285, -0.23677096],\n",
       "       [-0.30058825,  0.51059574, -0.07233591]], dtype=float32)"
      ]
     },
     "execution_count": 235,
     "metadata": {},
     "output_type": "execute_result"
    }
   ],
   "source": [
    "filters = value_model.layers[3].get_weights()[0]\n",
    "f_min, f_max = filters.min(), filters.max()\n",
    "n_filters, ix = 6, 1\n",
    "\n",
    "for i in range(n_filters):\n",
    "    # get the filter\n",
    "    f = filters[:, :, :, i]\n",
    "    # plot each channel separately\n",
    "    for j in range(1):\n",
    "        # specify subplot and turn of axis\n",
    "        ax = plt.subplot(n_filters, 3, ix)\n",
    "        ax.set_xticks([])\n",
    "        ax.set_yticks([])\n",
    "        # plot filter channel in grayscale\n",
    "        plt.imshow(f[:, :, j], cmap='RdBu', vmin = -1, vmax = 1)\n",
    "        ix += 1\n",
    "\n",
    "# show the figure\n",
    "plt.show()\n",
    "f[:, :, j]"
   ]
  },
  {
   "cell_type": "code",
   "execution_count": null,
   "metadata": {},
   "outputs": [],
   "source": [
    "key = keys[2]\n",
    "state = edge_statistics[key]\n",
    "initial_state, final_state = key.split(\"2\")\n",
    "initial_arr = board.str2arr(initial_state)\n",
    "final_arr = board.str2arr(final_state)\n",
    "\n",
    "print((final_arr - initial_arr).sum())\n",
    "print(final_arr)\n",
    "p_type = (final_arr - initial_arr).sum()\n",
    "Q_final = state[\"Q\"]*p_type\n",
    "print(Q_final)\n",
    "print(state)"
   ]
  },
  {
   "cell_type": "code",
   "execution_count": null,
   "metadata": {},
   "outputs": [],
   "source": [
    "final_arr"
   ]
  },
  {
   "cell_type": "code",
   "execution_count": null,
   "metadata": {},
   "outputs": [],
   "source": [
    "b.board.board"
   ]
  },
  {
   "cell_type": "code",
   "execution_count": null,
   "metadata": {},
   "outputs": [],
   "source": [
    "model.predict(np.stack([[final_arr]],-1))"
   ]
  },
  {
   "cell_type": "code",
   "execution_count": null,
   "metadata": {},
   "outputs": [],
   "source": [
    "[i for i,y in enumerate(Y) if y ==1]"
   ]
  },
  {
   "cell_type": "code",
   "execution_count": null,
   "metadata": {},
   "outputs": [],
   "source": [
    "test = np.array([[ 0,  1,  1],\n",
    "                 [ 1,  -1, 0],\n",
    "                 [-1,  1,  -1]] )\n",
    "\n",
    "pred, prob = model.predict(np.stack([[test]],-1))\n",
    "print(pred.round(2))\n",
    "prob.round(2)"
   ]
  },
  {
   "cell_type": "code",
   "execution_count": null,
   "metadata": {},
   "outputs": [],
   "source": [
    "test = np.array([[ 1,  0,  0],\n",
    "                 [ 0,  -1, 0],\n",
    "                 [-1,  0,  1]] )\n",
    "\n",
    "pred, prob = model.predict(np.stack([[test]],-1))\n",
    "print(pred.round(2))\n",
    "prob.round(2)"
   ]
  },
  {
   "cell_type": "code",
   "execution_count": null,
   "metadata": {},
   "outputs": [],
   "source": [
    "test = np.array([[0, 0,  0],\n",
    "                 [0, -1,  0],\n",
    "                 [1,  -1,  1]])\n",
    "\n",
    "model.predict(np.stack([[test]],-1)).round(2)\n"
   ]
  },
  {
   "cell_type": "code",
   "execution_count": null,
   "metadata": {},
   "outputs": [],
   "source": [
    "import player\n",
    "import numpy as np\n",
    "import keras\n",
    "import neural_network\n",
    "import game\n",
    "\n",
    "model = keras.models.load_model('./best_keras_model.tf')\n",
    "\n",
    "N_games = 200\n",
    "global_step = 50000\n",
    "nn_check_pt = neural_network.nn_predictor.CHECK_POINTS_NAME + '-' + str(global_step)\n",
    "\n",
    "player1 = player.Zero_Player('x', 'Bot_ZERO', nn_type=nn_check_pt, temperature=0)\n",
    "player2 = player.Zero_Player('o', 'Bot_ZERO', nn_type=nn_check_pt, temperature=0)\n",
    "\n",
    "player1.keras_nn = model\n",
    "player2.keras_nn = model\n",
    "\n",
    "# player1.value_estimate =\"nn\"\n",
    "# player2.value_estimate =\"nn\"\n",
    "\n",
    "z_vs_r_game = game.Game(player1, player2)\n",
    "w1, w2 = z_vs_r_game.play_symmetric(N_games)\n",
    "print('{} vs {} summary:'.format(player1.name, player2.name))\n",
    "print('wins={}, draws={}, losses={}'.format(w1, N_games-w1-w2, w2))\n"
   ]
  },
  {
   "cell_type": "code",
   "execution_count": null,
   "metadata": {},
   "outputs": [],
   "source": [
    "test = np.array([[0, 0, 0],\n",
    "                 [0, -1,  0],\n",
    "                 [1,  -1,  1]])\n",
    "\n",
    "player2.keras_nn.predict(np.stack([[test]],-1))[0][0]"
   ]
  },
  {
   "cell_type": "code",
   "execution_count": null,
   "metadata": {},
   "outputs": [],
   "source": [
    "player1.keras_nn"
   ]
  }
 ],
 "metadata": {
  "kernelspec": {
   "display_name": "Python 3",
   "language": "python",
   "name": "python3"
  },
  "language_info": {
   "codemirror_mode": {
    "name": "ipython",
    "version": 3
   },
   "file_extension": ".py",
   "mimetype": "text/x-python",
   "name": "python",
   "nbconvert_exporter": "python",
   "pygments_lexer": "ipython3",
   "version": "3.8.3"
  }
 },
 "nbformat": 4,
 "nbformat_minor": 4
}
