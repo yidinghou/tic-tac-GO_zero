{
 "cells": [
  {
   "cell_type": "code",
   "execution_count": null,
   "metadata": {},
   "outputs": [],
   "source": [
    "import player\n",
    "import game\n",
    "import neural_network\n",
    "import mcts\n",
    "import pandas as pd\n",
    "import numpy as np\n",
    "import matplotlib.pyplot as plt\n",
    "import board as b\n",
    "import keras\n",
    "import tensorflow.compat.v1 as tf\n",
    "tf.disable_v2_behavior()"
   ]
  },
  {
   "cell_type": "code",
   "execution_count": null,
   "metadata": {},
   "outputs": [],
   "source": [
    "tree, edge_statistics = mcts.MCTS.get_tree_and_edges()\n",
    "board = b.Board()\n",
    "\n",
    "len(edge_statistics.keys())"
   ]
  },
  {
   "cell_type": "code",
   "execution_count": null,
   "metadata": {},
   "outputs": [],
   "source": [
    "X = []\n",
    "Y = []\n",
    "\n",
    "keys = list(edge_statistics.keys())\n",
    "for key in keys:\n",
    "    state = edge_statistics[key]\n",
    "    initial_state, final_state = key.split(\"2\")\n",
    "    initial_arr = board.str2arr(initial_state)\n",
    "    final_arr = board.str2arr(final_state)\n",
    "    \n",
    "    p_type = (final_arr - initial_arr).sum()\n",
    "    \n",
    "    X.append(final_arr)\n",
    "    Y.append(state[\"Q\"]*p_type)\n",
    "\n",
    "X = np.array(X)\n",
    "Y = np.array(Y)\n",
    "Y_norm = (Y+1)/2"
   ]
  },
  {
   "cell_type": "code",
   "execution_count": null,
   "metadata": {},
   "outputs": [],
   "source": [
    "Y_pos = [i for i,y in enumerate(Y) if y ==1]\n",
    "Y_neg = [i for i,y in enumerate(Y) if y ==-1]\n",
    "Y_drw = [i for i,y in enumerate(Y) if y ==0]\n",
    "\n",
    "Y_clean = np.concatenate([Y[Y_pos], \n",
    "                          Y[Y_neg],\n",
    "                          Y[Y_drw],\n",
    "                         ])\n",
    "\n",
    "X_clean = np.concatenate([X[Y_pos], \n",
    "                          X[Y_neg],\n",
    "                          X[Y_drw],\n",
    "                         ])"
   ]
  },
  {
   "cell_type": "code",
   "execution_count": null,
   "metadata": {},
   "outputs": [],
   "source": [
    "import numpy as np\n",
    "nb_classes = 3\n",
    "targets = (Y_clean+1)\n",
    "one_hot_targets = np.eye(nb_classes)[targets.astype(int)]\n",
    "one_hot_targets"
   ]
  },
  {
   "cell_type": "code",
   "execution_count": 10,
   "metadata": {},
   "outputs": [
    {
     "name": "stdout",
     "output_type": "stream",
     "text": [
      "Model: \"model\"\n",
      "__________________________________________________________________________________________________\n",
      "Layer (type)                    Output Shape         Param #     Connected to                     \n",
      "==================================================================================================\n",
      "input_1 (InputLayer)            [(None, 3, 3, 1)]    0                                            \n",
      "__________________________________________________________________________________________________\n",
      "conv2d (Conv2D)                 (None, 3, 1, 3)      12          input_1[0][0]                    \n",
      "__________________________________________________________________________________________________\n",
      "conv2d_1 (Conv2D)               (None, 1, 3, 3)      12          input_1[0][0]                    \n",
      "__________________________________________________________________________________________________\n",
      "conv2d_2 (Conv2D)               (None, 1, 1, 8)      80          input_1[0][0]                    \n",
      "__________________________________________________________________________________________________\n",
      "max_pooling2d (MaxPooling2D)    (None, 1, 1, 3)      0           conv2d[0][0]                     \n",
      "__________________________________________________________________________________________________\n",
      "max_pooling2d_1 (MaxPooling2D)  (None, 1, 1, 3)      0           conv2d_1[0][0]                   \n",
      "__________________________________________________________________________________________________\n",
      "max_pooling2d_2 (MaxPooling2D)  (None, 1, 1, 8)      0           conv2d_2[0][0]                   \n",
      "__________________________________________________________________________________________________\n",
      "concatenate (Concatenate)       (None, 1, 1, 14)     0           max_pooling2d[0][0]              \n",
      "                                                                 max_pooling2d_1[0][0]            \n",
      "                                                                 max_pooling2d_2[0][0]            \n",
      "__________________________________________________________________________________________________\n",
      "flatten (Flatten)               (None, 14)           0           concatenate[0][0]                \n",
      "__________________________________________________________________________________________________\n",
      "dense (Dense)                   (None, 10)           150         flatten[0][0]                    \n",
      "__________________________________________________________________________________________________\n",
      "V (Dense)                       (None, 1)            11          dense[0][0]                      \n",
      "==================================================================================================\n",
      "Total params: 265\n",
      "Trainable params: 265\n",
      "Non-trainable params: 0\n",
      "__________________________________________________________________________________________________\n"
     ]
    }
   ],
   "source": [
    "import keras\n",
    "from keras.layers import Input, Dense, Concatenate\n",
    "from keras.models import Sequential, Model\n",
    "from keras.layers import Dense, Conv1D, Flatten, Conv2D, MaxPooling1D, MaxPooling2D\n",
    "from keras.optimizers import SGD\n",
    "import keras.backend as K\n",
    "from keras import initializers\n",
    "from keras.regularizers import l2\n",
    "\n",
    "Input_1= Input(shape=(3,3,1))\n",
    "\n",
    "x1 = Conv2D(filters = 3, kernel_size=(1,3), activation='relu', \n",
    "            kernel_regularizer=l2(0.0005),\n",
    "            kernel_initializer=initializers.RandomNormal(stddev=0.1, mean=0),\n",
    "            input_shape=(3,3,1))(Input_1)\n",
    "\n",
    "x2 = Conv2D(filters = 3, kernel_size=(3,1), activation='relu', \n",
    "            kernel_regularizer=l2(0.0005),\n",
    "            kernel_initializer=initializers.RandomNormal(stddev=0.1, mean=0),\n",
    "            input_shape=(3,3,1))(Input_1)\n",
    "\n",
    "x3 = Conv2D(filters = 8, kernel_size=(3,3), activation='relu', \n",
    "            kernel_regularizer=l2(0.0005),\n",
    "            kernel_initializer=initializers.RandomNormal(stddev=0.1, mean=0),\n",
    "            input_shape=(3,3,1))(Input_1)\n",
    "\n",
    "x1 = MaxPooling2D((3, 1))(x1)\n",
    "x2 = MaxPooling2D((1, 3))(x2)\n",
    "x3 = MaxPooling2D((1,1))(x3)\n",
    "\n",
    "\n",
    "x = Concatenate()([x1, x2, x3])\n",
    "# x = MaxPooling2D((3,1))(x)\n",
    "x = Flatten()(x)\n",
    "\n",
    "value_head = Dense(10,  activation='relu')(x)\n",
    "# value_head = Dense(10,  activation='relu')(x)\n",
    "# value_head = Dense(3,  activation='softmax', name = \"V\")(value_head)\n",
    "value_head = Dense(1,  activation='relu', name = \"V\")(value_head)\n",
    "\n",
    "model = Model(inputs=Input_1, outputs=value_head)\n",
    "\n",
    "opt = SGD(lr=0.1, momentum=0.09)\n",
    "# opt = keras.optimizers.Adam(learning_rate=0.01)\n",
    "                             \n",
    "# model.compile(optimizer=opt, loss='categorical_crossentropy', metrics=['acc'])\n",
    "model.compile(optimizer=opt, loss='mse', metrics=['acc'])\n",
    "\n",
    "model.summary()"
   ]
  },
  {
   "cell_type": "code",
   "execution_count": 11,
   "metadata": {},
   "outputs": [
    {
     "data": {
      "text/plain": [
       "<tensorflow.python.keras.engine.functional.Functional at 0x7ff0b15a3580>"
      ]
     },
     "execution_count": 11,
     "metadata": {},
     "output_type": "execute_result"
    }
   ],
   "source": [
    "model"
   ]
  },
  {
   "cell_type": "code",
   "execution_count": null,
   "metadata": {},
   "outputs": [],
   "source": [
    "Y_pos = [i for i,y in enumerate(Y_clean) if y ==1]\n",
    "Y_neg = [i for i,y in enumerate(Y_clean) if y ==-1]\n",
    "Y_drw = [i for i,y in enumerate(Y_clean) if y ==0]"
   ]
  },
  {
   "cell_type": "code",
   "execution_count": null,
   "metadata": {
    "scrolled": true
   },
   "outputs": [],
   "source": [
    "for i in range(100):\n",
    "    pos_sample = np.random.choice(Y_pos, 1000)\n",
    "    neg_sample = np.random.choice(Y_neg, 1000)\n",
    "    drw_sample = np.random.choice(Y_drw, 1000)\n",
    "\n",
    "\n",
    "    X_final = np.concatenate((X_clean[pos_sample], \n",
    "                              X_clean[neg_sample],\n",
    "                              X_clean[drw_sample]\n",
    "                             )) \n",
    "    \n",
    "    Y_final = np.concatenate((Y_clean[pos_sample], \n",
    "                              Y_clean[neg_sample],\n",
    "                              Y_clean[drw_sample]\n",
    "                             )) \n",
    "    Y_final = (Y_final+1)/2\n",
    "\n",
    "    \n",
    "#     Y_final = np.concatenate((one_hot_targets[pos_sample], \n",
    "#                           one_hot_targets[neg_sample],\n",
    "#                           one_hot_targets[drw_sample]\n",
    "#                          )) \n",
    "        \n",
    "\n",
    "    \n",
    "    X_inp = np.stack([X_final], axis=-1)\n",
    "    model.fit(X_inp, Y_final, epochs=10, verbose=1)"
   ]
  },
  {
   "cell_type": "code",
   "execution_count": null,
   "metadata": {},
   "outputs": [],
   "source": [
    "model.save('./best_keras_model.tf')"
   ]
  },
  {
   "cell_type": "code",
   "execution_count": null,
   "metadata": {},
   "outputs": [],
   "source": [
    "m = keras.models.load_model('./best_keras_model.tf')\n"
   ]
  },
  {
   "cell_type": "code",
   "execution_count": null,
   "metadata": {},
   "outputs": [],
   "source": [
    "m"
   ]
  },
  {
   "cell_type": "code",
   "execution_count": null,
   "metadata": {
    "scrolled": true
   },
   "outputs": [],
   "source": [
    "X_inp = np.stack([X], axis=-1)\n",
    "model.fit(X_inp, Y_norm, epochs=10, verbose=1)"
   ]
  },
  {
   "cell_type": "code",
   "execution_count": null,
   "metadata": {},
   "outputs": [],
   "source": [
    "Y_final"
   ]
  },
  {
   "cell_type": "code",
   "execution_count": null,
   "metadata": {},
   "outputs": [],
   "source": [
    "filters = model.layers[1].get_weights()[0]\n",
    "f_min, f_max = filters.min(), filters.max()\n",
    "n_filters, ix = 3, 1\n",
    "\n",
    "for i in range(n_filters):\n",
    "    # get the filter\n",
    "    f = filters[:, :, :, i]\n",
    "    # plot each channel separately\n",
    "    for j in range(1):\n",
    "        # specify subplot and turn of axis\n",
    "        ax = plt.subplot(n_filters, 3, ix)\n",
    "        ax.set_xticks([])\n",
    "        ax.set_yticks([])\n",
    "        # plot filter channel in grayscale\n",
    "        plt.imshow(f[:, :, j], cmap='RdBu', vmin = -1, vmax = 1)\n",
    "        ix += 1\n",
    "\n",
    "# show the figure\n",
    "plt.show()\n",
    "f[:, :, j]"
   ]
  },
  {
   "cell_type": "code",
   "execution_count": null,
   "metadata": {},
   "outputs": [],
   "source": [
    "filters = model.layers[2].get_weights()[0]\n",
    "f_min, f_max = filters.min(), filters.max()\n",
    "n_filters, ix = 3, 1\n",
    "\n",
    "for i in range(n_filters):\n",
    "    # get the filter\n",
    "    f = filters[:, :, :, i]\n",
    "    # plot each channel separately\n",
    "    for j in range(1):\n",
    "        # specify subplot and turn of axis\n",
    "        ax = plt.subplot(n_filters, 3, ix)\n",
    "        ax.set_xticks([])\n",
    "        ax.set_yticks([])\n",
    "        # plot filter channel in grayscale\n",
    "        plt.imshow(f[:, :, j], cmap='RdBu', vmin = -1, vmax = 1)\n",
    "        ix += 1\n",
    "\n",
    "# show the figure\n",
    "plt.show()\n",
    "f[:, :, j]"
   ]
  },
  {
   "cell_type": "code",
   "execution_count": null,
   "metadata": {},
   "outputs": [],
   "source": [
    "filters = model.layers[3].get_weights()[0]\n",
    "f_min, f_max = filters.min(), filters.max()\n",
    "n_filters, ix = 8, 1\n",
    "\n",
    "for i in range(n_filters):\n",
    "    # get the filter\n",
    "    f = filters[:, :, :, i]\n",
    "    # plot each channel separately\n",
    "    for j in range(1):\n",
    "        # specify subplot and turn of axis\n",
    "        ax = plt.subplot(n_filters, 3, ix)\n",
    "        ax.set_xticks([])\n",
    "        ax.set_yticks([])\n",
    "        # plot filter channel in grayscale\n",
    "        plt.imshow(f[:, :, j], cmap='RdBu', vmin = -1, vmax = 1)\n",
    "        ix += 1\n",
    "\n",
    "# show the figure\n",
    "plt.show()\n",
    "f[:, :, j]"
   ]
  },
  {
   "cell_type": "code",
   "execution_count": null,
   "metadata": {},
   "outputs": [],
   "source": [
    "key = keys[2]\n",
    "state = edge_statistics[key]\n",
    "initial_state, final_state = key.split(\"2\")\n",
    "initial_arr = board.str2arr(initial_state)\n",
    "final_arr = board.str2arr(final_state)\n",
    "\n",
    "print((final_arr - initial_arr).sum())\n",
    "print(final_arr)\n",
    "p_type = (final_arr - initial_arr).sum()\n",
    "Q_final = state[\"Q\"]*p_type\n",
    "print(Q_final)\n",
    "print(state)"
   ]
  },
  {
   "cell_type": "code",
   "execution_count": null,
   "metadata": {},
   "outputs": [],
   "source": [
    "final_arr"
   ]
  },
  {
   "cell_type": "code",
   "execution_count": null,
   "metadata": {},
   "outputs": [],
   "source": [
    "b.board.board"
   ]
  },
  {
   "cell_type": "code",
   "execution_count": null,
   "metadata": {},
   "outputs": [],
   "source": [
    "model.predict(np.stack([[final_arr]],-1))"
   ]
  },
  {
   "cell_type": "code",
   "execution_count": null,
   "metadata": {},
   "outputs": [],
   "source": [
    "[i for i,y in enumerate(Y) if y ==1]"
   ]
  },
  {
   "cell_type": "code",
   "execution_count": null,
   "metadata": {},
   "outputs": [],
   "source": [
    "test = np.array([[0, 1, 0],\n",
    "                 [0, -1,  0],\n",
    "                 [1,  -1,  1]])\n",
    "\n",
    "model.predict(np.stack([[test]],-1))"
   ]
  },
  {
   "cell_type": "code",
   "execution_count": 9,
   "metadata": {},
   "outputs": [
    {
     "name": "stdout",
     "output_type": "stream",
     "text": [
      "INFO:tensorflow:Restoring parameters from /Users/yidinghou/Desktop/Projects/tic-tac-GO_ZERO/nn_check_pts/nn-50000\n",
      "INFO:tensorflow:Restoring parameters from /Users/yidinghou/Desktop/Projects/tic-tac-GO_ZERO/nn_check_pts/nn-50000\n",
      "Bot_ZERO vs Bot_ZERO summary:\n",
      "wins=36, draws=136, losses=28\n"
     ]
    }
   ],
   "source": [
    "import player\n",
    "import numpy as np\n",
    "import keras\n",
    "import neural_network\n",
    "import game\n",
    "\n",
    "model = keras.models.load_model('./best_keras_model.tf')\n",
    "\n",
    "N_games = 200\n",
    "global_step = 50000\n",
    "nn_check_pt = neural_network.nn_predictor.CHECK_POINTS_NAME + '-' + str(global_step)\n",
    "\n",
    "player1 = player.Zero_Player('x', 'Bot_ZERO', nn_type=nn_check_pt, temperature=0)\n",
    "player2 = player.Zero_Player('o', 'Bot_ZERO', nn_type=nn_check_pt, temperature=0)\n",
    "\n",
    "player1.keras_nn = model\n",
    "player2.keras_nn = model\n",
    "\n",
    "# player1.value_estimate =\"nn\"\n",
    "# player2.value_estimate =\"nn\"\n",
    "\n",
    "z_vs_r_game = game.Game(player1, player2)\n",
    "w1, w2 = z_vs_r_game.play_symmetric(N_games)\n",
    "print('{} vs {} summary:'.format(player1.name, player2.name))\n",
    "print('wins={}, draws={}, losses={}'.format(w1, N_games-w1-w2, w2))\n"
   ]
  },
  {
   "cell_type": "code",
   "execution_count": null,
   "metadata": {},
   "outputs": [],
   "source": [
    "test = np.array([[0, 0, 0],\n",
    "                 [0, -1,  0],\n",
    "                 [1,  -1,  1]])\n",
    "\n",
    "player2.keras_nn.predict(np.stack([[test]],-1))[0][0]"
   ]
  },
  {
   "cell_type": "code",
   "execution_count": null,
   "metadata": {},
   "outputs": [],
   "source": [
    "player1.keras_nn"
   ]
  }
 ],
 "metadata": {
  "kernelspec": {
   "display_name": "Python 3",
   "language": "python",
   "name": "python3"
  },
  "language_info": {
   "codemirror_mode": {
    "name": "ipython",
    "version": 3
   },
   "file_extension": ".py",
   "mimetype": "text/x-python",
   "name": "python",
   "nbconvert_exporter": "python",
   "pygments_lexer": "ipython3",
   "version": "3.8.3"
  }
 },
 "nbformat": 4,
 "nbformat_minor": 4
}
