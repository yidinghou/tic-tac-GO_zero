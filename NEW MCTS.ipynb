{
 "cells": [
  {
   "cell_type": "code",
   "execution_count": 1,
   "metadata": {},
   "outputs": [
    {
     "name": "stderr",
     "output_type": "stream",
     "text": [
      "Using TensorFlow backend.\n"
     ]
    }
   ],
   "source": [
    "import os\n",
    "import numpy as np\n",
    "import board\n",
    "import pickle\n",
    "import board as Board\n",
    "import player\n",
    "import game\n",
    "from copy import deepcopy\n",
    "from mcts import *\n",
    "\n",
    "from neural_network import*"
   ]
  },
  {
   "cell_type": "code",
   "execution_count": 2,
   "metadata": {},
   "outputs": [],
   "source": [
    "player1 = player.Zero_Player('x', 'Bot_ZERO', nn_type=\"w\", temperature=1)\n",
    "player2 = player.Zero_Player('o', 'Bot_ZERO', nn_type=\"w\", temperature=1)"
   ]
  },
  {
   "cell_type": "code",
   "execution_count": 3,
   "metadata": {},
   "outputs": [],
   "source": [
    "brd = b.Board()\n",
    "tree = MCTS()\n",
    "PATH = {\"path\":[]}\n"
   ]
  },
  {
   "cell_type": "code",
   "execution_count": 5,
   "metadata": {},
   "outputs": [],
   "source": [
    "players = [player1, player2]\n",
    "test = np.array([[  1,   -1,  1],\n",
    "                 [  0,   1,   0],\n",
    "                 [  0,   0,  -1]])\n",
    "turn = 5\n",
    "n_map = {-1:\"o\", 0: \" \", 1: \"x\"}\n",
    "\n",
    "str_state = ''.join([n_map[i] for i in test.reshape(9,)])\n",
    "str_state\n",
    "\n",
    "brd.board = test\n",
    "\n",
    "simulate(players, turn, brd, tree.TREE, PATH, root = brd, n = 10)\n",
    "\n",
    "tree.update_nodes()"
   ]
  },
  {
   "cell_type": "code",
   "execution_count": 6,
   "metadata": {},
   "outputs": [
    {
     "name": "stdout",
     "output_type": "stream",
     "text": [
      "<mcts.Node object at 0x7fc9f7974518>\n",
      "[[ 1 -1  1]\n",
      " [ 0  1  0]\n",
      " [ 0  0 -1]]\n",
      "xox x   o\n",
      "[]\n",
      "W: 10 L 2 D 8\n",
      "N: 20\n",
      "Q 0.7\n"
     ]
    }
   ],
   "source": [
    "root = [x for x in tree.TREE.values() if x.is_root()][0]\n",
    "\n",
    "for x in [root]:\n",
    "    print(x)\n",
    "    print(x.board_arr)\n",
    "    print(x.id)\n",
    "    print(x.edges)\n",
    "    print(\"W:\",x.W, \"L\",x.L, \"D\", x.D)\n",
    "    print(\"N:\", x.N)\n",
    "    print(\"Q\",x.Q)"
   ]
  },
  {
   "cell_type": "code",
   "execution_count": 7,
   "metadata": {
    "scrolled": true
   },
   "outputs": [
    {
     "name": "stdout",
     "output_type": "stream",
     "text": [
      "<mcts.Node object at 0x7fc9f7974518>\n",
      "[[ 1 -1  1]\n",
      " [ 0  1  0]\n",
      " [ 0  0 -1]]\n",
      "xox x   o\n",
      "[]\n",
      "W: 10 L 2 D 8\n",
      "N: 20\n",
      "Q 0.7\n",
      "<mcts.Node object at 0x7fc9f15ddc18>\n",
      "[[ 1 -1  1]\n",
      " [ 0  1 -1]\n",
      " [ 0  0 -1]]\n",
      "xox xo  o\n",
      "[]\n",
      "W: 2 L 0 D 4\n",
      "N: 6\n",
      "Q 0.6666666666666666\n",
      "<mcts.Node object at 0x7fc9f15dd908>\n",
      "[[ 1 -1  1]\n",
      " [ 0  1 -1]\n",
      " [ 1  0 -1]]\n",
      "xox xox o\n",
      "[]\n",
      "W: 2 L 0 D 0\n",
      "N: 2\n",
      "Q 1.0\n",
      "<mcts.Node object at 0x7fc9f15dd6d8>\n",
      "[[ 1 -1  1]\n",
      " [ 0  1  0]\n",
      " [-1  0 -1]]\n",
      "xox x o o\n",
      "[]\n",
      "W: 0 L 1 D 3\n",
      "N: 4\n",
      "Q 0.375\n",
      "<mcts.Node object at 0x7fc9f15ddac8>\n",
      "[[ 1 -1  1]\n",
      " [ 0  1  0]\n",
      " [-1  1 -1]]\n",
      "xox x oxo\n",
      "[]\n",
      "W: 0 L 0 D 1\n",
      "N: 1\n",
      "Q 0.5\n",
      "<mcts.Node object at 0x7fc9f15dd668>\n",
      "[[ 1 -1  1]\n",
      " [ 0  1 -1]\n",
      " [-1  1 -1]]\n",
      "xox xooxo\n",
      "[]\n",
      "W: 0 L 0 D 3\n",
      "N: 3\n",
      "Q 0.5\n",
      "<mcts.Node object at 0x7fc9f15dd748>\n",
      "[[ 1 -1  1]\n",
      " [ 1  1 -1]\n",
      " [-1  1 -1]]\n",
      "xoxxxooxo\n",
      "[]\n",
      "W: 0 L 0 D 6\n",
      "N: 6\n",
      "Q 0.5\n",
      "<mcts.Node object at 0x7fc9f15dd6a0>\n",
      "[[ 1 -1  1]\n",
      " [-1  1  0]\n",
      " [ 0  0 -1]]\n",
      "xoxox   o\n",
      "[]\n",
      "W: 4 L 0 D 1\n",
      "N: 5\n",
      "Q 0.9\n",
      "<mcts.Node object at 0x7fc9f798ccf8>\n",
      "[[ 1 -1  1]\n",
      " [-1  1  0]\n",
      " [ 0  1 -1]]\n",
      "xoxox  xo\n",
      "[]\n",
      "W: 1 L 0 D 1\n",
      "N: 2\n",
      "Q 0.75\n",
      "<mcts.Node object at 0x7fc9f798cd68>\n",
      "[[ 1 -1  1]\n",
      " [-1  1  0]\n",
      " [-1  1 -1]]\n",
      "xoxox oxo\n",
      "[]\n",
      "W: 0 L 0 D 1\n",
      "N: 1\n",
      "Q 0.5\n",
      "<mcts.Node object at 0x7fc9f15ddbe0>\n",
      "[[ 1 -1  1]\n",
      " [-1  1  1]\n",
      " [-1  1 -1]]\n",
      "xoxoxxoxo\n",
      "[]\n",
      "W: 0 L 0 D 2\n",
      "N: 2\n",
      "Q 0.5\n",
      "<mcts.Node object at 0x7fc9f79744e0>\n",
      "[[ 1 -1  1]\n",
      " [-1  1  1]\n",
      " [ 0  0 -1]]\n",
      "xoxoxx  o\n",
      "[]\n",
      "W: 2 L 0 D 0\n",
      "N: 2\n",
      "Q 1.0\n",
      "<mcts.Node object at 0x7fc9f798cf28>\n",
      "[[ 1 -1  1]\n",
      " [-1  1  1]\n",
      " [ 0 -1 -1]]\n",
      "xoxoxx oo\n",
      "[]\n",
      "W: 2 L 0 D 0\n",
      "N: 2\n",
      "Q 1.0\n",
      "<mcts.Node object at 0x7fc9f798cfd0>\n",
      "[[ 1 -1  1]\n",
      " [-1  1  1]\n",
      " [ 1 -1 -1]]\n",
      "xoxoxxxoo\n",
      "[]\n",
      "W: 2 L 0 D 0\n",
      "N: 2\n",
      "Q 1.0\n",
      "<mcts.Node object at 0x7fc9f7987048>\n",
      "[[ 1 -1  1]\n",
      " [ 1  1 -1]\n",
      " [ 0  0 -1]]\n",
      "xoxxxo  o\n",
      "[]\n",
      "W: 0 L 0 D 2\n",
      "N: 2\n",
      "Q 0.5\n",
      "<mcts.Node object at 0x7fc9f79870f0>\n",
      "[[ 1 -1  1]\n",
      " [ 1  1 -1]\n",
      " [-1  0 -1]]\n",
      "xoxxxoo o\n",
      "[]\n",
      "W: 0 L 0 D 3\n",
      "N: 3\n",
      "Q 0.5\n",
      "<mcts.Node object at 0x7fc9f798cef0>\n",
      "[[ 1 -1  1]\n",
      " [ 0  1  0]\n",
      " [ 0 -1 -1]]\n",
      "xox x  oo\n",
      "[]\n",
      "W: 4 L 1 D 0\n",
      "N: 5\n",
      "Q 0.8\n",
      "<mcts.Node object at 0x7fc9f79871d0>\n",
      "[[ 1 -1  1]\n",
      " [ 0  1  0]\n",
      " [ 1 -1 -1]]\n",
      "xox x xoo\n",
      "[]\n",
      "W: 3 L 0 D 0\n",
      "N: 3\n",
      "Q 1.0\n",
      "<mcts.Node object at 0x7fc9f7987278>\n",
      "[[ 1 -1  1]\n",
      " [ 1  1  0]\n",
      " [ 0 -1 -1]]\n",
      "xoxxx  oo\n",
      "[]\n",
      "W: 1 L 1 D 0\n",
      "N: 2\n",
      "Q 0.5\n",
      "<mcts.Node object at 0x7fc9f7987320>\n",
      "[[ 1 -1  1]\n",
      " [ 1  1  0]\n",
      " [-1 -1 -1]]\n",
      "xoxxx ooo\n",
      "[]\n",
      "W: 0 L 2 D 0\n",
      "N: 2\n",
      "Q 0.0\n",
      "<mcts.Node object at 0x7fc9f7987400>\n",
      "[[ 1 -1  1]\n",
      " [ 1  1 -1]\n",
      " [ 0 -1 -1]]\n",
      "xoxxxo oo\n",
      "[]\n",
      "W: 1 L 0 D 0\n",
      "N: 1\n",
      "Q 1.0\n",
      "<mcts.Node object at 0x7fc9f79874a8>\n",
      "[[ 1 -1  1]\n",
      " [ 1  1 -1]\n",
      " [ 1 -1 -1]]\n",
      "xoxxxoxoo\n",
      "[]\n",
      "W: 1 L 0 D 0\n",
      "N: 1\n",
      "Q 1.0\n",
      "<mcts.Node object at 0x7fc9f7974278>\n",
      "[[ 1 -1  1]\n",
      " [-1  1  0]\n",
      " [ 1  0 -1]]\n",
      "xoxox x o\n",
      "[]\n",
      "W: 1 L 0 D 0\n",
      "N: 1\n",
      "Q 1.0\n",
      "<mcts.Node object at 0x7fc9f79745f8>\n",
      "[[ 1 -1  1]\n",
      " [ 0  1 -1]\n",
      " [ 0  1 -1]]\n",
      "xox xo xo\n",
      "[]\n",
      "W: 0 L 0 D 2\n",
      "N: 2\n",
      "Q 0.5\n",
      "<mcts.Node object at 0x7fc9f7a74b38>\n",
      "[[ 1 -1  1]\n",
      " [-1  1 -1]\n",
      " [ 0  1 -1]]\n",
      "xoxoxo xo\n",
      "[]\n",
      "W: 1 L 0 D 0\n",
      "N: 1\n",
      "Q 1.0\n",
      "<mcts.Node object at 0x7fc9f7a74be0>\n",
      "[[ 1 -1  1]\n",
      " [-1  1 -1]\n",
      " [ 1  1 -1]]\n",
      "xoxoxoxxo\n",
      "[]\n",
      "W: 1 L 0 D 0\n",
      "N: 1\n",
      "Q 1.0\n",
      "<mcts.Node object at 0x7fc9f7a74c18>\n",
      "[[ 1 -1  1]\n",
      " [ 0  1  1]\n",
      " [-1  0 -1]]\n",
      "xox xxo o\n",
      "[]\n",
      "W: 0 L 0 D 1\n",
      "N: 1\n",
      "Q 0.5\n",
      "<mcts.Node object at 0x7fc9f7a744e0>\n",
      "[[ 1 -1  1]\n",
      " [-1  1  1]\n",
      " [-1  0 -1]]\n",
      "xoxoxxo o\n",
      "[]\n",
      "W: 0 L 0 D 1\n",
      "N: 1\n",
      "Q 0.5\n",
      "<mcts.Node object at 0x7fc9f7a74d30>\n",
      "[[ 1 -1  1]\n",
      " [ 1  1  0]\n",
      " [-1  0 -1]]\n",
      "xoxxx o o\n",
      "[]\n",
      "W: 0 L 1 D 1\n",
      "N: 2\n",
      "Q 0.25\n"
     ]
    }
   ],
   "source": [
    "for x in tree.TREE.values():\n",
    "    print(x)\n",
    "    print(x.board_arr)\n",
    "    print(x.id)\n",
    "    print(x.edges)\n",
    "    print(\"W:\",x.W, \"L\",x.L, \"D\", x.D)\n",
    "    print(\"N:\", x.N)\n",
    "    print(\"Q\",x.Q)\n"
   ]
  },
  {
   "cell_type": "code",
   "execution_count": null,
   "metadata": {},
   "outputs": [],
   "source": [
    "for x in root.children:\n",
    "    print(x)\n",
    "    print(x.board_arr)\n",
    "    print(x.id)\n",
    "    print(x.edges)\n",
    "    print(\"W:\",x.W, \"L\",x.L, \"D\", x.D)\n",
    "    print(\"N:\", x.N)\n",
    "    print(\"Q\",x.Q)"
   ]
  },
  {
   "cell_type": "code",
   "execution_count": null,
   "metadata": {},
   "outputs": [],
   "source": [
    "terminal = [x for x in TREE.values() if x.is_leaf()]\n",
    "\n",
    "for x in terminal:\n",
    "    print(x)\n",
    "    print(x.board_arr)\n",
    "    print(x.id)\n",
    "    print(x.edges)\n",
    "    print(\"W:\",x.W, \"L\",x.L, \"D\", x.D)\n",
    "    print(\"N:\", x.N)\n",
    "    print(\"Q\",x.value)"
   ]
  },
  {
   "cell_type": "code",
   "execution_count": null,
   "metadata": {
    "scrolled": true
   },
   "outputs": [],
   "source": [
    "bod = b.Board()\n",
    "TREE = {}\n",
    "EDGES = {}\n",
    "\n",
    "test = np.array([[  1,   -1,  1],\n",
    "                 [  0,   1,   -1],\n",
    "                 [  0,   0,  -1]])\n",
    "\n",
    "n_map = {-1:\"o\", 0: \" \", 1: \"x\"}\n",
    "\n",
    "str_state = ''.join([n_map[i] for i in test.reshape(9,)])\n",
    "str_state\n",
    "\n",
    "bod.board = test\n",
    "\n",
    "players = [player1, player2]\n",
    "turn = 6\n",
    "\n",
    "simulate(players, bod, TREE, EDGES, turn)"
   ]
  },
  {
   "cell_type": "code",
   "execution_count": null,
   "metadata": {},
   "outputs": [],
   "source": [
    "term_Edge = [x for x in EDGES.values() if x.terminal]\n",
    "term_Edge"
   ]
  },
  {
   "cell_type": "code",
   "execution_count": null,
   "metadata": {},
   "outputs": [],
   "source": [
    "EDGES"
   ]
  },
  {
   "cell_type": "code",
   "execution_count": null,
   "metadata": {},
   "outputs": [],
   "source": [
    "for edge in term_Edge:\n",
    "    parent_edges = [e for e in EDGES if e.to_node = edge.from]\n",
    "    for [p in parent_edges]:\n",
    "        p.W = sum([node.W for node in parent.children])\n",
    "        p.L = sum([node.L for node in parent.children])\n",
    "        p.D = sum([node.D for node in parent.children])\n",
    "    "
   ]
  },
  {
   "cell_type": "code",
   "execution_count": null,
   "metadata": {},
   "outputs": [],
   "source": [
    "for x in term_Edge:\n",
    "    \n",
    "    print(x.from_node, x.to_node)\n",
    "    print(x.N)\n",
    "    print(\"W:\",x.W, \"L\",x.L, \"D\", x.D)"
   ]
  },
  {
   "cell_type": "code",
   "execution_count": null,
   "metadata": {},
   "outputs": [],
   "source": [
    "root = [x for x in TREE.values() if x.is_root()][0]\n",
    "root\n",
    "root.N_eval"
   ]
  },
  {
   "cell_type": "code",
   "execution_count": null,
   "metadata": {},
   "outputs": [],
   "source": [
    "for x in [root]:\n",
    "    print(x)\n",
    "    print(x.board_arr)\n",
    "    print(x.id)\n",
    "    print(x.edges)\n",
    "    print(\"W:\",x.W, \"L\",x.L, \"D\", x.D)\n",
    "    print(\"N:\", x.N)\n",
    "    print(\"Q\",x.value)"
   ]
  },
  {
   "cell_type": "code",
   "execution_count": null,
   "metadata": {},
   "outputs": [],
   "source": [
    "def eval_to_leaf(parent):\n",
    "    parent.N = sum([edge.N for edge in parent.edges])\n",
    "    while parent.value_eval == False:\n",
    "        middle = [node for node in parent.children if not node.value_eval]\n",
    "        for mid_node in middle:\n",
    "            eval_value_to_leaf(mid_node)\n",
    "        \n",
    "        all_eval = len(middle)==0\n",
    "        if all_eval:\n",
    "            if not parent.is_leaf():\n",
    "                parent.W = sum([node.W for node in parent.children])\n",
    "                parent.L = sum([node.L for node in parent.children])\n",
    "                parent.D = sum([node.D for node in parent.children])\n",
    "\n",
    "            parent.value_eval = True\n",
    "\n",
    "    \n",
    "eval_value_to_leaf(root)"
   ]
  },
  {
   "cell_type": "code",
   "execution_count": null,
   "metadata": {},
   "outputs": [],
   "source": [
    "def "
   ]
  },
  {
   "cell_type": "code",
   "execution_count": null,
   "metadata": {},
   "outputs": [],
   "source": [
    "for x in root.edges:\n",
    "    print(x.from_node, x.to_node)\n",
    "    print(x.N)\n",
    "    print(\"W:\",x.W, \"L\",x.L, \"D\", x.D)\n"
   ]
  },
  {
   "cell_type": "code",
   "execution_count": null,
   "metadata": {
    "scrolled": true
   },
   "outputs": [],
   "source": [
    "for x in EDGES.values():\n",
    "    print(x.from_node, \" to \",x.to_node)\n",
    "    print(x.N)\n",
    "    print(\"W:\",x.W, \"L\",x.L, \"D\", x.D)\n"
   ]
  },
  {
   "cell_type": "code",
   "execution_count": null,
   "metadata": {},
   "outputs": [],
   "source": [
    "terminal = [x for x in TREE.values() if x.is_leaf()]\n",
    "terminal"
   ]
  },
  {
   "cell_type": "code",
   "execution_count": null,
   "metadata": {},
   "outputs": [],
   "source": [
    "leaf = terminal[0]\n",
    "leaf.parent\n",
    "print(leaf.board_arr)\n",
    "[edge for parent in leaf.parent for edge in parent.edges if edge.to_node == leaf.id]"
   ]
  },
  {
   "cell_type": "code",
   "execution_count": null,
   "metadata": {},
   "outputs": [],
   "source": [
    "def eval_to_leaf(node):"
   ]
  },
  {
   "cell_type": "code",
   "execution_count": null,
   "metadata": {},
   "outputs": [],
   "source": [
    "terminal = [x for x in TREE.values() if x.is_leaf()]\n",
    "for leaf in TREE.values():\n",
    "    parents = leaf.parent\n",
    "    all_paths = [edge for parent in leaf.parent for edge in parent.edges if edge.to_node == leaf.id]\n",
    "    unique_paths = list(set(all_paths))\n",
    "    \n",
    "    leaf.N = sum([edge.N for edge in unique_paths])\n",
    "    leaf.W = sum([edge.W for edge in unique_paths])\n",
    "    leaf.L = sum([edge.L for edge in unique_paths])\n",
    "    leaf.D = sum([edge.D for edge in unique_paths])\n"
   ]
  },
  {
   "cell_type": "code",
   "execution_count": null,
   "metadata": {},
   "outputs": [],
   "source": []
  },
  {
   "cell_type": "code",
   "execution_count": null,
   "metadata": {},
   "outputs": [],
   "source": [
    "for x in TREE.values():\n",
    "    print(x)\n",
    "    print(x.board_arr)\n",
    "    print(x.id)\n",
    "    print(x.edges)\n",
    "    print(\"W:\",x.W, \"L\",x.L, \"D\", x.D)\n",
    "    print(\"N:\", x.N)\n",
    "    print(\"Q\",x.value)"
   ]
  },
  {
   "cell_type": "code",
   "execution_count": null,
   "metadata": {},
   "outputs": [],
   "source": []
  },
  {
   "cell_type": "code",
   "execution_count": null,
   "metadata": {},
   "outputs": [],
   "source": [
    "terminal = [x for x in TREE.values() if x.is_leaf()]\n",
    "for x in terminal:\n",
    "    print(x)\n",
    "    print (x.board_arr)\n",
    "    print(x.id)\n",
    "    print(x.turn)\n",
    "    print(\"W:\",x.W, \"L\",x.L, \"D\", x.D)\n",
    "    print(\"N:\", x.N)\n",
    "    print(\"Q\",x.value)"
   ]
  },
  {
   "cell_type": "code",
   "execution_count": null,
   "metadata": {},
   "outputs": [],
   "source": []
  },
  {
   "cell_type": "code",
   "execution_count": null,
   "metadata": {},
   "outputs": [],
   "source": [
    "Board.str2arr(\"xoxxxooxo\")"
   ]
  },
  {
   "cell_type": "code",
   "execution_count": null,
   "metadata": {},
   "outputs": [],
   "source": []
  },
  {
   "cell_type": "code",
   "execution_count": null,
   "metadata": {},
   "outputs": [],
   "source": [
    "bod = b.Board()\n",
    "TREE = {}\n",
    "\n",
    "test = np.array([[  0,   0,  0],\n",
    "                 [  0,  0,  0],\n",
    "                 [  0,   0,  0]])\n",
    "\n",
    "n_map = {-1:\"o\", 0: \" \", 1: \"x\"}\n",
    "\n",
    "str_state = ''.join([n_map[i] for i in test.reshape(9,)])\n",
    "str_state\n",
    "\n",
    "bod.board = test\n",
    "\n",
    "players = [player1, player2]\n",
    "turn = 0\n",
    "\n",
    "simulate(players, bod, nodes, edge_statistics, turn)"
   ]
  },
  {
   "cell_type": "code",
   "execution_count": null,
   "metadata": {},
   "outputs": [],
   "source": [
    "value_df = create_values_df(nodes)\n",
    "moves_df = create_policy_df(edge_statistics)"
   ]
  },
  {
   "cell_type": "code",
   "execution_count": null,
   "metadata": {},
   "outputs": [],
   "source": [
    "def check_rot_inv(new_node_id, node_id_list):\n",
    "    sym = [new_node_id]\n",
    "    board_arr = bod.str2arr(new_node_id)\n",
    "    \n",
    "    for i in range(1,4):\n",
    "        rot = np.rot90(board_arr, k=i)\n",
    "        sym.append(bod.str2arr())"
   ]
  },
  {
   "cell_type": "code",
   "execution_count": null,
   "metadata": {},
   "outputs": [],
   "source": [
    "value_dfboard "
   ]
  },
  {
   "cell_type": "code",
   "execution_count": null,
   "metadata": {},
   "outputs": [],
   "source": [
    "test = np.array([[ 1,  0,  0],\n",
    "                 [ 0,  0, 0],\n",
    "                 [ 0,  0, 0]])\n",
    "\n",
    "np.flip(test)"
   ]
  },
  {
   "cell_type": "code",
   "execution_count": null,
   "metadata": {},
   "outputs": [],
   "source": [
    "node_tree_dict = {}\n",
    "\n",
    "for idx, value in moves_df.iterrows():\n",
    "    parent_id = value[\"init_state\"]\n",
    "    child_id = value[\"final_state\"]\n",
    "    \n",
    "    if not parent_id in node_tree_dict.keys():\n",
    "        parent_node = Node(parent_id)\n",
    "        node_tree_dict[parent_id] = parent_node\n",
    "    else:\n",
    "        parent_node = node_tree_dict[parent_id]\n",
    "        \n",
    "    if not child_id in node_tree_dict.keys():\n",
    "        child_node = Node(child_id)\n",
    "        node_tree_dict[child_id] = child_node\n",
    "    else:\n",
    "        child_node = node_tree_dict[child_id]\n",
    "        \n",
    "    parent_node.children.append(child_node)\n",
    "    child_node.parent.append(parent_node)\n",
    "    \n",
    "terminal = [x for x in node_tree_dict.values() if x.is_leaf()]\n",
    "for node in terminal:\n",
    "    board_arr = bod.str2arr(node.id)\n",
    "    node.board_arr = board_arr\n",
    "    winner = b.Board.winner(board_arr)\n",
    "    node.value = winner\n",
    "    node.N+=1\n",
    "    node.eval = True\n",
    "\n",
    "root = [x for x in node_tree_dict.values() if x.is_root()][0]\n",
    "root\n",
    "parent = root"
   ]
  },
  {
   "cell_type": "code",
   "execution_count": null,
   "metadata": {},
   "outputs": [],
   "source": []
  },
  {
   "cell_type": "code",
   "execution_count": null,
   "metadata": {},
   "outputs": [],
   "source": [
    "eval_to_leaf(root)\n"
   ]
  },
  {
   "cell_type": "code",
   "execution_count": null,
   "metadata": {},
   "outputs": [],
   "source": [
    "for x in [root]:\n",
    "    print (x.board_arr)\n",
    "    print(x.id)\n",
    "    print(x.turn)\n",
    "    print(x.N)\n",
    "    print(\"Q\",x.value)"
   ]
  },
  {
   "cell_type": "code",
   "execution_count": null,
   "metadata": {},
   "outputs": [],
   "source": [
    "X = [x.id for x in node_tree_dict.values()]\n",
    "Y = [x.value for x in node_tree_dict.values()]"
   ]
  },
  {
   "cell_type": "code",
   "execution_count": null,
   "metadata": {
    "scrolled": true
   },
   "outputs": [],
   "source": [
    "data = pd.DataFrame({\n",
    "    'init_state': X,\n",
    "    'Value': Y,\n",
    "    })\n",
    "\n",
    "data.sort_values(\"init_state\")"
   ]
  },
  {
   "cell_type": "code",
   "execution_count": null,
   "metadata": {},
   "outputs": [],
   "source": [
    "data.to_csv(\"training_data.csv\", index=False)"
   ]
  }
 ],
 "metadata": {
  "kernelspec": {
   "display_name": "Python 3",
   "language": "python",
   "name": "python3"
  },
  "language_info": {
   "codemirror_mode": {
    "name": "ipython",
    "version": 3
   },
   "file_extension": ".py",
   "mimetype": "text/x-python",
   "name": "python",
   "nbconvert_exporter": "python",
   "pygments_lexer": "ipython3",
   "version": "3.7.3"
  },
  "toc": {
   "base_numbering": 1,
   "nav_menu": {},
   "number_sections": true,
   "sideBar": true,
   "skip_h1_title": false,
   "title_cell": "Table of Contents",
   "title_sidebar": "Contents",
   "toc_cell": false,
   "toc_position": {},
   "toc_section_display": true,
   "toc_window_display": false
  }
 },
 "nbformat": 4,
 "nbformat_minor": 4
}
