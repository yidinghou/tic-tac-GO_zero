{
 "cells": [
  {
   "cell_type": "code",
   "execution_count": 1,
   "metadata": {},
   "outputs": [
    {
     "name": "stderr",
     "output_type": "stream",
     "text": [
      "Using TensorFlow backend.\n"
     ]
    }
   ],
   "source": [
    "import os\n",
    "import numpy as np\n",
    "import board\n",
    "import pickle\n",
    "import board as Board\n",
    "import player\n",
    "import game\n",
    "from copy import deepcopy\n",
    "import mcts \n",
    "\n",
    "from neural_network import*"
   ]
  },
  {
   "cell_type": "code",
   "execution_count": null,
   "metadata": {},
   "outputs": [],
   "source": [
    "import sys\n",
    "\n",
    "sys.path"
   ]
  },
  {
   "cell_type": "code",
   "execution_count": 2,
   "metadata": {},
   "outputs": [],
   "source": [
    "player1 = player.Zero_Player('x', 'Bot_ZERO', nn_type=\"w\", temperature=1)\n",
    "player2 = player.Zero_Player('o', 'Bot_ZERO', nn_type=\"w\", temperature=1)"
   ]
  },
  {
   "cell_type": "code",
   "execution_count": 5,
   "metadata": {},
   "outputs": [],
   "source": [
    "brd = b.Board()\n",
    "tree = mcts.MCTS()\n",
    "PATH = {\"path\":[]}\n"
   ]
  },
  {
   "cell_type": "code",
   "execution_count": null,
   "metadata": {},
   "outputs": [],
   "source": [
    "np.where(brd.board.ravel()!=0)[0].shape[0]"
   ]
  },
  {
   "cell_type": "code",
   "execution_count": 6,
   "metadata": {},
   "outputs": [],
   "source": [
    "players = [player1, player2]\n",
    "test = np.array([[ 1, -1,  1],\n",
    "       [ 0,  1, -1],\n",
    "       [ 1, 0, -1]])\n",
    "turn = 5\n",
    "n_map = {-1:\"o\", 0: \" \", 1: \"x\"}\n",
    "\n",
    "str_state = ''.join([n_map[i] for i in test.reshape(9,)])\n",
    "str_state\n",
    "\n",
    "brd.board = test\n",
    "\n",
    "mcts.simulate(players, turn, brd, tree, PATH, root = brd, n = 1)\n",
    "\n",
    "tree.update_nodes()"
   ]
  },
  {
   "cell_type": "code",
   "execution_count": null,
   "metadata": {},
   "outputs": [],
   "source": [
    "root_node = get_node('xox xox o', tree.TREE)\n",
    "root_node.N+=1"
   ]
  },
  {
   "cell_type": "code",
   "execution_count": 7,
   "metadata": {},
   "outputs": [
    {
     "data": {
      "text/plain": [
       "{'xox xox o': <mcts.Node at 0x7f9d012aba58>,\n",
       " 'xooox x x': <mcts.Node at 0x7f9d012ab9e8>,\n",
       " 'o xox xox': <mcts.Node at 0x7f9d012ab9b0>,\n",
       " 'x x xooox': <mcts.Node at 0x7f9d012aba20>}"
      ]
     },
     "execution_count": 7,
     "metadata": {},
     "output_type": "execute_result"
    }
   ],
   "source": [
    "tree.TREE"
   ]
  },
  {
   "cell_type": "code",
   "execution_count": null,
   "metadata": {},
   "outputs": [],
   "source": [
    "zero = [x for x in tree.TREE.values() if x.N==0]\n",
    "\n",
    "for node in zero:\n",
    "    print(node)\n",
    "    print(node.board_arr)\n",
    "    print(node.id)\n",
    "    print(node.N, node.W, node.Q, node.D, node.L)"
   ]
  },
  {
   "cell_type": "code",
   "execution_count": null,
   "metadata": {},
   "outputs": [],
   "source": [
    "root = [x for x in tree.TREE.values() if x.is_root()][0]\n",
    "\n",
    "for x in [root]:\n",
    "    print(x)\n",
    "    print(x.board_arr)\n",
    "    print(x.id)\n",
    "    print(x.edges)\n",
    "    print(\"W:\",x.W, \"L\",x.L, \"D\", x.D)\n",
    "    print(\"N:\", x.N)\n",
    "    print(\"Q\",x.Q)"
   ]
  },
  {
   "cell_type": "code",
   "execution_count": null,
   "metadata": {
    "scrolled": true
   },
   "outputs": [],
   "source": [
    "for x in tree.TREE.values():\n",
    "    print(x)\n",
    "    print(x.board_arr)\n",
    "    print(x.id)\n",
    "    print(x.edges)\n",
    "    print(\"W:\",x.W, \"L\",x.L, \"D\", x.D)\n",
    "    print(\"N:\", x.N)\n",
    "    print(\"Q\",x.Q)\n"
   ]
  },
  {
   "cell_type": "code",
   "execution_count": null,
   "metadata": {
    "scrolled": true
   },
   "outputs": [],
   "source": [
    "tree.TREE"
   ]
  },
  {
   "cell_type": "code",
   "execution_count": null,
   "metadata": {},
   "outputs": [],
   "source": [
    "player2.tree = tree.TREE\n",
    "player2.turn(brd)"
   ]
  }
 ],
 "metadata": {
  "kernelspec": {
   "display_name": "Python 3",
   "language": "python",
   "name": "python3"
  },
  "language_info": {
   "codemirror_mode": {
    "name": "ipython",
    "version": 3
   },
   "file_extension": ".py",
   "mimetype": "text/x-python",
   "name": "python",
   "nbconvert_exporter": "python",
   "pygments_lexer": "ipython3",
   "version": "3.8.3"
  },
  "toc": {
   "base_numbering": 1,
   "nav_menu": {},
   "number_sections": true,
   "sideBar": true,
   "skip_h1_title": false,
   "title_cell": "Table of Contents",
   "title_sidebar": "Contents",
   "toc_cell": false,
   "toc_position": {},
   "toc_section_display": true,
   "toc_window_display": false
  }
 },
 "nbformat": 4,
 "nbformat_minor": 4
}
