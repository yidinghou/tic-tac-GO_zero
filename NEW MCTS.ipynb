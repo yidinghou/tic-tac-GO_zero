{
 "cells": [
  {
   "cell_type": "code",
   "execution_count": 1,
   "metadata": {},
   "outputs": [
    {
     "name": "stderr",
     "output_type": "stream",
     "text": [
      "Using TensorFlow backend.\n"
     ]
    }
   ],
   "source": [
    "import os\n",
    "import numpy as np\n",
    "import board\n",
    "import pickle\n",
    "import board as Board\n",
    "import player\n",
    "import game\n",
    "from copy import deepcopy\n",
    "from mcts import *\n",
    "\n",
    "from neural_network import*"
   ]
  },
  {
   "cell_type": "code",
   "execution_count": 9,
   "metadata": {},
   "outputs": [
    {
     "data": {
      "text/plain": [
       "['/Users/yidinghou/Desktop/Projects/tic-tac-GO_zero',\n",
       " '/Users/yidinghou/anaconda3/lib/python37.zip',\n",
       " '/Users/yidinghou/anaconda3/lib/python3.7',\n",
       " '/Users/yidinghou/anaconda3/lib/python3.7/lib-dynload',\n",
       " '',\n",
       " '/Users/yidinghou/.local/lib/python3.7/site-packages',\n",
       " '/Users/yidinghou/anaconda3/lib/python3.7/site-packages',\n",
       " '/Users/yidinghou/anaconda3/lib/python3.7/site-packages/aeosa',\n",
       " '/Users/yidinghou/anaconda3/lib/python3.7/site-packages/object_detection-0.1-py3.7.egg',\n",
       " '/Users/yidinghou/anaconda3/lib/python3.7/site-packages/IPython/extensions',\n",
       " '/Users/yidinghou/.ipython']"
      ]
     },
     "execution_count": 9,
     "metadata": {},
     "output_type": "execute_result"
    }
   ],
   "source": [
    "import sys\n",
    "\n",
    "sys.path"
   ]
  },
  {
   "cell_type": "code",
   "execution_count": 2,
   "metadata": {},
   "outputs": [],
   "source": [
    "player1 = player.Zero_Player('x', 'Bot_ZERO', nn_type=\"w\", temperature=1)\n",
    "player2 = player.Zero_Player('o', 'Bot_ZERO', nn_type=\"w\", temperature=1)"
   ]
  },
  {
   "cell_type": "code",
   "execution_count": 3,
   "metadata": {},
   "outputs": [],
   "source": [
    "brd = b.Board()\n",
    "tree = MCTS()\n",
    "PATH = {\"path\":[]}\n"
   ]
  },
  {
   "cell_type": "code",
   "execution_count": 4,
   "metadata": {},
   "outputs": [],
   "source": [
    "players = [player1, player2]\n",
    "test = np.array([[  1,   -1,  1],\n",
    "                 [  0,   1,   0],\n",
    "                 [  0,   0,  -1]])\n",
    "turn = 5\n",
    "n_map = {-1:\"o\", 0: \" \", 1: \"x\"}\n",
    "\n",
    "str_state = ''.join([n_map[i] for i in test.reshape(9,)])\n",
    "str_state\n",
    "\n",
    "brd.board = test\n",
    "\n",
    "simulate(players, turn, brd, tree.TREE, PATH, root = brd, n = 10)\n",
    "\n",
    "tree.update_nodes()"
   ]
  },
  {
   "cell_type": "code",
   "execution_count": 5,
   "metadata": {},
   "outputs": [
    {
     "name": "stdout",
     "output_type": "stream",
     "text": [
      "<mcts.Node object at 0x7fa7a4a8ebe0>\n",
      "[[ 1 -1  1]\n",
      " [ 0  1  0]\n",
      " [ 0  0 -1]]\n",
      "xox x   o\n",
      "[]\n",
      "W: 5 L 1 D 4\n",
      "N: 10\n",
      "Q 0.7\n"
     ]
    }
   ],
   "source": [
    "root = [x for x in tree.TREE.values() if x.is_root()][0]\n",
    "\n",
    "for x in [root]:\n",
    "    print(x)\n",
    "    print(x.board_arr)\n",
    "    print(x.id)\n",
    "    print(x.edges)\n",
    "    print(\"W:\",x.W, \"L\",x.L, \"D\", x.D)\n",
    "    print(\"N:\", x.N)\n",
    "    print(\"Q\",x.Q)"
   ]
  },
  {
   "cell_type": "code",
   "execution_count": 6,
   "metadata": {
    "scrolled": true
   },
   "outputs": [
    {
     "name": "stdout",
     "output_type": "stream",
     "text": [
      "<mcts.Node object at 0x7fa7a4a8ebe0>\n",
      "[[ 1 -1  1]\n",
      " [ 0  1  0]\n",
      " [ 0  0 -1]]\n",
      "xox x   o\n",
      "[]\n",
      "W: 5 L 1 D 4\n",
      "N: 10\n",
      "Q 0.7\n",
      "<mcts.Node object at 0x7fa79cf18c88>\n",
      "[[ 1 -1  1]\n",
      " [ 0  1  0]\n",
      " [ 0 -1 -1]]\n",
      "xox x  oo\n",
      "[]\n",
      "W: 2 L 1 D 0\n",
      "N: 3\n",
      "Q 0.6666666666666666\n",
      "<mcts.Node object at 0x7fa79cf18be0>\n",
      "[[ 1 -1  1]\n",
      " [ 0  1  0]\n",
      " [ 1 -1 -1]]\n",
      "xox x xoo\n",
      "[]\n",
      "W: 2 L 0 D 0\n",
      "N: 2\n",
      "Q 1.0\n",
      "<mcts.Node object at 0x7fa7a4a76518>\n",
      "[[ 1 -1  1]\n",
      " [-1  1  0]\n",
      " [ 0  0 -1]]\n",
      "xoxox   o\n",
      "[]\n",
      "W: 0 L 0 D 1\n",
      "N: 1\n",
      "Q 0.5\n",
      "<mcts.Node object at 0x7fa79cf18b00>\n",
      "[[ 1 -1  1]\n",
      " [-1  1  0]\n",
      " [ 0  1 -1]]\n",
      "xoxox  xo\n",
      "[]\n",
      "W: 0 L 0 D 1\n",
      "N: 1\n",
      "Q 0.5\n",
      "<mcts.Node object at 0x7fa79cf18ac8>\n",
      "[[ 1 -1  1]\n",
      " [-1  1  0]\n",
      " [-1  1 -1]]\n",
      "xoxox oxo\n",
      "[]\n",
      "W: 0 L 0 D 3\n",
      "N: 3\n",
      "Q 0.5\n",
      "<mcts.Node object at 0x7fa79cf18748>\n",
      "[[ 1 -1  1]\n",
      " [-1  1  1]\n",
      " [-1  1 -1]]\n",
      "xoxoxxoxo\n",
      "[]\n",
      "W: 0 L 0 D 3\n",
      "N: 3\n",
      "Q 0.5\n",
      "<mcts.Node object at 0x7fa79cf18b70>\n",
      "[[ 1 -1  1]\n",
      " [ 0  1  0]\n",
      " [-1  0 -1]]\n",
      "xox x o o\n",
      "[]\n",
      "W: 0 L 0 D 2\n",
      "N: 2\n",
      "Q 0.5\n",
      "<mcts.Node object at 0x7fa79cf187b8>\n",
      "[[ 1 -1  1]\n",
      " [ 0  1  0]\n",
      " [-1  1 -1]]\n",
      "xox x oxo\n",
      "[]\n",
      "W: 0 L 0 D 2\n",
      "N: 2\n",
      "Q 0.5\n",
      "<mcts.Node object at 0x7fa7a4a8ec50>\n",
      "[[ 1 -1  1]\n",
      " [ 1  1  0]\n",
      " [ 0 -1 -1]]\n",
      "xoxxx  oo\n",
      "[]\n",
      "W: 0 L 1 D 0\n",
      "N: 1\n",
      "Q 0.0\n",
      "<mcts.Node object at 0x7fa7a4a8ed68>\n",
      "[[ 1 -1  1]\n",
      " [ 1  1  0]\n",
      " [-1 -1 -1]]\n",
      "xoxxx ooo\n",
      "[]\n",
      "W: 0 L 1 D 0\n",
      "N: 1\n",
      "Q 0.0\n",
      "<mcts.Node object at 0x7fa79cf18710>\n",
      "[[ 1 -1  1]\n",
      " [ 0  1 -1]\n",
      " [ 0  0 -1]]\n",
      "xox xo  o\n",
      "[]\n",
      "W: 3 L 0 D 1\n",
      "N: 4\n",
      "Q 0.875\n",
      "<mcts.Node object at 0x7fa7a4a8ee10>\n",
      "[[ 1 -1  1]\n",
      " [ 1  1 -1]\n",
      " [ 0  0 -1]]\n",
      "xoxxxo  o\n",
      "[]\n",
      "W: 2 L 0 D 0\n",
      "N: 2\n",
      "Q 1.0\n",
      "<mcts.Node object at 0x7fa7a4a8eeb8>\n",
      "[[ 1 -1  1]\n",
      " [ 1  1 -1]\n",
      " [ 0 -1 -1]]\n",
      "xoxxxo oo\n",
      "[]\n",
      "W: 2 L 0 D 0\n",
      "N: 2\n",
      "Q 1.0\n",
      "<mcts.Node object at 0x7fa7a4a8ef60>\n",
      "[[ 1 -1  1]\n",
      " [ 1  1 -1]\n",
      " [ 1 -1 -1]]\n",
      "xoxxxoxoo\n",
      "[]\n",
      "W: 2 L 0 D 0\n",
      "N: 2\n",
      "Q 1.0\n",
      "<mcts.Node object at 0x7fa7a4a8a128>\n",
      "[[ 1 -1  1]\n",
      " [ 0  1 -1]\n",
      " [ 1  0 -1]]\n",
      "xox xox o\n",
      "[]\n",
      "W: 1 L 0 D 0\n",
      "N: 1\n",
      "Q 1.0\n",
      "<mcts.Node object at 0x7fa7a4a8a2b0>\n",
      "[[ 1 -1  1]\n",
      " [ 0  1 -1]\n",
      " [ 0  1 -1]]\n",
      "xox xo xo\n",
      "[]\n",
      "W: 0 L 0 D 1\n",
      "N: 1\n",
      "Q 0.5\n",
      "<mcts.Node object at 0x7fa7a4a8a358>\n",
      "[[ 1 -1  1]\n",
      " [ 0  1 -1]\n",
      " [-1  1 -1]]\n",
      "xox xooxo\n",
      "[]\n",
      "W: 0 L 0 D 1\n",
      "N: 1\n",
      "Q 0.5\n",
      "<mcts.Node object at 0x7fa7a4a8a400>\n",
      "[[ 1 -1  1]\n",
      " [ 1  1 -1]\n",
      " [-1  1 -1]]\n",
      "xoxxxooxo\n",
      "[]\n",
      "W: 0 L 0 D 1\n",
      "N: 1\n",
      "Q 0.5\n"
     ]
    }
   ],
   "source": [
    "for x in tree.TREE.values():\n",
    "    print(x)\n",
    "    print(x.board_arr)\n",
    "    print(x.id)\n",
    "    print(x.edges)\n",
    "    print(\"W:\",x.W, \"L\",x.L, \"D\", x.D)\n",
    "    print(\"N:\", x.N)\n",
    "    print(\"Q\",x.Q)\n"
   ]
  },
  {
   "cell_type": "code",
   "execution_count": 7,
   "metadata": {
    "scrolled": true
   },
   "outputs": [
    {
     "data": {
      "text/plain": [
       "{'xox x   o': <mcts.Node at 0x7fa7a4a8ebe0>,\n",
       " 'xox x  oo': <mcts.Node at 0x7fa79cf18c88>,\n",
       " 'xox x xoo': <mcts.Node at 0x7fa79cf18be0>,\n",
       " 'xoxox   o': <mcts.Node at 0x7fa7a4a76518>,\n",
       " 'xoxox  xo': <mcts.Node at 0x7fa79cf18b00>,\n",
       " 'xoxox oxo': <mcts.Node at 0x7fa79cf18ac8>,\n",
       " 'xoxoxxoxo': <mcts.Node at 0x7fa79cf18748>,\n",
       " 'xox x o o': <mcts.Node at 0x7fa79cf18b70>,\n",
       " 'xox x oxo': <mcts.Node at 0x7fa79cf187b8>,\n",
       " 'xoxxx  oo': <mcts.Node at 0x7fa7a4a8ec50>,\n",
       " 'xoxxx ooo': <mcts.Node at 0x7fa7a4a8ed68>,\n",
       " 'xox xo  o': <mcts.Node at 0x7fa79cf18710>,\n",
       " 'xoxxxo  o': <mcts.Node at 0x7fa7a4a8ee10>,\n",
       " 'xoxxxo oo': <mcts.Node at 0x7fa7a4a8eeb8>,\n",
       " 'xoxxxoxoo': <mcts.Node at 0x7fa7a4a8ef60>,\n",
       " 'xox xox o': <mcts.Node at 0x7fa7a4a8a128>,\n",
       " 'xox xo xo': <mcts.Node at 0x7fa7a4a8a2b0>,\n",
       " 'xox xooxo': <mcts.Node at 0x7fa7a4a8a358>,\n",
       " 'xoxxxooxo': <mcts.Node at 0x7fa7a4a8a400>}"
      ]
     },
     "execution_count": 7,
     "metadata": {},
     "output_type": "execute_result"
    }
   ],
   "source": [
    "tree.TREE"
   ]
  },
  {
   "cell_type": "code",
   "execution_count": 8,
   "metadata": {},
   "outputs": [
    {
     "ename": "AttributeError",
     "evalue": "'Zero_Player' object has no attribute 'keras_nn'",
     "output_type": "error",
     "traceback": [
      "\u001b[0;31m---------------------------------------------------------------------------\u001b[0m",
      "\u001b[0;31mAttributeError\u001b[0m                            Traceback (most recent call last)",
      "\u001b[0;32m<ipython-input-8-c00ef26d9eb9>\u001b[0m in \u001b[0;36m<module>\u001b[0;34m\u001b[0m\n\u001b[1;32m      1\u001b[0m \u001b[0mplayer2\u001b[0m\u001b[0;34m.\u001b[0m\u001b[0mtree\u001b[0m \u001b[0;34m=\u001b[0m \u001b[0mtree\u001b[0m\u001b[0;34m.\u001b[0m\u001b[0mTREE\u001b[0m\u001b[0;34m\u001b[0m\u001b[0;34m\u001b[0m\u001b[0m\n\u001b[0;32m----> 2\u001b[0;31m \u001b[0mplayer2\u001b[0m\u001b[0;34m.\u001b[0m\u001b[0mturn\u001b[0m\u001b[0;34m(\u001b[0m\u001b[0mbrd\u001b[0m\u001b[0;34m)\u001b[0m\u001b[0;34m\u001b[0m\u001b[0;34m\u001b[0m\u001b[0m\n\u001b[0m",
      "\u001b[0;32m~/Desktop/Projects/tic-tac-GO_zero/player.py\u001b[0m in \u001b[0;36mturn\u001b[0;34m(self, board)\u001b[0m\n\u001b[1;32m    112\u001b[0m             \u001b[0mpossible_moves\u001b[0m \u001b[0;34m=\u001b[0m \u001b[0mnp\u001b[0m\u001b[0;34m.\u001b[0m\u001b[0mwhere\u001b[0m\u001b[0;34m(\u001b[0m\u001b[0mboard\u001b[0m\u001b[0;34m.\u001b[0m\u001b[0mboard\u001b[0m\u001b[0;34m.\u001b[0m\u001b[0mravel\u001b[0m\u001b[0;34m(\u001b[0m\u001b[0;34m)\u001b[0m\u001b[0;34m==\u001b[0m\u001b[0;36m0\u001b[0m\u001b[0;34m)\u001b[0m\u001b[0;34m[\u001b[0m\u001b[0;36m0\u001b[0m\u001b[0;34m]\u001b[0m\u001b[0;34m\u001b[0m\u001b[0;34m\u001b[0m\u001b[0m\n\u001b[1;32m    113\u001b[0m             \u001b[0mx_inp\u001b[0m \u001b[0;34m=\u001b[0m \u001b[0mnp\u001b[0m\u001b[0;34m.\u001b[0m\u001b[0mstack\u001b[0m\u001b[0;34m(\u001b[0m\u001b[0;34m[\u001b[0m\u001b[0;34m[\u001b[0m\u001b[0mboard\u001b[0m\u001b[0;34m.\u001b[0m\u001b[0mboard\u001b[0m\u001b[0;34m]\u001b[0m\u001b[0;34m]\u001b[0m\u001b[0;34m,\u001b[0m \u001b[0;34m-\u001b[0m\u001b[0;36m1\u001b[0m\u001b[0;34m)\u001b[0m\u001b[0;34m\u001b[0m\u001b[0;34m\u001b[0m\u001b[0m\n\u001b[0;32m--> 114\u001b[0;31m             \u001b[0mpred_winner\u001b[0m\u001b[0;34m,\u001b[0m \u001b[0mprior_prob\u001b[0m \u001b[0;34m=\u001b[0m \u001b[0mself\u001b[0m\u001b[0;34m.\u001b[0m\u001b[0mkeras_nn\u001b[0m\u001b[0;34m.\u001b[0m\u001b[0mpredict\u001b[0m\u001b[0;34m(\u001b[0m\u001b[0mx_inp\u001b[0m\u001b[0;34m)\u001b[0m\u001b[0;34m\u001b[0m\u001b[0;34m\u001b[0m\u001b[0m\n\u001b[0m\u001b[1;32m    115\u001b[0m             \u001b[0mprior_prob\u001b[0m \u001b[0;34m=\u001b[0m \u001b[0mprior_prob\u001b[0m\u001b[0;34m[\u001b[0m\u001b[0;36m0\u001b[0m\u001b[0;34m]\u001b[0m\u001b[0;34m\u001b[0m\u001b[0;34m\u001b[0m\u001b[0m\n\u001b[1;32m    116\u001b[0m \u001b[0;34m\u001b[0m\u001b[0m\n",
      "\u001b[0;31mAttributeError\u001b[0m: 'Zero_Player' object has no attribute 'keras_nn'"
     ]
    }
   ],
   "source": [
    "player2.tree = tree.TREE\n",
    "player2.turn(brd)"
   ]
  }
 ],
 "metadata": {
  "kernelspec": {
   "display_name": "Python 3",
   "language": "python",
   "name": "python3"
  },
  "language_info": {
   "codemirror_mode": {
    "name": "ipython",
    "version": 3
   },
   "file_extension": ".py",
   "mimetype": "text/x-python",
   "name": "python",
   "nbconvert_exporter": "python",
   "pygments_lexer": "ipython3",
   "version": "3.7.3"
  },
  "toc": {
   "base_numbering": 1,
   "nav_menu": {},
   "number_sections": true,
   "sideBar": true,
   "skip_h1_title": false,
   "title_cell": "Table of Contents",
   "title_sidebar": "Contents",
   "toc_cell": false,
   "toc_position": {},
   "toc_section_display": true,
   "toc_window_display": false
  }
 },
 "nbformat": 4,
 "nbformat_minor": 4
}
