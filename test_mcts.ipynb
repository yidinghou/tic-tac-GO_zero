{
 "cells": [
  {
   "cell_type": "code",
   "execution_count": 1,
   "metadata": {},
   "outputs": [],
   "source": [
    "__author__='Florin Bora'\n",
    "\n",
    "import player\n",
    "import game\n",
    "import neural_network\n",
    "import mcts\n",
    "import board as b\n",
    "import numpy as np\n",
    "import pandas as pd\n",
    "import keras\n",
    "import matplotlib.pyplot as plt\n"
   ]
  },
  {
   "cell_type": "code",
   "execution_count": 21,
   "metadata": {},
   "outputs": [],
   "source": [
    "# mcts.MCTS.get_tree_and_edges(reset=True)\n",
    "# neural_network.nn_predictor.reset_nn_check_pts()\n",
    "# nn_training_set = None\n",
    "\n",
    "iterations = 50\n",
    "player1 = player.Zero_Player('x', 'Bot_ONE', nn_type='best', temperature=1)\n",
    "player2 = player.Zero_Player('o', 'Bot_ONE', nn_type='best', temperature=1)\n",
    "\n",
    "player1.load_keras()\n",
    "player2.load_keras()\n",
    "\n",
    "\n",
    "# player1.value_estimate = \"\"\n",
    "self_play_game = game.Game(player1, player2)\n",
    "self_play_results = self_play_game.play(2)\n",
    "\n",
    "augmented_self_play_results = neural_network.augment_data_set(self_play_results)\n",
    "\n",
    "mcts.MCTS.update_mcts_edges(augmented_self_play_results)\n",
    "tree, edge_statistics = mcts.MCTS.get_tree_and_edges()"
   ]
  },
  {
   "cell_type": "code",
   "execution_count": 22,
   "metadata": {},
   "outputs": [
    {
     "data": {
      "text/plain": [
       "(3511, 7)"
      ]
     },
     "execution_count": 22,
     "metadata": {},
     "output_type": "execute_result"
    }
   ],
   "source": [
    "master_df = neural_network.create_data_from_mcts(edge_statistics)\n",
    "\n",
    "wm = lambda x: np.average(x, weights=master_df.loc[x.index, \"N\"])\n",
    "weightd_values = master_df.groupby([\"final_state\"])[\"value\"].apply(wm).reset_index()\n",
    "weightd_values.columns = [\"final_state\", \"value_weighted\"]\n",
    "master_df = master_df.merge(weightd_values, on=\"final_state\")\n",
    "master_df.shape"
   ]
  },
  {
   "cell_type": "code",
   "execution_count": null,
   "metadata": {},
   "outputs": [],
   "source": [
    "augmented_self_play_results[2] "
   ]
  },
  {
   "cell_type": "code",
   "execution_count": null,
   "metadata": {},
   "outputs": [],
   "source": [
    "self_play_results[0][0]"
   ]
  },
  {
   "cell_type": "code",
   "execution_count": 9,
   "metadata": {},
   "outputs": [],
   "source": [
    "board = b.Board()\n",
    "str_arr = board.arr2str(self_play_results[0][0][2])"
   ]
  },
  {
   "cell_type": "code",
   "execution_count": 25,
   "metadata": {},
   "outputs": [],
   "source": [
    "model = keras.models.load_model('./best_keras_model.tf')"
   ]
  },
  {
   "cell_type": "code",
   "execution_count": 53,
   "metadata": {},
   "outputs": [
    {
     "name": "stdout",
     "output_type": "stream",
     "text": [
      "[[0.34 0.55 0.11]]\n"
     ]
    },
    {
     "data": {
      "text/plain": [
       "array([[0.  , 0.15, 0.  , 0.04, 0.25, 0.01, 0.  , 0.55, 0.  , 0.  ]],\n",
       "      dtype=float32)"
      ]
     },
     "execution_count": 53,
     "metadata": {},
     "output_type": "execute_result"
    }
   ],
   "source": [
    "test = np.array([[  1,   0 ,  1],\n",
    "                 [  0,  0 , 0],\n",
    "                 [  -1,   0,  -1]] )\n",
    "\n",
    "n_map = {-1:\"o\", 0: \" \", 1: \"x\"}\n",
    "\n",
    "str_state = ''.join([n_map[i] for i in test.reshape(9,)])\n",
    "str_state\n",
    "\n",
    "pred, prob = model.predict(np.stack([[test]],-1))\n",
    "print(pred.round(2))\n",
    "prob.round(2)"
   ]
  },
  {
   "cell_type": "code",
   "execution_count": 50,
   "metadata": {},
   "outputs": [
    {
     "data": {
      "text/html": [
       "<div>\n",
       "<style scoped>\n",
       "    .dataframe tbody tr th:only-of-type {\n",
       "        vertical-align: middle;\n",
       "    }\n",
       "\n",
       "    .dataframe tbody tr th {\n",
       "        vertical-align: top;\n",
       "    }\n",
       "\n",
       "    .dataframe thead th {\n",
       "        text-align: right;\n",
       "    }\n",
       "</style>\n",
       "<table border=\"1\" class=\"dataframe\">\n",
       "  <thead>\n",
       "    <tr style=\"text-align: right;\">\n",
       "      <th></th>\n",
       "      <th>final_state</th>\n",
       "      <th>value</th>\n",
       "      <th>N</th>\n",
       "      <th>init_state</th>\n",
       "      <th>move</th>\n",
       "      <th>inv_freq</th>\n",
       "      <th>value_weighted</th>\n",
       "    </tr>\n",
       "  </thead>\n",
       "  <tbody>\n",
       "  </tbody>\n",
       "</table>\n",
       "</div>"
      ],
      "text/plain": [
       "Empty DataFrame\n",
       "Columns: [final_state, value, N, init_state, move, inv_freq, value_weighted]\n",
       "Index: []"
      ]
     },
     "execution_count": 50,
     "metadata": {},
     "output_type": "execute_result"
    }
   ],
   "source": [
    "master_df[master_df[\"final_state\"]==str_state]"
   ]
  },
  {
   "cell_type": "code",
   "execution_count": 23,
   "metadata": {},
   "outputs": [
    {
     "data": {
      "text/html": [
       "<div>\n",
       "<style scoped>\n",
       "    .dataframe tbody tr th:only-of-type {\n",
       "        vertical-align: middle;\n",
       "    }\n",
       "\n",
       "    .dataframe tbody tr th {\n",
       "        vertical-align: top;\n",
       "    }\n",
       "\n",
       "    .dataframe thead th {\n",
       "        text-align: right;\n",
       "    }\n",
       "</style>\n",
       "<table border=\"1\" class=\"dataframe\">\n",
       "  <thead>\n",
       "    <tr style=\"text-align: right;\">\n",
       "      <th></th>\n",
       "      <th>final_state</th>\n",
       "      <th>value</th>\n",
       "      <th>N</th>\n",
       "      <th>init_state</th>\n",
       "      <th>move</th>\n",
       "      <th>inv_freq</th>\n",
       "      <th>value_weighted</th>\n",
       "    </tr>\n",
       "  </thead>\n",
       "  <tbody>\n",
       "    <tr>\n",
       "      <th>0</th>\n",
       "      <td>xox  xo</td>\n",
       "      <td>1.0</td>\n",
       "      <td>1</td>\n",
       "      <td>xox  xo</td>\n",
       "      <td>6.0</td>\n",
       "      <td>877.75</td>\n",
       "      <td>0.0</td>\n",
       "    </tr>\n",
       "    <tr>\n",
       "      <th>1</th>\n",
       "      <td>xox  xo</td>\n",
       "      <td>1.0</td>\n",
       "      <td>1</td>\n",
       "      <td>xox  xo</td>\n",
       "      <td>5.0</td>\n",
       "      <td>877.75</td>\n",
       "      <td>0.0</td>\n",
       "    </tr>\n",
       "    <tr>\n",
       "      <th>2</th>\n",
       "      <td>xox  xo</td>\n",
       "      <td>-1.0</td>\n",
       "      <td>1</td>\n",
       "      <td>xox  xo</td>\n",
       "      <td>6.0</td>\n",
       "      <td>877.75</td>\n",
       "      <td>0.0</td>\n",
       "    </tr>\n",
       "    <tr>\n",
       "      <th>3</th>\n",
       "      <td>xox  xo</td>\n",
       "      <td>-1.0</td>\n",
       "      <td>1</td>\n",
       "      <td>xox  xo</td>\n",
       "      <td>5.0</td>\n",
       "      <td>877.75</td>\n",
       "      <td>0.0</td>\n",
       "    </tr>\n",
       "    <tr>\n",
       "      <th>4</th>\n",
       "      <td>x x oo</td>\n",
       "      <td>1.0</td>\n",
       "      <td>1</td>\n",
       "      <td>x x oo</td>\n",
       "      <td>1.0</td>\n",
       "      <td>3511.00</td>\n",
       "      <td>1.0</td>\n",
       "    </tr>\n",
       "    <tr>\n",
       "      <th>...</th>\n",
       "      <td>...</td>\n",
       "      <td>...</td>\n",
       "      <td>...</td>\n",
       "      <td>...</td>\n",
       "      <td>...</td>\n",
       "      <td>...</td>\n",
       "      <td>...</td>\n",
       "    </tr>\n",
       "    <tr>\n",
       "      <th>3506</th>\n",
       "      <td>x o o x x</td>\n",
       "      <td>1.0</td>\n",
       "      <td>1</td>\n",
       "      <td>x o o x x</td>\n",
       "      <td>5.0</td>\n",
       "      <td>3511.00</td>\n",
       "      <td>1.0</td>\n",
       "    </tr>\n",
       "    <tr>\n",
       "      <th>3507</th>\n",
       "      <td>oxxxoxo</td>\n",
       "      <td>-1.0</td>\n",
       "      <td>1</td>\n",
       "      <td>oxxxoxo</td>\n",
       "      <td>8.0</td>\n",
       "      <td>3511.00</td>\n",
       "      <td>-1.0</td>\n",
       "    </tr>\n",
       "    <tr>\n",
       "      <th>3508</th>\n",
       "      <td>o  ooxx x</td>\n",
       "      <td>1.0</td>\n",
       "      <td>1</td>\n",
       "      <td>o  ooxx x</td>\n",
       "      <td>2.0</td>\n",
       "      <td>3511.00</td>\n",
       "      <td>1.0</td>\n",
       "    </tr>\n",
       "    <tr>\n",
       "      <th>3509</th>\n",
       "      <td>ox xoox</td>\n",
       "      <td>-1.0</td>\n",
       "      <td>1</td>\n",
       "      <td>ox xoox</td>\n",
       "      <td>0.0</td>\n",
       "      <td>3511.00</td>\n",
       "      <td>-1.0</td>\n",
       "    </tr>\n",
       "    <tr>\n",
       "      <th>3510</th>\n",
       "      <td>x xo    o</td>\n",
       "      <td>1.0</td>\n",
       "      <td>1</td>\n",
       "      <td>x xo    o</td>\n",
       "      <td>7.0</td>\n",
       "      <td>3511.00</td>\n",
       "      <td>1.0</td>\n",
       "    </tr>\n",
       "  </tbody>\n",
       "</table>\n",
       "<p>3511 rows × 7 columns</p>\n",
       "</div>"
      ],
      "text/plain": [
       "     final_state  value  N init_state  move  inv_freq  value_weighted\n",
       "0        xox  xo    1.0  1    xox  xo   6.0    877.75             0.0\n",
       "1        xox  xo    1.0  1    xox  xo   5.0    877.75             0.0\n",
       "2        xox  xo   -1.0  1    xox  xo   6.0    877.75             0.0\n",
       "3        xox  xo   -1.0  1    xox  xo   5.0    877.75             0.0\n",
       "4         x x oo    1.0  1     x x oo   1.0   3511.00             1.0\n",
       "...          ...    ... ..        ...   ...       ...             ...\n",
       "3506   x o o x x    1.0  1  x o o x x   5.0   3511.00             1.0\n",
       "3507   oxxxoxo     -1.0  1  oxxxoxo     8.0   3511.00            -1.0\n",
       "3508   o  ooxx x    1.0  1  o  ooxx x   2.0   3511.00             1.0\n",
       "3509     ox xoox   -1.0  1    ox xoox   0.0   3511.00            -1.0\n",
       "3510   x xo    o    1.0  1  x xo    o   7.0   3511.00             1.0\n",
       "\n",
       "[3511 rows x 7 columns]"
      ]
     },
     "execution_count": 23,
     "metadata": {},
     "output_type": "execute_result"
    }
   ],
   "source": [
    "master_df"
   ]
  }
 ],
 "metadata": {
  "kernelspec": {
   "display_name": "Python 3",
   "language": "python",
   "name": "python3"
  },
  "language_info": {
   "codemirror_mode": {
    "name": "ipython",
    "version": 3
   },
   "file_extension": ".py",
   "mimetype": "text/x-python",
   "name": "python",
   "nbconvert_exporter": "python",
   "pygments_lexer": "ipython3",
   "version": "3.8.3"
  }
 },
 "nbformat": 4,
 "nbformat_minor": 4
}
