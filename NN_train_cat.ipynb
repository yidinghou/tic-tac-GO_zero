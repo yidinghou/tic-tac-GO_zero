{
 "cells": [
  {
   "cell_type": "code",
   "execution_count": 285,
   "metadata": {},
   "outputs": [
    {
     "name": "stdout",
     "output_type": "stream",
     "text": [
      "WARNING:tensorflow:From /Users/yidinghou/opt/anaconda3/lib/python3.8/site-packages/tensorflow/python/compat/v2_compat.py:96: disable_resource_variables (from tensorflow.python.ops.variable_scope) is deprecated and will be removed in a future version.\n",
      "Instructions for updating:\n",
      "non-resource variables are not supported in the long term\n"
     ]
    }
   ],
   "source": [
    "import keras\n",
    "from keras.layers import Input, Dense, Concatenate\n",
    "from keras.models import Sequential, Model\n",
    "from keras.layers import Dense, Conv1D, Flatten, Conv2D, MaxPooling1D, MaxPooling2D\n",
    "from keras.optimizers import SGD\n",
    "from keras import initializers\n",
    "from keras.regularizers import l2\n",
    "\n",
    "import player\n",
    "import game\n",
    "import neural_network\n",
    "import mcts\n",
    "import pandas as pd\n",
    "import numpy as np\n",
    "import matplotlib.pyplot as plt\n",
    "import board as b\n",
    "import keras\n",
    "import tensorflow.compat.v1 as tf\n",
    "tf.disable_v2_behavior()\n",
    "\n",
    "import pandas as pd\n",
    "import numpy as np\n",
    "from copy import deepcopy"
   ]
  },
  {
   "cell_type": "code",
   "execution_count": 218,
   "metadata": {},
   "outputs": [],
   "source": [
    "model = keras.models.load_model(\"./best_keras_model.tf\")\n",
    "data = pd.read_csv(\"training_data.csv\")\n",
    "\n",
    "X_str = data[\"init_state\"].values\n",
    "X_clean = np.array([b.Board.str2arr(x) for x in X_str])\n",
    "\n",
    "Y_value = data[\"Value\"].values\n",
    "targets = (Y_value + 1).round()\n",
    "Y_value_one_hot = np.eye(3)[targets.astype(int)]"
   ]
  },
  {
   "cell_type": "code",
   "execution_count": 246,
   "metadata": {},
   "outputs": [
    {
     "data": {
      "text/plain": [
       " 1    2936\n",
       "-1    1474\n",
       " 0    1068\n",
       "Name: Value, dtype: int64"
      ]
     },
     "execution_count": 246,
     "metadata": {},
     "output_type": "execute_result"
    }
   ],
   "source": [
    "data[\"Value\"].value_counts()"
   ]
  },
  {
   "cell_type": "code",
   "execution_count": 259,
   "metadata": {},
   "outputs": [
    {
     "data": {
      "text/html": [
       "<div>\n",
       "<style scoped>\n",
       "    .dataframe tbody tr th:only-of-type {\n",
       "        vertical-align: middle;\n",
       "    }\n",
       "\n",
       "    .dataframe tbody tr th {\n",
       "        vertical-align: top;\n",
       "    }\n",
       "\n",
       "    .dataframe thead th {\n",
       "        text-align: right;\n",
       "    }\n",
       "</style>\n",
       "<table border=\"1\" class=\"dataframe\">\n",
       "  <thead>\n",
       "    <tr style=\"text-align: right;\">\n",
       "      <th></th>\n",
       "      <th></th>\n",
       "      <th>init_state</th>\n",
       "      <th>Value</th>\n",
       "    </tr>\n",
       "    <tr>\n",
       "      <th>Value</th>\n",
       "      <th></th>\n",
       "      <th></th>\n",
       "      <th></th>\n",
       "    </tr>\n",
       "  </thead>\n",
       "  <tbody>\n",
       "    <tr>\n",
       "      <th rowspan=\"2\" valign=\"top\">-1</th>\n",
       "      <th>5425</th>\n",
       "      <td>xx o oxox</td>\n",
       "      <td>-1</td>\n",
       "    </tr>\n",
       "    <tr>\n",
       "      <th>5087</th>\n",
       "      <td>xxo  xo o</td>\n",
       "      <td>-1</td>\n",
       "    </tr>\n",
       "    <tr>\n",
       "      <th rowspan=\"2\" valign=\"top\">0</th>\n",
       "      <th>1148</th>\n",
       "      <td>oxxx o</td>\n",
       "      <td>0</td>\n",
       "    </tr>\n",
       "    <tr>\n",
       "      <th>398</th>\n",
       "      <td>xoxxxoo</td>\n",
       "      <td>0</td>\n",
       "    </tr>\n",
       "    <tr>\n",
       "      <th rowspan=\"2\" valign=\"top\">1</th>\n",
       "      <th>2646</th>\n",
       "      <td>xoo x xox</td>\n",
       "      <td>1</td>\n",
       "    </tr>\n",
       "    <tr>\n",
       "      <th>320</th>\n",
       "      <td>x x o x o</td>\n",
       "      <td>1</td>\n",
       "    </tr>\n",
       "  </tbody>\n",
       "</table>\n",
       "</div>"
      ],
      "text/plain": [
       "           init_state  Value\n",
       "Value                       \n",
       "-1    5425  xx o oxox     -1\n",
       "      5087  xxo  xo o     -1\n",
       " 0    1148  oxxx o         0\n",
       "      398   xoxxxoo        0\n",
       " 1    2646  xoo x xox      1\n",
       "      320   x x o x o      1"
      ]
     },
     "execution_count": 259,
     "metadata": {},
     "output_type": "execute_result"
    }
   ],
   "source": [
    "data.groupby(\"Value\").apply(lambda x: x.sample(2))\n"
   ]
  },
  {
   "cell_type": "code",
   "execution_count": 358,
   "metadata": {},
   "outputs": [],
   "source": [
    "\n",
    "Input_1 = Input(shape=(3, 3, 1))\n",
    "\n",
    "x1 = Conv2D(filters=3, kernel_size=(1, 3), activation='relu',\n",
    "            kernel_regularizer=l2(0.005),\n",
    "            kernel_initializer=initializers.RandomNormal(stddev=0.1, mean=0),\n",
    "            input_shape=(3, 3, 1))(Input_1)\n",
    "\n",
    "x2 = Conv2D(filters=3, kernel_size=(3, 1), activation='relu',\n",
    "            kernel_regularizer=l2(0.005),\n",
    "            kernel_initializer=initializers.RandomNormal(stddev=0.1, mean=0),\n",
    "            input_shape=(3, 3, 1))(Input_1)\n",
    "\n",
    "x3 = Conv2D(filters=4, kernel_size=(3, 3), activation='relu',\n",
    "            kernel_regularizer=l2(0.005),\n",
    "            kernel_initializer=initializers.RandomNormal(stddev=0.1, mean=0),\n",
    "            input_shape=(3, 3, 1))(Input_1)\n",
    "\n",
    "x1 = MaxPooling2D((3, 1))(x1)\n",
    "x2 = MaxPooling2D((1, 3))(x2)\n",
    "x3 = MaxPooling2D((1, 1))(x3)\n",
    "\n",
    "x = Concatenate()([x1, x2, x3])\n",
    "x = Flatten()(x)\n",
    "\n",
    "value_head = Dense(100, activation='relu')(x)\n",
    "value_head = Dense(10, activation='relu')(x)\n",
    "value_head = Dense(3, activation='softmax', name=\"V\")(x)\n",
    "\n",
    "model = Model(inputs=Input_1, outputs=value_head)\n",
    "model.compile(optimizer=\"adam\",\n",
    "                     loss= \"categorical_crossentropy\",\n",
    "                     metrics=['acc'])\n"
   ]
  },
  {
   "cell_type": "code",
   "execution_count": 356,
   "metadata": {},
   "outputs": [
    {
     "data": {
      "text/plain": [
       "array([0, 0, 0, ..., 2, 2, 2])"
      ]
     },
     "execution_count": 356,
     "metadata": {},
     "output_type": "execute_result"
    }
   ],
   "source": [
    "Y_value+1"
   ]
  },
  {
   "cell_type": "code",
   "execution_count": null,
   "metadata": {
    "scrolled": true
   },
   "outputs": [
    {
     "name": "stdout",
     "output_type": "stream",
     "text": [
      "Train on 12000 samples\n",
      "Epoch 1/10\n",
      "12000/12000 [==============================] - 0s 34us/sample - loss: 0.6676 - acc: 0.3333\n",
      "Epoch 2/10\n",
      "12000/12000 [==============================] - 0s 27us/sample - loss: 0.6433 - acc: 0.3341\n",
      "Epoch 3/10\n",
      "12000/12000 [==============================] - 0s 27us/sample - loss: 0.6110 - acc: 0.3472\n",
      "Epoch 4/10\n",
      "12000/12000 [==============================] - 0s 26us/sample - loss: 0.5969 - acc: 0.3655\n",
      "Epoch 5/10\n",
      "12000/12000 [==============================] - 0s 26us/sample - loss: 0.5870 - acc: 0.3788\n",
      "Epoch 6/10\n",
      "12000/12000 [==============================] - 0s 26us/sample - loss: 0.5802 - acc: 0.3882\n",
      "Epoch 7/10\n",
      "12000/12000 [==============================] - 0s 26us/sample - loss: 0.5756 - acc: 0.3943\n",
      "Epoch 8/10\n",
      "12000/12000 [==============================] - 0s 26us/sample - loss: 0.5723 - acc: 0.3985\n",
      "Epoch 9/10\n",
      "12000/12000 [==============================] - 0s 27us/sample - loss: 0.5694 - acc: 0.4041\n",
      "Epoch 10/10\n",
      "12000/12000 [==============================] - 0s 27us/sample - loss: 0.5668 - acc: 0.4067\n",
      "Train on 12000 samples\n",
      "Epoch 1/10\n",
      "12000/12000 [==============================] - 0s 37us/sample - loss: 0.5616 - acc: 0.4116\n",
      "Epoch 2/10\n",
      "12000/12000 [==============================] - 0s 33us/sample - loss: 0.5586 - acc: 0.4134\n",
      "Epoch 3/10\n",
      "12000/12000 [==============================] - 0s 31us/sample - loss: 0.5567 - acc: 0.4134\n",
      "Epoch 4/10\n",
      "12000/12000 [==============================] - 0s 30us/sample - loss: 0.5544 - acc: 0.4153\n",
      "Epoch 5/10\n",
      "12000/12000 [==============================] - 0s 27us/sample - loss: 0.5528 - acc: 0.4168\n",
      "Epoch 6/10\n",
      "12000/12000 [==============================] - 0s 27us/sample - loss: 0.5512 - acc: 0.4166\n",
      "Epoch 7/10\n",
      "12000/12000 [==============================] - 0s 31us/sample - loss: 0.5502 - acc: 0.4188\n",
      "Epoch 8/10\n",
      "12000/12000 [==============================] - 0s 27us/sample - loss: 0.5492 - acc: 0.4190\n",
      "Epoch 9/10\n",
      "12000/12000 [==============================] - 0s 31us/sample - loss: 0.5487 - acc: 0.4189\n",
      "Epoch 10/10\n",
      "12000/12000 [==============================] - 1s 44us/sample - loss: 0.5484 - acc: 0.4212\n",
      "Train on 12000 samples\n",
      "Epoch 1/10\n",
      "12000/12000 [==============================] - 0s 32us/sample - loss: 0.5555 - acc: 0.4100\n",
      "Epoch 2/10\n",
      "12000/12000 [==============================] - 0s 33us/sample - loss: 0.5537 - acc: 0.4157\n",
      "Epoch 3/10\n",
      "12000/12000 [==============================] - 1s 45us/sample - loss: 0.5532 - acc: 0.4153\n",
      "Epoch 4/10\n",
      "12000/12000 [==============================] - 0s 33us/sample - loss: 0.5529 - acc: 0.4173\n",
      "Epoch 5/10\n",
      "12000/12000 [==============================] - 0s 28us/sample - loss: 0.5523 - acc: 0.4168\n",
      "Epoch 6/10\n",
      "12000/12000 [==============================] - 0s 32us/sample - loss: 0.5514 - acc: 0.4174\n",
      "Epoch 7/10\n",
      "12000/12000 [==============================] - 0s 30us/sample - loss: 0.5511 - acc: 0.4167\n",
      "Epoch 8/10\n",
      "12000/12000 [==============================] - 0s 28us/sample - loss: 0.5509 - acc: 0.4171\n",
      "Epoch 9/10\n",
      "12000/12000 [==============================] - 0s 28us/sample - loss: 0.5504 - acc: 0.4157\n",
      "Epoch 10/10\n",
      "12000/12000 [==============================] - 0s 26us/sample - loss: 0.5504 - acc: 0.4174\n",
      "Train on 12000 samples\n",
      "Epoch 1/10\n",
      "12000/12000 [==============================] - 0s 33us/sample - loss: 0.5459 - acc: 0.4213\n",
      "Epoch 2/10\n",
      "12000/12000 [==============================] - 0s 30us/sample - loss: 0.5448 - acc: 0.4202\n",
      "Epoch 3/10\n",
      "12000/12000 [==============================] - 0s 29us/sample - loss: 0.5455 - acc: 0.4218\n",
      "Epoch 4/10\n",
      "12000/12000 [==============================] - 0s 28us/sample - loss: 0.5439 - acc: 0.4238\n",
      "Epoch 5/10\n",
      "12000/12000 [==============================] - 0s 28us/sample - loss: 0.5440 - acc: 0.4257\n",
      "Epoch 6/10\n",
      "12000/12000 [==============================] - 0s 28us/sample - loss: 0.5437 - acc: 0.4269\n",
      "Epoch 7/10\n",
      "12000/12000 [==============================] - 0s 27us/sample - loss: 0.5440 - acc: 0.4232\n",
      "Epoch 8/10\n",
      "12000/12000 [==============================] - 0s 31us/sample - loss: 0.5437 - acc: 0.4207\n",
      "Epoch 9/10\n",
      "12000/12000 [==============================] - 0s 28us/sample - loss: 0.5436 - acc: 0.4236\n",
      "Epoch 10/10\n",
      "12000/12000 [==============================] - 0s 28us/sample - loss: 0.5432 - acc: 0.4243\n",
      "Train on 12000 samples\n",
      "Epoch 1/10\n",
      "12000/12000 [==============================] - 0s 34us/sample - loss: 0.5499 - acc: 0.4173\n",
      "Epoch 2/10\n",
      "12000/12000 [==============================] - 0s 27us/sample - loss: 0.5492 - acc: 0.4198\n",
      "Epoch 3/10\n",
      "12000/12000 [==============================] - 0s 30us/sample - loss: 0.5486 - acc: 0.4202\n",
      "Epoch 4/10\n",
      "12000/12000 [==============================] - 0s 30us/sample - loss: 0.5489 - acc: 0.4172\n",
      "Epoch 5/10\n",
      "12000/12000 [==============================] - 0s 27us/sample - loss: 0.5490 - acc: 0.4193\n",
      "Epoch 6/10\n",
      "12000/12000 [==============================] - 0s 33us/sample - loss: 0.5484 - acc: 0.4193\n",
      "Epoch 7/10\n",
      "12000/12000 [==============================] - 0s 29us/sample - loss: 0.5478 - acc: 0.4208\n",
      "Epoch 8/10\n",
      "12000/12000 [==============================] - 0s 26us/sample - loss: 0.5473 - acc: 0.4200\n",
      "Epoch 9/10\n",
      "12000/12000 [==============================] - 0s 29us/sample - loss: 0.5460 - acc: 0.4199\n",
      "Epoch 10/10\n",
      "12000/12000 [==============================] - 0s 29us/sample - loss: 0.5461 - acc: 0.4198\n",
      "Train on 12000 samples\n",
      "Epoch 1/10\n",
      "12000/12000 [==============================] - 0s 25us/sample - loss: 0.5407 - acc: 0.4296\n",
      "Epoch 2/10\n",
      "12000/12000 [==============================] - 0s 31us/sample - loss: 0.5403 - acc: 0.4308\n",
      "Epoch 3/10\n",
      "12000/12000 [==============================] - 0s 28us/sample - loss: 0.5400 - acc: 0.4308\n",
      "Epoch 4/10\n",
      "12000/12000 [==============================] - 0s 33us/sample - loss: 0.5396 - acc: 0.4308\n",
      "Epoch 5/10\n",
      "12000/12000 [==============================] - 0s 29us/sample - loss: 0.5397 - acc: 0.4306\n",
      "Epoch 6/10\n",
      "12000/12000 [==============================] - 0s 27us/sample - loss: 0.5398 - acc: 0.4296\n",
      "Epoch 7/10\n",
      "12000/12000 [==============================] - 0s 34us/sample - loss: 0.5392 - acc: 0.4313\n",
      "Epoch 8/10\n",
      "12000/12000 [==============================] - 0s 28us/sample - loss: 0.5395 - acc: 0.4302\n",
      "Epoch 9/10\n",
      "12000/12000 [==============================] - 0s 34us/sample - loss: 0.5401 - acc: 0.4297\n",
      "Epoch 10/10\n",
      "12000/12000 [==============================] - 0s 30us/sample - loss: 0.5393 - acc: 0.4309\n",
      "Train on 12000 samples\n",
      "Epoch 1/10\n",
      "12000/12000 [==============================] - 0s 34us/sample - loss: 0.5417 - acc: 0.4269\n",
      "Epoch 2/10\n",
      "12000/12000 [==============================] - 0s 33us/sample - loss: 0.5403 - acc: 0.4283\n",
      "Epoch 3/10\n",
      "12000/12000 [==============================] - 0s 33us/sample - loss: 0.5413 - acc: 0.4263\n",
      "Epoch 4/10\n",
      " 8288/12000 [===================>..........] - ETA: 0s - loss: 0.5424 - acc: 0.4298"
     ]
    }
   ],
   "source": [
    "iterations= 50\n",
    "\n",
    "for i in range(iterations):\n",
    "    sample = data.groupby(\"Value\").apply(lambda x: x.sample(1000))\n",
    "\n",
    "    X_str = sample[\"init_state\"].values\n",
    "    X_clean = [b.Board.str2arr(x) for x in X_str]\n",
    "\n",
    "    X_augmented = deepcopy(X_clean)\n",
    "    for k in range(1,4):\n",
    "        X_augmented+=[np.rot90(state, k=k) for state in X_clean]\n",
    "\n",
    "    Y_value = sample[\"Value\"].values \n",
    "    Y_augmented = np.tile(Y_value,4)\n",
    "    targets = (Y_augmented + 1).round()\n",
    "    Y_value_one_hot = np.eye(3)[targets.astype(int)]\n",
    "\n",
    "\n",
    "\n",
    "    X_final = np.stack([X_augmented], axis=-1)\n",
    "    model.fit(X_final, Y_augmented, epochs=10, verbose=1)"
   ]
  },
  {
   "cell_type": "code",
   "execution_count": 353,
   "metadata": {},
   "outputs": [],
   "source": [
    "model.save(\"./best_keras_model.tf\")\n"
   ]
  },
  {
   "cell_type": "code",
   "execution_count": 340,
   "metadata": {},
   "outputs": [
    {
     "data": {
      "image/png": "[encoded data removed]",
      "text/plain": [
       "<Figure size 432x288 with 3 Axes>"
      ]
     },
     "metadata": {},
     "output_type": "display_data"
    },
    {
     "data": {
      "text/plain": [
       "array([[-0.16631162,  0.39002407, -0.2856844 ]], dtype=float32)"
      ]
     },
     "execution_count": 340,
     "metadata": {},
     "output_type": "execute_result"
    }
   ],
   "source": [
    "filters = model.layers[1].get_weights()[0]\n",
    "f_min, f_max = filters.min(), filters.max()\n",
    "n_filters, ix = 3 , 1\n",
    "\n",
    "for i in range(n_filters):\n",
    "    # get the filter\n",
    "    f = filters[:, :, :, i]\n",
    "    # plot each channel separately\n",
    "    for j in range(1):\n",
    "        # specify subplot and turn of axis\n",
    "        ax = plt.subplot(n_filters, 3, ix)\n",
    "        ax.set_xticks([])\n",
    "        ax.set_yticks([])\n",
    "        # plot filter channel in grayscale\n",
    "        plt.imshow(f[:, :, j], cmap='RdBu', vmin = -1, vmax = 1)\n",
    "        ix += 1\n",
    "\n",
    "# show the figure\n",
    "plt.show()\n",
    "f[:, :, j]"
   ]
  },
  {
   "cell_type": "code",
   "execution_count": 339,
   "metadata": {},
   "outputs": [
    {
     "data": {
      "image/png": "[encoded data removed]",
      "text/plain": [
       "<Figure size 432x288 with 3 Axes>"
      ]
     },
     "metadata": {},
     "output_type": "display_data"
    },
    {
     "data": {
      "text/plain": [
       "array([[-0.3262563 ],\n",
       "       [-0.2132899 ],\n",
       "       [-0.19896498]], dtype=float32)"
      ]
     },
     "execution_count": 339,
     "metadata": {},
     "output_type": "execute_result"
    }
   ],
   "source": [
    "filters = model.layers[2].get_weights()[0]\n",
    "f_min, f_max = filters.min(), filters.max()\n",
    "n_filters, ix = 3 , 1\n",
    "\n",
    "for i in range(n_filters):\n",
    "    # get the filter\n",
    "    f = filters[:, :, :, i]\n",
    "    # plot each channel separately\n",
    "    for j in range(1):\n",
    "        # specify subplot and turn of axis\n",
    "        ax = plt.subplot(n_filters, 3, ix)\n",
    "        ax.set_xticks([])\n",
    "        ax.set_yticks([])\n",
    "        # plot filter channel in grayscale\n",
    "        plt.imshow(f[:, :, j], cmap='RdBu', vmin = -1, vmax = 1)\n",
    "        ix += 1\n",
    "\n",
    "# show the figure\n",
    "plt.show()\n",
    "f[:, :, j]"
   ]
  },
  {
   "cell_type": "code",
   "execution_count": 338,
   "metadata": {},
   "outputs": [
    {
     "data": {
      "image/png": "[encoded data removed]",
      "text/plain": [
       "<Figure size 720x1440 with 4 Axes>"
      ]
     },
     "metadata": {},
     "output_type": "display_data"
    },
    {
     "data": {
      "text/plain": [
       "array([[-0.11883822, -0.36287555, -0.09135641],\n",
       "       [-0.17673668, -0.22344571, -0.1796872 ],\n",
       "       [-0.08874785, -0.34374246, -0.07226069]], dtype=float32)"
      ]
     },
     "execution_count": 338,
     "metadata": {},
     "output_type": "execute_result"
    }
   ],
   "source": [
    "filters = model.layers[3].get_weights()[0]\n",
    "f_min, f_max = filters.min(), filters.max()\n",
    "n_filters, ix = 4, 1\n",
    "\n",
    "fig, ax = plt.subplots(figsize=(10, 20))\n",
    "\n",
    "for i in range(n_filters):\n",
    "    # get the filter\n",
    "    f = filters[:, :, :, i]\n",
    "    # plot each channel separately\n",
    "    for j in range(1):\n",
    "        # specify subplot and turn of axis\n",
    "        ax = plt.subplot(n_filters, 3, ix)\n",
    "        ax.set_xticks([])\n",
    "        ax.set_yticks([])\n",
    "        # plot filter channel in grayscale\n",
    "        plt.imshow(f[:, :, j], cmap='RdBu', vmin = -1, vmax = 1)\n",
    "        ix += 1\n",
    "\n",
    "# show the figure\n",
    "\n",
    "\n",
    "plt.show()\n",
    "\n",
    "f[:, :, j]"
   ]
  },
  {
   "cell_type": "code",
   "execution_count": null,
   "metadata": {},
   "outputs": [],
   "source": []
  },
  {
   "cell_type": "code",
   "execution_count": 349,
   "metadata": {},
   "outputs": [
    {
     "name": "stdout",
     "output_type": "stream",
     "text": [
      "[[0.02398615 0.6648612  0.31115267]]\n",
      "0.9284292\n",
      "0.071570784\n"
     ]
    },
    {
     "data": {
      "text/html": [
       "<div>\n",
       "<style scoped>\n",
       "    .dataframe tbody tr th:only-of-type {\n",
       "        vertical-align: middle;\n",
       "    }\n",
       "\n",
       "    .dataframe tbody tr th {\n",
       "        vertical-align: top;\n",
       "    }\n",
       "\n",
       "    .dataframe thead th {\n",
       "        text-align: right;\n",
       "    }\n",
       "</style>\n",
       "<table border=\"1\" class=\"dataframe\">\n",
       "  <thead>\n",
       "    <tr style=\"text-align: right;\">\n",
       "      <th></th>\n",
       "      <th>init_state</th>\n",
       "      <th>Value</th>\n",
       "    </tr>\n",
       "  </thead>\n",
       "  <tbody>\n",
       "    <tr>\n",
       "      <th>3630</th>\n",
       "      <td>o x</td>\n",
       "      <td>0</td>\n",
       "    </tr>\n",
       "  </tbody>\n",
       "</table>\n",
       "</div>"
      ],
      "text/plain": [
       "     init_state  Value\n",
       "3630      o x        0"
      ]
     },
     "execution_count": 349,
     "metadata": {},
     "output_type": "execute_result"
    }
   ],
   "source": [
    "test = np.array([[ 0,  0,  0],\n",
    "                 [ 0,  -1, 0],\n",
    "                 [ 1,  0, 0]])\n",
    "\n",
    "n_map = {-1:\"o\", 0: \" \", 1: \"x\"}\n",
    "\n",
    "str_state = ''.join([n_map[i] for i in test.reshape(9,)])\n",
    "str_state\n",
    "inp = np.stack([[test]], axis=-1)\n",
    "               \n",
    "pred = model.predict(inp)\n",
    "lose, draw, win = pred[0]\n",
    "pred = model.predict(inp)\n",
    "print(pred)\n",
    "print((win)/(win+lose))\n",
    "print((lose)/(win+lose))\n",
    "\n",
    "data[data[\"init_state\"]==str_state]"
   ]
  },
  {
   "cell_type": "code",
   "execution_count": 350,
   "metadata": {},
   "outputs": [
    {
     "name": "stdout",
     "output_type": "stream",
     "text": [
      "[[0.03285283 0.49433896 0.47280812]]\n",
      "0.9350299\n",
      "0.064970076\n"
     ]
    },
    {
     "data": {
      "text/html": [
       "<div>\n",
       "<style scoped>\n",
       "    .dataframe tbody tr th:only-of-type {\n",
       "        vertical-align: middle;\n",
       "    }\n",
       "\n",
       "    .dataframe tbody tr th {\n",
       "        vertical-align: top;\n",
       "    }\n",
       "\n",
       "    .dataframe thead th {\n",
       "        text-align: right;\n",
       "    }\n",
       "</style>\n",
       "<table border=\"1\" class=\"dataframe\">\n",
       "  <thead>\n",
       "    <tr style=\"text-align: right;\">\n",
       "      <th></th>\n",
       "      <th>init_state</th>\n",
       "      <th>Value</th>\n",
       "    </tr>\n",
       "  </thead>\n",
       "  <tbody>\n",
       "    <tr>\n",
       "      <th>2905</th>\n",
       "      <td>o   x</td>\n",
       "      <td>1</td>\n",
       "    </tr>\n",
       "  </tbody>\n",
       "</table>\n",
       "</div>"
      ],
      "text/plain": [
       "     init_state  Value\n",
       "2905    o   x        1"
      ]
     },
     "execution_count": 350,
     "metadata": {},
     "output_type": "execute_result"
    }
   ],
   "source": [
    "test = np.array([[ 0,  0,  -1],\n",
    "                 [ 0,  0, 0],\n",
    "                 [ 1,  0, 0]])\n",
    "\n",
    "n_map = {-1:\"o\", 0: \" \", 1: \"x\"}\n",
    "\n",
    "str_state = ''.join([n_map[i] for i in test.reshape(9,)])\n",
    "str_state\n",
    "inp = np.stack([[test]], axis=-1)\n",
    "               \n",
    "pred = model.predict(inp)\n",
    "lose, draw, win = pred[0]\n",
    "pred = model.predict(inp)\n",
    "print(pred)\n",
    "print((win)/(win+lose))\n",
    "print((lose)/(win+lose))\n",
    "\n",
    "data[data[\"init_state\"]==str_state]"
   ]
  },
  {
   "cell_type": "code",
   "execution_count": 354,
   "metadata": {},
   "outputs": [
    {
     "name": "stdout",
     "output_type": "stream",
     "text": [
      "[[0.09869643 0.37080315 0.5305005 ]]\n",
      "0.84313905\n",
      "0.15686096\n"
     ]
    },
    {
     "data": {
      "text/html": [
       "<div>\n",
       "<style scoped>\n",
       "    .dataframe tbody tr th:only-of-type {\n",
       "        vertical-align: middle;\n",
       "    }\n",
       "\n",
       "    .dataframe tbody tr th {\n",
       "        vertical-align: top;\n",
       "    }\n",
       "\n",
       "    .dataframe thead th {\n",
       "        text-align: right;\n",
       "    }\n",
       "</style>\n",
       "<table border=\"1\" class=\"dataframe\">\n",
       "  <thead>\n",
       "    <tr style=\"text-align: right;\">\n",
       "      <th></th>\n",
       "      <th>init_state</th>\n",
       "      <th>Value</th>\n",
       "    </tr>\n",
       "  </thead>\n",
       "  <tbody>\n",
       "    <tr>\n",
       "      <th>1311</th>\n",
       "      <td>x o</td>\n",
       "      <td>1</td>\n",
       "    </tr>\n",
       "  </tbody>\n",
       "</table>\n",
       "</div>"
      ],
      "text/plain": [
       "     init_state  Value\n",
       "1311  x o            1"
      ]
     },
     "execution_count": 354,
     "metadata": {},
     "output_type": "execute_result"
    }
   ],
   "source": [
    "test = np.array([[ 1,  0,  -1],\n",
    "                 [ 0,  0, 0],\n",
    "                 [ 0,  0, 0]])\n",
    "\n",
    "n_map = {-1:\"o\", 0: \" \", 1: \"x\"}\n",
    "\n",
    "str_state = ''.join([n_map[i] for i in test.reshape(9,)])\n",
    "str_state\n",
    "inp = np.stack([[test]], axis=-1)\n",
    "               \n",
    "pred = model.predict(inp)\n",
    "lose, draw, win = pred[0]\n",
    "pred = model.predict(inp)\n",
    "print(pred)\n",
    "print((win)/(win+lose))\n",
    "print((lose)/(win+lose))\n",
    "\n",
    "data[data[\"init_state\"]==str_state]"
   ]
  },
  {
   "cell_type": "code",
   "execution_count": 352,
   "metadata": {},
   "outputs": [
    {
     "name": "stdout",
     "output_type": "stream",
     "text": [
      "[[0.01797386 0.77221376 0.2098124 ]]\n",
      "0.92109334\n",
      "0.07890669\n"
     ]
    },
    {
     "data": {
      "text/html": [
       "<div>\n",
       "<style scoped>\n",
       "    .dataframe tbody tr th:only-of-type {\n",
       "        vertical-align: middle;\n",
       "    }\n",
       "\n",
       "    .dataframe tbody tr th {\n",
       "        vertical-align: top;\n",
       "    }\n",
       "\n",
       "    .dataframe thead th {\n",
       "        text-align: right;\n",
       "    }\n",
       "</style>\n",
       "<table border=\"1\" class=\"dataframe\">\n",
       "  <thead>\n",
       "    <tr style=\"text-align: right;\">\n",
       "      <th></th>\n",
       "      <th>init_state</th>\n",
       "      <th>Value</th>\n",
       "    </tr>\n",
       "  </thead>\n",
       "  <tbody>\n",
       "    <tr>\n",
       "      <th>2075</th>\n",
       "      <td>x   o</td>\n",
       "      <td>0</td>\n",
       "    </tr>\n",
       "  </tbody>\n",
       "</table>\n",
       "</div>"
      ],
      "text/plain": [
       "     init_state  Value\n",
       "2075  x   o          0"
      ]
     },
     "execution_count": 352,
     "metadata": {},
     "output_type": "execute_result"
    }
   ],
   "source": [
    "test = np.array([[ 1,  0,  0],\n",
    "                 [ 0,  -1, 0],\n",
    "                 [ 0,  0, 0]])\n",
    "\n",
    "n_map = {-1:\"o\", 0: \" \", 1: \"x\"}\n",
    "\n",
    "str_state = ''.join([n_map[i] for i in test.reshape(9,)])\n",
    "str_state\n",
    "inp = np.stack([[test]], axis=-1)\n",
    "               \n",
    "pred = model.predict(inp)\n",
    "lose, draw, win = pred[0]\n",
    "pred = model.predict(inp)\n",
    "print(pred)\n",
    "print((win)/(win+lose))\n",
    "print((lose)/(win+lose))\n",
    "\n",
    "data[data[\"init_state\"]==str_state]"
   ]
  }
 ],
 "metadata": {
  "kernelspec": {
   "display_name": "Python 3",
   "language": "python",
   "name": "python3"
  },
  "language_info": {
   "codemirror_mode": {
    "name": "ipython",
    "version": 3
   },
   "file_extension": ".py",
   "mimetype": "text/x-python",
   "name": "python",
   "nbconvert_exporter": "python",
   "pygments_lexer": "ipython3",
   "version": "3.8.3"
  }
 },
 "nbformat": 4,
 "nbformat_minor": 4
}
