{
 "cells": [
  {
   "cell_type": "code",
   "execution_count": 1,
   "metadata": {},
   "outputs": [
    {
     "name": "stdout",
     "output_type": "stream",
     "text": [
      "WARNING:tensorflow:From /Users/yidinghou/opt/anaconda3/lib/python3.8/site-packages/tensorflow/python/compat/v2_compat.py:96: disable_resource_variables (from tensorflow.python.ops.variable_scope) is deprecated and will be removed in a future version.\n",
      "Instructions for updating:\n",
      "non-resource variables are not supported in the long term\n"
     ]
    }
   ],
   "source": [
    "import keras\n",
    "from keras.layers import Input, Dense, Concatenate\n",
    "from keras.models import Sequential, Model\n",
    "from keras.layers import Dense, Conv1D, Flatten, Conv2D, MaxPooling1D, MaxPooling2D\n",
    "from keras.optimizers import SGD\n",
    "from keras import initializers\n",
    "from keras.regularizers import l2\n",
    "\n",
    "import player\n",
    "import game\n",
    "import neural_network\n",
    "import mcts\n",
    "import pandas as pd\n",
    "import numpy as np\n",
    "import matplotlib.pyplot as plt\n",
    "import board as b\n",
    "import keras\n",
    "import tensorflow.compat.v1 as tf\n",
    "tf.disable_v2_behavior()\n",
    "\n",
    "import pandas as pd\n",
    "import numpy as np\n",
    "from copy import deepcopy"
   ]
  },
  {
   "cell_type": "code",
   "execution_count": 2,
   "metadata": {},
   "outputs": [],
   "source": [
    "# model = keras.models.load_model(\"./best_keras_model.tf\")\n",
    "data = pd.read_csv(\"training_data.csv\")\n",
    "data['empty_slots'] = data[\"init_state\"].apply(lambda x: len(x) - len(x.replace(\" \",\"\"))) + abs(data[\"Value\"])\n",
    "data['weights'] = data[\"empty_slots\"].apply(lambda x: pow(1.5, x))+5\n",
    "\n",
    "X_str = data[\"init_state\"].values\n",
    "X_clean = np.array([b.Board.str2arr(x) for x in X_str])\n",
    "\n",
    "Y_value = data[\"Value\"].values\n",
    "targets = (Y_value + 1).round()\n",
    "Y_value_one_hot = np.eye(3)[targets.astype(int)]"
   ]
  },
  {
   "cell_type": "code",
   "execution_count": null,
   "metadata": {},
   "outputs": [],
   "source": [
    "data.sort_values(\"weights\")"
   ]
  },
  {
   "cell_type": "code",
   "execution_count": 3,
   "metadata": {},
   "outputs": [
    {
     "data": {
      "text/plain": [
       " 1    2936\n",
       "-1    1474\n",
       " 0    1068\n",
       "Name: Value, dtype: int64"
      ]
     },
     "execution_count": 3,
     "metadata": {},
     "output_type": "execute_result"
    }
   ],
   "source": [
    "data[\"Value\"].value_counts()"
   ]
  },
  {
   "cell_type": "code",
   "execution_count": 11,
   "metadata": {},
   "outputs": [
    {
     "name": "stdout",
     "output_type": "stream",
     "text": [
      "Model: \"model_1\"\n",
      "__________________________________________________________________________________________________\n",
      "Layer (type)                    Output Shape         Param #     Connected to                     \n",
      "==================================================================================================\n",
      "input_2 (InputLayer)            [(None, 3, 3, 1)]    0                                            \n",
      "__________________________________________________________________________________________________\n",
      "conv2d_3 (Conv2D)               (None, 3, 1, 3)      12          input_2[0][0]                    \n",
      "__________________________________________________________________________________________________\n",
      "conv2d_4 (Conv2D)               (None, 1, 3, 3)      12          input_2[0][0]                    \n",
      "__________________________________________________________________________________________________\n",
      "conv2d_5 (Conv2D)               (None, 1, 1, 20)     200         input_2[0][0]                    \n",
      "__________________________________________________________________________________________________\n",
      "max_pooling2d_3 (MaxPooling2D)  (None, 1, 1, 3)      0           conv2d_3[0][0]                   \n",
      "__________________________________________________________________________________________________\n",
      "max_pooling2d_4 (MaxPooling2D)  (None, 1, 1, 3)      0           conv2d_4[0][0]                   \n",
      "__________________________________________________________________________________________________\n",
      "max_pooling2d_5 (MaxPooling2D)  (None, 1, 1, 20)     0           conv2d_5[0][0]                   \n",
      "__________________________________________________________________________________________________\n",
      "concatenate_1 (Concatenate)     (None, 1, 1, 26)     0           max_pooling2d_3[0][0]            \n",
      "                                                                 max_pooling2d_4[0][0]            \n",
      "                                                                 max_pooling2d_5[0][0]            \n",
      "__________________________________________________________________________________________________\n",
      "flatten_1 (Flatten)             (None, 26)           0           concatenate_1[0][0]              \n",
      "__________________________________________________________________________________________________\n",
      "V (Dense)                       (None, 1)            26          flatten_1[0][0]                  \n",
      "==================================================================================================\n",
      "Total params: 250\n",
      "Trainable params: 250\n",
      "Non-trainable params: 0\n",
      "__________________________________________________________________________________________________\n"
     ]
    }
   ],
   "source": [
    "\n",
    "Input_1 = Input(shape=(3, 3, 1))\n",
    "\n",
    "x1 = Conv2D(filters=3, kernel_size=(1, 3), activation='relu',\n",
    "            kernel_regularizer=l2(0.005),\n",
    "            kernel_initializer=initializers.RandomNormal(stddev=0.1, mean=0),\n",
    "            input_shape=(3, 3, 1))(Input_1)\n",
    "\n",
    "x2 = Conv2D(filters=3, kernel_size=(3, 1), activation='relu',\n",
    "            kernel_regularizer=l2(0.005),\n",
    "            kernel_initializer=initializers.RandomNormal(stddev=0.1, mean=0),\n",
    "            input_shape=(3, 3, 1))(Input_1)\n",
    "\n",
    "x3 = Conv2D(filters=20, kernel_size=(3, 3), activation='relu',\n",
    "            kernel_regularizer=l2(0.005),\n",
    "            kernel_initializer=initializers.RandomNormal(stddev=0.1, mean=0),\n",
    "            input_shape=(3, 3, 1))(Input_1)\n",
    "\n",
    "x1 = MaxPooling2D((3, 1))(x1)\n",
    "x2 = MaxPooling2D((1, 3))(x2)\n",
    "x3 = MaxPooling2D((1, 1))(x3)\n",
    "\n",
    "x = Concatenate()([x1, x2, x3])\n",
    "x = Flatten()(x)\n",
    "\n",
    "value_head = Dense(100, activation='relu')(x)\n",
    "value_head = Dense(10, activation='relu')(x)\n",
    "value_head = Dense(1, activation='relu', name=\"V\", use_bias=False)(x)\n",
    "\n",
    "model = Model(inputs=Input_1, outputs=value_head)\n",
    "model.compile(optimizer=\"adam\",\n",
    "                     loss= \"mse\",\n",
    "                     metrics=['acc'])\n",
    "\n",
    "model.save(\"./best_keras_model.tf\")\n",
    "model.summary()\n"
   ]
  },
  {
   "cell_type": "code",
   "execution_count": 17,
   "metadata": {
    "scrolled": true
   },
   "outputs": [
    {
     "name": "stdout",
     "output_type": "stream",
     "text": [
      "Train on 4000 samples\n",
      "Epoch 1/10\n",
      "4000/4000 [==============================] - 0s 71us/sample - loss: 0.3189 - acc: 0.4010\n",
      "Epoch 2/10\n",
      "4000/4000 [==============================] - 0s 68us/sample - loss: 0.1801 - acc: 0.5727\n",
      "Epoch 3/10\n",
      "4000/4000 [==============================] - 0s 88us/sample - loss: 0.1694 - acc: 0.5935\n",
      "Epoch 4/10\n",
      "4000/4000 [==============================] - 0s 56us/sample - loss: 0.1606 - acc: 0.6025\n",
      "Epoch 5/10\n",
      "4000/4000 [==============================] - 0s 55us/sample - loss: 0.1535 - acc: 0.6158\n",
      "Epoch 6/10\n",
      "4000/4000 [==============================] - 0s 53us/sample - loss: 0.1461 - acc: 0.6292\n",
      "Epoch 7/10\n",
      "4000/4000 [==============================] - 0s 65us/sample - loss: 0.1398 - acc: 0.6370\n",
      "Epoch 8/10\n",
      "4000/4000 [==============================] - 0s 59us/sample - loss: 0.1341 - acc: 0.6475\n",
      "Epoch 9/10\n",
      "4000/4000 [==============================] - 0s 58us/sample - loss: 0.1293 - acc: 0.6610\n",
      "Epoch 10/10\n",
      "4000/4000 [==============================] - 0s 48us/sample - loss: 0.1255 - acc: 0.6683\n",
      "Train on 4000 samples\n",
      "Epoch 1/10\n",
      "4000/4000 [==============================] - 0s 53us/sample - loss: 0.1237 - acc: 0.6793\n",
      "Epoch 2/10\n",
      "4000/4000 [==============================] - 0s 40us/sample - loss: 0.1196 - acc: 0.6875\n",
      "Epoch 3/10\n",
      "4000/4000 [==============================] - 0s 40us/sample - loss: 0.1167 - acc: 0.7032\n",
      "Epoch 4/10\n",
      "4000/4000 [==============================] - 0s 49us/sample - loss: 0.1138 - acc: 0.7048\n",
      "Epoch 5/10\n",
      "4000/4000 [==============================] - 0s 40us/sample - loss: 0.1118 - acc: 0.7138\n",
      "Epoch 6/10\n",
      "4000/4000 [==============================] - 0s 43us/sample - loss: 0.1098 - acc: 0.7178\n",
      "Epoch 7/10\n",
      "4000/4000 [==============================] - 0s 39us/sample - loss: 0.1079 - acc: 0.7190\n",
      "Epoch 8/10\n",
      "4000/4000 [==============================] - 0s 40us/sample - loss: 0.1062 - acc: 0.7262\n",
      "Epoch 9/10\n",
      "4000/4000 [==============================] - 0s 46us/sample - loss: 0.1044 - acc: 0.7308\n",
      "Epoch 10/10\n",
      "4000/4000 [==============================] - 0s 42us/sample - loss: 0.1028 - acc: 0.7355\n",
      "Train on 4000 samples\n",
      "Epoch 1/10\n",
      "4000/4000 [==============================] - 0s 37us/sample - loss: 0.1030 - acc: 0.7212\n",
      "Epoch 2/10\n",
      "4000/4000 [==============================] - 0s 42us/sample - loss: 0.1007 - acc: 0.7283\n",
      "Epoch 3/10\n",
      "4000/4000 [==============================] - 0s 42us/sample - loss: 0.0998 - acc: 0.7315\n",
      "Epoch 4/10\n",
      "4000/4000 [==============================] - 0s 49us/sample - loss: 0.0989 - acc: 0.7265\n",
      "Epoch 5/10\n",
      "4000/4000 [==============================] - 0s 49us/sample - loss: 0.0977 - acc: 0.7362\n",
      "Epoch 6/10\n",
      "4000/4000 [==============================] - 0s 51us/sample - loss: 0.0968 - acc: 0.7350\n",
      "Epoch 7/10\n",
      "4000/4000 [==============================] - 0s 82us/sample - loss: 0.0957 - acc: 0.7393\n",
      "Epoch 8/10\n",
      "4000/4000 [==============================] - 0s 121us/sample - loss: 0.0948 - acc: 0.7387s - loss: 0.0955 - acc: 0.\n",
      "Epoch 9/10\n",
      "4000/4000 [==============================] - 0s 39us/sample - loss: 0.0941 - acc: 0.7405\n",
      "Epoch 10/10\n",
      "4000/4000 [==============================] - 0s 33us/sample - loss: 0.0933 - acc: 0.7430\n",
      "Train on 4000 samples\n",
      "Epoch 1/10\n",
      "4000/4000 [==============================] - 0s 42us/sample - loss: 0.0931 - acc: 0.7490\n",
      "Epoch 2/10\n",
      "4000/4000 [==============================] - 0s 31us/sample - loss: 0.0923 - acc: 0.7433\n",
      "Epoch 3/10\n",
      "4000/4000 [==============================] - 0s 31us/sample - loss: 0.0915 - acc: 0.7483\n",
      "Epoch 4/10\n",
      "4000/4000 [==============================] - 0s 42us/sample - loss: 0.0908 - acc: 0.7490\n",
      "Epoch 5/10\n",
      "4000/4000 [==============================] - 0s 110us/sample - loss: 0.0902 - acc: 0.7527\n",
      "Epoch 6/10\n",
      "4000/4000 [==============================] - 0s 99us/sample - loss: 0.0901 - acc: 0.7498\n",
      "Epoch 7/10\n",
      "4000/4000 [==============================] - 0s 58us/sample - loss: 0.0897 - acc: 0.7513\n",
      "Epoch 8/10\n",
      "4000/4000 [==============================] - 0s 40us/sample - loss: 0.0890 - acc: 0.7558\n",
      "Epoch 9/10\n",
      "4000/4000 [==============================] - 0s 40us/sample - loss: 0.0888 - acc: 0.7533\n",
      "Epoch 10/10\n",
      "4000/4000 [==============================] - 0s 45us/sample - loss: 0.0879 - acc: 0.7520\n",
      "Train on 4000 samples\n",
      "Epoch 1/10\n",
      "4000/4000 [==============================] - 0s 39us/sample - loss: 0.0889 - acc: 0.7600\n",
      "Epoch 2/10\n",
      "4000/4000 [==============================] - 0s 37us/sample - loss: 0.0883 - acc: 0.7605\n",
      "Epoch 3/10\n",
      "4000/4000 [==============================] - 0s 49us/sample - loss: 0.0878 - acc: 0.7648\n",
      "Epoch 4/10\n",
      "4000/4000 [==============================] - 0s 42us/sample - loss: 0.0874 - acc: 0.7600\n",
      "Epoch 5/10\n",
      "4000/4000 [==============================] - 0s 47us/sample - loss: 0.0879 - acc: 0.7585\n",
      "Epoch 6/10\n",
      "4000/4000 [==============================] - 0s 46us/sample - loss: 0.0860 - acc: 0.7640\n",
      "Epoch 7/10\n",
      "4000/4000 [==============================] - 0s 48us/sample - loss: 0.0859 - acc: 0.7585\n",
      "Epoch 8/10\n",
      "4000/4000 [==============================] - 0s 44us/sample - loss: 0.0860 - acc: 0.7650\n",
      "Epoch 9/10\n",
      "4000/4000 [==============================] - 0s 40us/sample - loss: 0.0850 - acc: 0.7667\n",
      "Epoch 10/10\n",
      "4000/4000 [==============================] - 0s 39us/sample - loss: 0.0848 - acc: 0.7653\n",
      "Train on 4000 samples\n",
      "Epoch 1/10\n",
      "4000/4000 [==============================] - 0s 46us/sample - loss: 0.0859 - acc: 0.7645\n",
      "Epoch 2/10\n",
      "4000/4000 [==============================] - 0s 42us/sample - loss: 0.0850 - acc: 0.7635\n",
      "Epoch 3/10\n",
      "4000/4000 [==============================] - 0s 39us/sample - loss: 0.0846 - acc: 0.7630\n",
      "Epoch 4/10\n",
      "4000/4000 [==============================] - 0s 56us/sample - loss: 0.0839 - acc: 0.7670\n",
      "Epoch 5/10\n",
      "4000/4000 [==============================] - 0s 48us/sample - loss: 0.0840 - acc: 0.7688\n",
      "Epoch 6/10\n",
      "4000/4000 [==============================] - 0s 46us/sample - loss: 0.0838 - acc: 0.7688\n",
      "Epoch 7/10\n",
      "4000/4000 [==============================] - 0s 82us/sample - loss: 0.0829 - acc: 0.7703\n",
      "Epoch 8/10\n",
      "4000/4000 [==============================] - 0s 115us/sample - loss: 0.0831 - acc: 0.7670\n",
      "Epoch 9/10\n",
      "4000/4000 [==============================] - 0s 56us/sample - loss: 0.0826 - acc: 0.7678\n",
      "Epoch 10/10\n",
      "4000/4000 [==============================] - 0s 60us/sample - loss: 0.0819 - acc: 0.7703\n",
      "Train on 4000 samples\n",
      "Epoch 1/10\n",
      "4000/4000 [==============================] - 0s 95us/sample - loss: 0.0805 - acc: 0.76800s - loss: 0.0822 - acc: 0\n",
      "Epoch 2/10\n",
      "4000/4000 [==============================] - 0s 50us/sample - loss: 0.0802 - acc: 0.7675\n",
      "Epoch 3/10\n",
      "4000/4000 [==============================] - 0s 54us/sample - loss: 0.0796 - acc: 0.7678\n",
      "Epoch 4/10\n",
      "4000/4000 [==============================] - 0s 66us/sample - loss: 0.0794 - acc: 0.7715\n",
      "Epoch 5/10\n",
      "4000/4000 [==============================] - 0s 41us/sample - loss: 0.0786 - acc: 0.7710\n",
      "Epoch 6/10\n",
      "4000/4000 [==============================] - 0s 46us/sample - loss: 0.0784 - acc: 0.7717\n",
      "Epoch 7/10\n",
      "4000/4000 [==============================] - 0s 49us/sample - loss: 0.0783 - acc: 0.7722\n",
      "Epoch 8/10\n",
      "4000/4000 [==============================] - 0s 46us/sample - loss: 0.0779 - acc: 0.7715\n",
      "Epoch 9/10\n",
      "4000/4000 [==============================] - 0s 43us/sample - loss: 0.0778 - acc: 0.7688\n",
      "Epoch 10/10\n",
      "4000/4000 [==============================] - 0s 43us/sample - loss: 0.0774 - acc: 0.7728\n",
      "Train on 4000 samples\n",
      "Epoch 1/10\n",
      "4000/4000 [==============================] - 0s 38us/sample - loss: 0.0786 - acc: 0.7653\n",
      "Epoch 2/10\n",
      "4000/4000 [==============================] - 0s 46us/sample - loss: 0.0784 - acc: 0.7648\n",
      "Epoch 3/10\n",
      "4000/4000 [==============================] - 0s 58us/sample - loss: 0.0785 - acc: 0.7645\n",
      "Epoch 4/10\n",
      "4000/4000 [==============================] - 0s 50us/sample - loss: 0.0773 - acc: 0.7685\n",
      "Epoch 5/10\n",
      "4000/4000 [==============================] - 0s 43us/sample - loss: 0.0775 - acc: 0.7645\n",
      "Epoch 6/10\n",
      "4000/4000 [==============================] - 0s 43us/sample - loss: 0.0774 - acc: 0.7640\n",
      "Epoch 7/10\n",
      "4000/4000 [==============================] - 0s 40us/sample - loss: 0.0771 - acc: 0.7653\n",
      "Epoch 8/10\n",
      "4000/4000 [==============================] - 0s 44us/sample - loss: 0.0767 - acc: 0.7692\n",
      "Epoch 9/10\n",
      "4000/4000 [==============================] - 0s 49us/sample - loss: 0.0771 - acc: 0.7653\n",
      "Epoch 10/10\n",
      "4000/4000 [==============================] - 0s 38us/sample - loss: 0.0762 - acc: 0.7710\n",
      "Train on 4000 samples\n",
      "Epoch 1/10\n",
      "4000/4000 [==============================] - 0s 42us/sample - loss: 0.0770 - acc: 0.7690\n",
      "Epoch 2/10\n",
      "4000/4000 [==============================] - 0s 48us/sample - loss: 0.0771 - acc: 0.7685\n",
      "Epoch 3/10\n",
      "4000/4000 [==============================] - 0s 68us/sample - loss: 0.0758 - acc: 0.7705\n",
      "Epoch 4/10\n",
      "4000/4000 [==============================] - 0s 41us/sample - loss: 0.0758 - acc: 0.7678\n",
      "Epoch 5/10\n",
      "4000/4000 [==============================] - 0s 48us/sample - loss: 0.0761 - acc: 0.7692\n",
      "Epoch 6/10\n",
      "4000/4000 [==============================] - 0s 54us/sample - loss: 0.0756 - acc: 0.7728\n",
      "Epoch 7/10\n",
      "4000/4000 [==============================] - 0s 45us/sample - loss: 0.0755 - acc: 0.7730\n",
      "Epoch 8/10\n",
      "4000/4000 [==============================] - 0s 49us/sample - loss: 0.0752 - acc: 0.7715\n",
      "Epoch 9/10\n",
      "4000/4000 [==============================] - 0s 73us/sample - loss: 0.0750 - acc: 0.77300s - loss: 0.0724 - acc: 0.\n",
      "Epoch 10/10\n",
      "4000/4000 [==============================] - 0s 62us/sample - loss: 0.0751 - acc: 0.7680\n",
      "Train on 4000 samples\n",
      "Epoch 1/10\n",
      "4000/4000 [==============================] - 0s 61us/sample - loss: 0.0756 - acc: 0.7710\n",
      "Epoch 2/10\n",
      "4000/4000 [==============================] - 0s 83us/sample - loss: 0.0757 - acc: 0.7682\n",
      "Epoch 3/10\n",
      "4000/4000 [==============================] - 0s 55us/sample - loss: 0.0754 - acc: 0.7700\n",
      "Epoch 4/10\n",
      "4000/4000 [==============================] - 0s 57us/sample - loss: 0.0750 - acc: 0.7682\n",
      "Epoch 5/10\n",
      "4000/4000 [==============================] - 0s 52us/sample - loss: 0.0752 - acc: 0.7707\n",
      "Epoch 6/10\n",
      "4000/4000 [==============================] - 0s 64us/sample - loss: 0.0742 - acc: 0.7697\n",
      "Epoch 7/10\n",
      "4000/4000 [==============================] - 0s 43us/sample - loss: 0.0746 - acc: 0.7725\n",
      "Epoch 8/10\n",
      "4000/4000 [==============================] - 0s 35us/sample - loss: 0.0748 - acc: 0.7673\n",
      "Epoch 9/10\n",
      "4000/4000 [==============================] - 0s 33us/sample - loss: 0.0745 - acc: 0.7678\n",
      "Epoch 10/10\n",
      "4000/4000 [==============================] - 0s 43us/sample - loss: 0.0743 - acc: 0.7717\n"
     ]
    }
   ],
   "source": [
    "for i in range(10):\n",
    "    sample = data.sample(4000,weights = data[\"weights\"])\n",
    "\n",
    "    X_str = sample[\"init_state\"].values\n",
    "    X_clean = np.array([b.Board.str2arr(x) for x in X_str])\n",
    "\n",
    "    Y_value = sample[\"Value\"].values\n",
    "\n",
    "    X_final = np.stack([X_clean], axis=-1)\n",
    "    Y_final  = (Y_value+1)/2\n",
    "    model.fit(X_final, Y_final, epochs=10, verbose=1)"
   ]
  },
  {
   "cell_type": "code",
   "execution_count": 6,
   "metadata": {},
   "outputs": [],
   "source": [
    "model.save(\"./best_keras_model.tf\")"
   ]
  },
  {
   "cell_type": "code",
   "execution_count": 19,
   "metadata": {},
   "outputs": [
    {
     "data": {
      "image/png": "[encoded data removed]",
      "text/plain": [
       "<Figure size 720x1440 with 3 Axes>"
      ]
     },
     "metadata": {},
     "output_type": "display_data"
    },
    {
     "data": {
      "text/plain": [
       "array([[0.01714338, 0.        , 0.19384448]], dtype=float32)"
      ]
     },
     "execution_count": 19,
     "metadata": {},
     "output_type": "execute_result"
    }
   ],
   "source": [
    "filters = model.layers[1].get_weights()[0]\n",
    "f_min, f_max = filters.min(), filters.max()\n",
    "filters = (filters - f_min) / (f_max - f_min)\n",
    "n_filters, ix = 3 , 1\n",
    "\n",
    "fig, ax = plt.subplots(figsize=(10, 20))\n",
    "\n",
    "for i in range(n_filters):\n",
    "    # get the filter\n",
    "    f = filters[:, :, :, i]\n",
    "    # plot each channel separately\n",
    "    for j in range(1):\n",
    "        # specify subplot and turn of axis\n",
    "        ax = plt.subplot(n_filters, 3, ix)\n",
    "        ax.set_xticks([])\n",
    "        ax.set_yticks([])\n",
    "        # plot filter channel in grayscale\n",
    "        plt.imshow(f[:, :, j], cmap='RdBu', vmin = 0, vmax = 1)\n",
    "        ix += 1\n",
    "\n",
    "# show the figure\n",
    "plt.show()\n",
    "f[:, :, j]"
   ]
  },
  {
   "cell_type": "code",
   "execution_count": 8,
   "metadata": {},
   "outputs": [
    {
     "data": {
      "image/png": "[encoded data removed]",
      "text/plain": [
       "<IPython.core.display.Image object>"
      ]
     },
     "execution_count": 8,
     "metadata": {},
     "output_type": "execute_result"
    }
   ],
   "source": [
    "from IPython.display import Image\n",
    "Image(filename='img.png')"
   ]
  },
  {
   "cell_type": "code",
   "execution_count": 20,
   "metadata": {},
   "outputs": [
    {
     "data": {
      "image/png": "[encoded data removed]",
      "text/plain": [
       "<Figure size 432x288 with 3 Axes>"
      ]
     },
     "metadata": {},
     "output_type": "display_data"
    },
    {
     "data": {
      "text/plain": [
       "array([[0.        ],\n",
       "       [0.03141775],\n",
       "       [1.        ]], dtype=float32)"
      ]
     },
     "execution_count": 20,
     "metadata": {},
     "output_type": "execute_result"
    }
   ],
   "source": [
    "filters = model.layers[2].get_weights()[0]\n",
    "f_min, f_max = filters.min(), filters.max()\n",
    "filters = (filters - f_min) / (f_max - f_min)\n",
    "n_filters, ix = 3 , 1\n",
    "\n",
    "for i in range(n_filters):\n",
    "    # get the filter\n",
    "    f = filters[:, :, :, i]\n",
    "    # plot each channel separately\n",
    "    for j in range(1):\n",
    "        # specify subplot and turn of axis\n",
    "        ax = plt.subplot(n_filters, 3, ix)\n",
    "        ax.set_xticks([])\n",
    "        ax.set_yticks([])\n",
    "        # plot filter channel in grayscale\n",
    "        plt.imshow(f[:, :, j], cmap='RdBu', vmin = 0, vmax = 1)\n",
    "        ix += 1\n",
    "\n",
    "# show the figure\n",
    "plt.show()\n",
    "f[:, :, j]"
   ]
  },
  {
   "cell_type": "code",
   "execution_count": 21,
   "metadata": {
    "scrolled": false
   },
   "outputs": [
    {
     "data": {
      "image/png": "[encoded data removed]",
      "text/plain": [
       "<Figure size 720x1440 with 20 Axes>"
      ]
     },
     "metadata": {},
     "output_type": "display_data"
    },
    {
     "data": {
      "text/plain": [
       "array([[0.33283684, 0.9662614 , 0.24157165],\n",
       "       [0.38524592, 1.        , 0.62774825],\n",
       "       [0.5662831 , 0.7608908 , 0.46661878]], dtype=float32)"
      ]
     },
     "execution_count": 21,
     "metadata": {},
     "output_type": "execute_result"
    }
   ],
   "source": [
    "filters = model.layers[3].get_weights()[0]\n",
    "f_min, f_max = filters.min(), filters.max()\n",
    "filters = (filters - f_min) / (f_max - f_min)\n",
    "n_filters, ix = 20, 1\n",
    "\n",
    "fig, ax = plt.subplots(figsize=(10, 20))\n",
    "\n",
    "for i in range(n_filters):\n",
    "    # get the filter\n",
    "    f = filters[:, :, :, i]\n",
    "    # plot each channel separately\n",
    "    for j in range(1):\n",
    "        # specify subplot and turn of axis\n",
    "        ax = plt.subplot(n_filters, 3, ix)\n",
    "        ax.set_xticks([])\n",
    "        ax.set_yticks([])\n",
    "        # plot filter channel in grayscale\n",
    "        plt.imshow(f[:, :, j], cmap='RdBu', vmin = 0, vmax = 1)\n",
    "        ix += 1\n",
    "\n",
    "# show the figure\n",
    "\n",
    "\n",
    "plt.show()\n",
    "\n",
    "f[:, :, j]"
   ]
  },
  {
   "cell_type": "code",
   "execution_count": null,
   "metadata": {},
   "outputs": [],
   "source": [
    "test = np.array([[ 1,  0,  1],\n",
    "                 [ 1,  1,  -1],\n",
    "                 [ -1,  -1,  -1]])\n",
    "\n",
    "\n",
    "n_map = {-1:\"o\", 0: \" \", 1: \"x\"}\n",
    "\n",
    "str_state = ''.join([n_map[i] for i in test.reshape(9,)])\n",
    "str_state\n",
    "inp = np.stack([[test]], axis=-1)\n",
    "\n",
    "pred = model.predict(inp)\n",
    "print(\"x:\",pred)\n",
    "print(\"o:\",(1-pred))\n",
    "\n",
    "data[data[\"init_state\"]==str_state]"
   ]
  },
  {
   "cell_type": "code",
   "execution_count": null,
   "metadata": {},
   "outputs": [],
   "source": [
    "test = np.array([[ 1,  -1,  1],\n",
    "                 [ 1,  1,  -1],\n",
    "                 [ -1,  0,  -1]])\n",
    "\n",
    "\n",
    "n_map = {-1:\"o\", 0: \" \", 1: \"x\"}\n",
    "\n",
    "str_state = ''.join([n_map[i] for i in test.reshape(9,)])\n",
    "str_state\n",
    "inp = np.stack([[test]], axis=-1)\n",
    "\n",
    "pred = model.predict(inp)\n",
    "print(\"x:\",pred)\n",
    "print(\"o:\",(1-pred))\n",
    "\n",
    "data[data[\"init_state\"]==str_state]"
   ]
  },
  {
   "cell_type": "code",
   "execution_count": null,
   "metadata": {},
   "outputs": [],
   "source": [
    "test = np.array([[ 1,  0,  0],\n",
    "                 [ 0,  0, 0],\n",
    "                 [ 0,  0, 0]])\n",
    "\n",
    "\n",
    "\n",
    "n_map = {-1:\"o\", 0: \" \", 1: \"x\"}\n",
    "\n",
    "str_state = ''.join([n_map[i] for i in test.reshape(9,)])\n",
    "str_state\n",
    "inp = np.stack([[test]], axis=-1)\n",
    "\n",
    "pred = model.predict(inp)\n",
    "print(\"x:\",pred)\n",
    "print(\"o:\",(1-pred))\n",
    "\n",
    "data[data[\"init_state\"]==str_state]"
   ]
  },
  {
   "cell_type": "code",
   "execution_count": null,
   "metadata": {},
   "outputs": [],
   "source": [
    "test = np.array([[ 1,  0,  -1],\n",
    "                 [ 0,  0, 0],\n",
    "                 [ 0,  0, 0]])\n",
    "\n",
    "\n",
    "n_map = {-1:\"o\", 0: \" \", 1: \"x\"}\n",
    "\n",
    "str_state = ''.join([n_map[i] for i in test.reshape(9,)])\n",
    "str_state\n",
    "inp = np.stack([[test]], axis=-1)\n",
    "\n",
    "pred = model.predict(inp)\n",
    "print(\"x:\",pred)\n",
    "print(\"o:\",(1-pred))\n",
    "\n",
    "data[data[\"init_state\"]==str_state]"
   ]
  },
  {
   "cell_type": "code",
   "execution_count": null,
   "metadata": {},
   "outputs": [],
   "source": [
    "test = np.array([[ 0,  0,  0],\n",
    "                 [ 0,  -1, 0],\n",
    "                 [ 0,  0, 1]])\n",
    "\n",
    "\n",
    "\n",
    "n_map = {-1:\"o\", 0: \" \", 1: \"x\"}\n",
    "\n",
    "str_state = ''.join([n_map[i] for i in test.reshape(9,)])\n",
    "str_state\n",
    "inp = np.stack([[test]], axis=-1)\n",
    "\n",
    "pred = model.predict(inp)\n",
    "print(\"x:\",pred)\n",
    "print(\"o:\",(1-pred))\n",
    "\n",
    "data[data[\"init_state\"]==str_state]"
   ]
  },
  {
   "cell_type": "code",
   "execution_count": null,
   "metadata": {},
   "outputs": [],
   "source": [
    "test = np.array([[ 1,  1,  0],\n",
    "                 [ -1,  -1, -1],\n",
    "                 [ 0,  0, 1]])\n",
    "\n",
    "\n",
    "\n",
    "n_map = {-1:\"o\", 0: \" \", 1: \"x\"}\n",
    "\n",
    "str_state = ''.join([n_map[i] for i in test.reshape(9,)])\n",
    "str_state\n",
    "inp = np.stack([[test]], axis=-1)\n",
    "\n",
    "pred = model.predict(inp)\n",
    "print(\"x:\",pred)\n",
    "print(\"o:\",(1-pred))\n",
    "\n",
    "data[data[\"init_state\"]==str_state]"
   ]
  },
  {
   "cell_type": "code",
   "execution_count": null,
   "metadata": {},
   "outputs": [],
   "source": [
    "test = np.array([[ 1,  1,  -1],\n",
    "                 [ -1,  -1, 0],\n",
    "                 [ 0,  0, 1]])\n",
    "\n",
    "\n",
    "\n",
    "n_map = {-1:\"o\", 0: \" \", 1: \"x\"}\n",
    "\n",
    "str_state = ''.join([n_map[i] for i in test.reshape(9,)])\n",
    "str_state\n",
    "inp = np.stack([[test]], axis=-1)\n",
    "\n",
    "pred = model.predict(inp)\n",
    "print(\"x:\",pred)\n",
    "print(\"o:\",(1-pred))\n",
    "\n",
    "data[data[\"init_state\"]==str_state]"
   ]
  }
 ],
 "metadata": {
  "kernelspec": {
   "display_name": "Python 3",
   "language": "python",
   "name": "python3"
  },
  "language_info": {
   "codemirror_mode": {
    "name": "ipython",
    "version": 3
   },
   "file_extension": ".py",
   "mimetype": "text/x-python",
   "name": "python",
   "nbconvert_exporter": "python",
   "pygments_lexer": "ipython3",
   "version": "3.8.3"
  }
 },
 "nbformat": 4,
 "nbformat_minor": 4
}
