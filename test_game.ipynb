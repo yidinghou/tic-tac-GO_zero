{
 "cells": [
  {
   "cell_type": "code",
   "execution_count": 1,
   "metadata": {
    "scrolled": true
   },
   "outputs": [],
   "source": [
    "import os\n",
    "import numpy as np\n",
    "import board\n",
    "import pickle\n",
    "import board as Board\n",
    "import player\n",
    "import game\n",
    "from copy import deepcopy\n",
    "import mcts\n",
    "import matplotlib.pyplot as plt\n",
    "\n",
    "from neural_network import*"
   ]
  },
  {
   "cell_type": "code",
   "execution_count": 2,
   "metadata": {},
   "outputs": [],
   "source": [
    "player1 = player.Zero_Player('x', 'Bot_ZERO', nn_type=\"w\", temperature=1)\n",
    "player2 = player.Zero_Player('o', 'Bot_ZERO', nn_type=\"w\", temperature=1)\n",
    "players = [player1, player2]\n",
    "tree = mcts.MCTS()\n",
    "brd = Board.Board()\n",
    "\n",
    "test = np.array([[  0,   0,  0],\n",
    "                 [  0,   0,   0],\n",
    "                 [  0,   0,  0]])\n",
    "\n",
    "\n",
    "brd.board = test\n",
    "PATH = {\"path\":[]}\n",
    "\n",
    "\n",
    "# self_play_game = game.Game(player1, player2, tree)\n",
    "# self_play_game.board = brd\n",
    "# self_play_results = self_play_game.play(100)\n",
    "# cnn_model = CNN_Model()"
   ]
  },
  {
   "cell_type": "code",
   "execution_count": null,
   "metadata": {},
   "outputs": [],
   "source": [
    "train_data = update_nn_training_set(tree.EDGES, tree.TREE)"
   ]
  },
  {
   "cell_type": "code",
   "execution_count": null,
   "metadata": {},
   "outputs": [],
   "source": [
    "import keras\n",
    "from keras.layers import Input, Dense, Concatenate\n",
    "from keras.models import Sequential, Model\n",
    "from keras.layers import Dense, Conv1D, Flatten, Conv2D, MaxPooling1D, MaxPooling2D\n",
    "from keras.optimizers import SGD\n",
    "from keras import initializers\n",
    "from keras.regularizers import l2\n",
    "\n",
    "Input_1 = Input(shape=(3, 3, 1))\n",
    "\n",
    "x1 = Conv2D(filters=4, kernel_size=(1, 3), activation='relu',\n",
    "            kernel_regularizer=l2(0.0005),\n",
    "            kernel_initializer=initializers.RandomNormal(stddev=0.1, mean=0),\n",
    "            input_shape=(3, 3, 1))(Input_1)\n",
    "\n",
    "x2 = Conv2D(filters=4, kernel_size=(3, 1), activation='relu',\n",
    "            kernel_regularizer=l2(0.0005),\n",
    "            kernel_initializer=initializers.RandomNormal(stddev=0.1, mean=0),\n",
    "            input_shape=(3, 3, 1))(Input_1)\n",
    "\n",
    "x3 = Conv2D(filters=16, kernel_size=(3, 3), activation='relu',\n",
    "            kernel_regularizer=l2(0.0005),\n",
    "            kernel_initializer=initializers.RandomNormal(stddev=0.1, mean=0),\n",
    "            input_shape=(3, 3, 1))(Input_1)\n",
    "\n",
    "x1 = MaxPooling2D((3, 1))(x1)\n",
    "x2 = MaxPooling2D((1, 3))(x2)\n",
    "x3 = MaxPooling2D((1, 1))(x3)\n",
    "\n",
    "x = Concatenate()([x1, x2, x3])\n",
    "x = Flatten()(x)\n",
    "\n",
    "value_head = Dense(10, activation='relu')(x)\n",
    "value_head = Dense(1, activation='relu', name=\"V\")(value_head)\n",
    "\n",
    "policy_head = Dense(90, activation='relu')(x)\n",
    "policy_head = Dense(10, activation='softmax', name=\"P\")(policy_head)\n",
    "\n",
    "model = Model(inputs=Input_1, outputs=[value_head, policy_head])\n",
    "opt = SGD(lr=0.01, momentum=0.09)\n",
    "model.compile(optimizer=\"adam\",\n",
    "              loss={\"V\": \"mse\", \"P\":\"categorical_crossentropy\"},\n",
    "              loss_weights = [.9,.1],\n",
    "              metrics=['acc'])\n"
   ]
  },
  {
   "cell_type": "code",
   "execution_count": null,
   "metadata": {
    "scrolled": true
   },
   "outputs": [],
   "source": [
    "X_clean = train_data[0]\n",
    "Y_value = train_data[1]\n",
    "# values are between 0 and 1, multiply by 2 to get range(0,2)\n",
    "targets = (Y_value * 2).round()\n",
    "Y_value_one_hot = np.eye(3)[targets.astype(int)]\n",
    "\n",
    "Y_policy = train_data[2]\n",
    "\n",
    "X_final = np.stack([X_clean], axis=-1)\n",
    "model.fit(X_final, [Y_value, Y_policy], epochs=100, verbose=1)"
   ]
  },
  {
   "cell_type": "code",
   "execution_count": null,
   "metadata": {},
   "outputs": [],
   "source": [
    "Y_policy[0]"
   ]
  },
  {
   "cell_type": "code",
   "execution_count": null,
   "metadata": {},
   "outputs": [],
   "source": [
    "Y_value[0]"
   ]
  },
  {
   "cell_type": "code",
   "execution_count": 67,
   "metadata": {},
   "outputs": [],
   "source": [
    "model = keras.models.load_model(\"./best_keras_model.tf\")"
   ]
  },
  {
   "cell_type": "code",
   "execution_count": 41,
   "metadata": {},
   "outputs": [],
   "source": [
    "player1.keras_nn = model\n",
    "player2.keras_nn = model"
   ]
  },
  {
   "cell_type": "code",
   "execution_count": 5,
   "metadata": {},
   "outputs": [
    {
     "data": {
      "text/plain": [
       "(1, 0, 1)"
      ]
     },
     "execution_count": 5,
     "metadata": {},
     "output_type": "execute_result"
    }
   ],
   "source": [
    "test = np.array([[  0,   0,  0],\n",
    "                 [  0,   0,  0],\n",
    "                 [  0,   0,  0]])\n",
    "\n",
    "brd = Board.Board()\n",
    "brd.board = test\n",
    "player1.keras_nn = model\n",
    "player1.nn_turn(brd)"
   ]
  },
  {
   "cell_type": "code",
   "execution_count": null,
   "metadata": {},
   "outputs": [],
   "source": [
    "test = np.array([[  0,   0,  0],\n",
    "                 [  1,   0,  0],\n",
    "                 [  0,   0,  -1]])\n",
    "\n",
    "brd = Board.Board()\n",
    "brd.board = test\n",
    "player2.keras_nn = model\n",
    "player2.nn_turn(brd)"
   ]
  },
  {
   "cell_type": "code",
   "execution_count": null,
   "metadata": {},
   "outputs": [],
   "source": [
    "test = np.array([[  0,   0,  0],\n",
    "                 [  0,   0,  0],\n",
    "                 [  0,   0,  0]])\n",
    "\n",
    "brd = Board.Board()\n",
    "brd.board = test\n",
    "player1.keras_nn = model\n",
    "player1.nn_turn(brd)"
   ]
  },
  {
   "cell_type": "code",
   "execution_count": null,
   "metadata": {},
   "outputs": [],
   "source": [
    "test = np.array([[  -1,   0,  1],\n",
    "                 [  0,   -1,   0],\n",
    "                 [  1,   -1,  1]])\n",
    "\n",
    "brd = Board.Board()\n",
    "brd.board = test\n",
    "player1.keras_nn = model\n",
    "player1.nn_turn(brd)"
   ]
  },
  {
   "cell_type": "code",
   "execution_count": 6,
   "metadata": {},
   "outputs": [],
   "source": [
    "from statistics import *"
   ]
  },
  {
   "cell_type": "code",
   "execution_count": 68,
   "metadata": {},
   "outputs": [
    {
     "name": "stdout",
     "output_type": "stream",
     "text": [
      "[[-1  1  0]\n",
      " [ 0  1  0]\n",
      " [ 0 -1  0]]\n",
      "0.76\n",
      "[[ 0  0  0]\n",
      " [ 1  1 -1]\n",
      " [-1  0  0]]\n",
      "0.67\n",
      "[[ 0 -1  0]\n",
      " [ 0  1  0]\n",
      " [ 0  1 -1]]\n",
      "0.68\n",
      "[[ 0  0 -1]\n",
      " [-1  1  1]\n",
      " [ 0  0  0]]\n",
      "0.64\n",
      "[[ 0  1 -1]\n",
      " [ 0  1  0]\n",
      " [ 0 -1  0]]\n",
      "0.69\n",
      "[[ 0  0  0]\n",
      " [-1  1  1]\n",
      " [ 0  0 -1]]\n",
      "0.7\n",
      "[[ 0 -1  0]\n",
      " [ 0  1  0]\n",
      " [-1  1  0]]\n",
      "0.68\n",
      "[[-1  0  0]\n",
      " [ 1  1 -1]\n",
      " [ 0  0  0]]\n",
      "0.64\n",
      "0.6800000071525574 0.6825\n",
      "0.3199999928474426 0.317500002682209\n"
     ]
    }
   ],
   "source": [
    "test = np.array([[  -1,   1,  0],\n",
    "                 [  0,   1,  0],\n",
    "                 [  0,   -1,  0]])\n",
    "\n",
    "# test = np.array([[  1,   -1,  0],\n",
    "#                  [  0,   -1,  0],\n",
    "#                  [  0,   0,  1]])\n",
    "\n",
    "n_map = {-1:\"o\", 0: \" \", 1: \"x\"}\n",
    "\n",
    "str_state = ''.join([n_map[i] for i in test.reshape(9,)])\n",
    "\n",
    "p1_win = []\n",
    "p2_win = []\n",
    "\n",
    "for brd in mcts.create_symmetry(test):\n",
    "    print(brd)\n",
    "    pred = model.predict(np.stack([[brd]], axis=-1))[0].round(2)[0][0]\n",
    "    print(pred)\n",
    "    p1_win.append(pred)\n",
    "    p2_win.append(1-pred)\n",
    "\n",
    "print(median(p1_win), mean(p1_win))\n",
    "print(median(p2_win), mean(p2_win))"
   ]
  },
  {
   "cell_type": "code",
   "execution_count": 70,
   "metadata": {},
   "outputs": [
    {
     "name": "stdout",
     "output_type": "stream",
     "text": [
      "[[-1  1  0]\n",
      " [-1  1  0]\n",
      " [ 0  0  0]]\n",
      "0.72\n",
      "[[ 0  0  0]\n",
      " [ 1  1  0]\n",
      " [-1 -1  0]]\n",
      "0.72\n",
      "[[ 0  0  0]\n",
      " [ 0  1 -1]\n",
      " [ 0  1 -1]]\n",
      "0.86\n",
      "[[ 0 -1 -1]\n",
      " [ 0  1  1]\n",
      " [ 0  0  0]]\n",
      "0.79\n",
      "[[ 0  1 -1]\n",
      " [ 0  1 -1]\n",
      " [ 0  0  0]]\n",
      "0.91\n",
      "[[ 0  0  0]\n",
      " [ 0  1  1]\n",
      " [ 0 -1 -1]]\n",
      "0.69\n",
      "[[ 0  0  0]\n",
      " [-1  1  0]\n",
      " [-1  1  0]]\n",
      "0.74\n",
      "[[-1 -1  0]\n",
      " [ 1  1  0]\n",
      " [ 0  0  0]]\n",
      "0.73\n",
      "0.7350000143051147 0.77000004\n",
      "0.26499998569488525 0.22999998182058334\n"
     ]
    }
   ],
   "source": [
    "test = np.array([[  -1,   1,  0],\n",
    "                 [  -1,   1,  0],\n",
    "                 [  0,   0,  0]])\n",
    "\n",
    "# test = np.array([[  1,   0,  -1],\n",
    "#                  [  0,   -1,  0],\n",
    "#                  [  0,   0,  1]])\n",
    "\n",
    "n_map = {-1:\"o\", 0: \" \", 1: \"x\"}\n",
    "\n",
    "str_state = ''.join([n_map[i] for i in test.reshape(9,)])\n",
    "\n",
    "p1_win = []\n",
    "p2_win = []\n",
    "\n",
    "for brd in mcts.create_symmetry(test):\n",
    "    print(brd)\n",
    "    pred = model.predict(np.stack([[brd]], axis=-1))[0].round(2)[0][0]\n",
    "    print(pred)\n",
    "    p1_win.append(pred)\n",
    "    p2_win.append(1-pred)\n",
    "\n",
    "print(median(p1_win), mean(p1_win))\n",
    "print(median(p2_win), mean(p2_win))"
   ]
  },
  {
   "cell_type": "code",
   "execution_count": 57,
   "metadata": {},
   "outputs": [],
   "source": [
    "tree = mcts.MCTS()\n",
    "tree.load_tree_edges()"
   ]
  },
  {
   "cell_type": "code",
   "execution_count": 60,
   "metadata": {},
   "outputs": [
    {
     "data": {
      "text/plain": [
       "(0.5361216730038023, 0.515318986715398, 263, 'ox  x  o ')"
      ]
     },
     "execution_count": 60,
     "metadata": {},
     "output_type": "execute_result"
    }
   ],
   "source": [
    "tree.TREE[str_state].Q, tree.TREE[str_state].PUCT, tree.TREE[str_state].N, str_state"
   ]
  },
  {
   "cell_type": "code",
   "execution_count": 58,
   "metadata": {},
   "outputs": [
    {
     "data": {
      "text/plain": [
       "(0.8015873015873016, 0.27834090075042023, 189, 'ox ox    ')"
      ]
     },
     "execution_count": 58,
     "metadata": {},
     "output_type": "execute_result"
    }
   ],
   "source": [
    "tree.TREE[str_state].Q, tree.TREE[str_state].PUCT, tree.TREE[str_state].N, str_state"
   ]
  },
  {
   "cell_type": "code",
   "execution_count": null,
   "metadata": {},
   "outputs": [],
   "source": [
    "tree.TREE"
   ]
  },
  {
   "cell_type": "code",
   "execution_count": null,
   "metadata": {},
   "outputs": [],
   "source": [
    "\n",
    "test = np.array([[  -1,   0,  -1],\n",
    "                 [  1,   1,   0],\n",
    "                 [  0,   0,  0]])\n",
    "\n",
    "model.predict(np.stack([[test]], axis=-1))[0].round(2)"
   ]
  },
  {
   "cell_type": "code",
   "execution_count": 71,
   "metadata": {
    "scrolled": true
   },
   "outputs": [
    {
     "data": {
      "image/png": "[encoded data removed]",
      "text/plain": [
       "<Figure size 720x1440 with 4 Axes>"
      ]
     },
     "metadata": {},
     "output_type": "display_data"
    },
    {
     "data": {
      "text/plain": [
       "array([[0.8304259, 0.8044845, 0.       ]], dtype=float32)"
      ]
     },
     "execution_count": 71,
     "metadata": {},
     "output_type": "execute_result"
    }
   ],
   "source": [
    "filters = model.layers[1].get_weights()[0]\n",
    "f_min, f_max = filters.min(), filters.max()\n",
    "filters = (filters - f_min) / (f_max - f_min)\n",
    "n_filters, ix = 4 , 1\n",
    "\n",
    "fig, ax = plt.subplots(figsize=(10, 20))\n",
    "\n",
    "for i in range(n_filters):\n",
    "    # get the filter\n",
    "    f = filters[:, :, :, i]\n",
    "    # plot each channel separately\n",
    "    for j in range(1):\n",
    "        # specify subplot and turn of axis\n",
    "        ax = plt.subplot(n_filters, 3, ix)\n",
    "        ax.set_xticks([])\n",
    "        ax.set_yticks([])\n",
    "        # plot filter channel in grayscale\n",
    "        plt.imshow(f[:, :, j], cmap='RdBu', vmin = 0, vmax = 1)\n",
    "        ix += 1\n",
    "\n",
    "# show the figure\n",
    "plt.show()\n",
    "f[:, :, j]"
   ]
  },
  {
   "cell_type": "code",
   "execution_count": 73,
   "metadata": {},
   "outputs": [
    {
     "data": {
      "image/png": "[encoded data removed]",
      "text/plain": [
       "<Figure size 720x1440 with 4 Axes>"
      ]
     },
     "metadata": {},
     "output_type": "display_data"
    },
    {
     "data": {
      "text/plain": [
       "array([[1.        ],\n",
       "       [0.26712948],\n",
       "       [0.26578534]], dtype=float32)"
      ]
     },
     "execution_count": 73,
     "metadata": {},
     "output_type": "execute_result"
    }
   ],
   "source": [
    "filters = model.layers[2].get_weights()[0]\n",
    "f_min, f_max = filters.min(), filters.max()\n",
    "filters = (filters - f_min) / (f_max - f_min)\n",
    "n_filters, ix = 4 , 1\n",
    "\n",
    "fig, ax = plt.subplots(figsize=(10, 20))\n",
    "\n",
    "for i in range(n_filters):\n",
    "    # get the filter\n",
    "    f = filters[:, :, :, i]\n",
    "    # plot each channel separately\n",
    "    for j in range(1):\n",
    "        # specify subplot and turn of axis\n",
    "        ax = plt.subplot(n_filters, 3, ix)\n",
    "        ax.set_xticks([])\n",
    "        ax.set_yticks([])\n",
    "        # plot filter channel in grayscale\n",
    "        plt.imshow(f[:, :, j], cmap='RdBu', vmin = 0, vmax = 1)\n",
    "        ix += 1\n",
    "\n",
    "# show the figure\n",
    "plt.show()\n",
    "f[:, :, j]"
   ]
  },
  {
   "cell_type": "code",
   "execution_count": 76,
   "metadata": {},
   "outputs": [
    {
     "data": {
      "image/png": "[encoded data removed]",
      "text/plain": [
       "<Figure size 720x1440 with 16 Axes>"
      ]
     },
     "metadata": {},
     "output_type": "display_data"
    },
    {
     "data": {
      "text/plain": [
       "array([[0.84207964, 0.82427305, 0.13376746],\n",
       "       [0.9133414 , 0.51616204, 0.84579164],\n",
       "       [0.1956402 , 0.8450661 , 0.7289427 ]], dtype=float32)"
      ]
     },
     "execution_count": 76,
     "metadata": {},
     "output_type": "execute_result"
    }
   ],
   "source": [
    "filters = model.layers[3].get_weights()[0]\n",
    "f_min, f_max = filters.min(), filters.max()\n",
    "filters = (filters - f_min) / (f_max - f_min)\n",
    "n_filters, ix = 16 , 1\n",
    "\n",
    "fig, ax = plt.subplots(figsize=(10, 20))\n",
    "\n",
    "for i in range(n_filters):\n",
    "    # get the filter\n",
    "    f = filters[:, :, :, i]\n",
    "    # plot each channel separately\n",
    "    for j in range(1):\n",
    "        # specify subplot and turn of axis\n",
    "        ax = plt.subplot(n_filters, 3, ix)\n",
    "        ax.set_xticks([])\n",
    "        ax.set_yticks([])\n",
    "        # plot filter channel in grayscale\n",
    "        plt.imshow(f[:, :, j], cmap='RdBu', vmin = 0, vmax = 1)\n",
    "        ix += 1\n",
    "\n",
    "# show the figure\n",
    "plt.show()\n",
    "f[:, :, j]"
   ]
  }
 ],
 "metadata": {
  "kernelspec": {
   "display_name": "Python 3",
   "language": "python",
   "name": "python3"
  },
  "language_info": {
   "codemirror_mode": {
    "name": "ipython",
    "version": 3
   },
   "file_extension": ".py",
   "mimetype": "text/x-python",
   "name": "python",
   "nbconvert_exporter": "python",
   "pygments_lexer": "ipython3",
   "version": "3.8.3"
  },
  "toc": {
   "base_numbering": 1,
   "nav_menu": {},
   "number_sections": true,
   "sideBar": true,
   "skip_h1_title": false,
   "title_cell": "Table of Contents",
   "title_sidebar": "Contents",
   "toc_cell": false,
   "toc_position": {},
   "toc_section_display": true,
   "toc_window_display": false
  }
 },
 "nbformat": 4,
 "nbformat_minor": 2
}
